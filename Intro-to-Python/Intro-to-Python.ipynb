{
 "cells": [
  {
   "cell_type": "markdown",
   "metadata": {
    "id": "anewbkgcRSmQ",
    "tags": []
   },
   "source": [
    "# A Minimal Introduction to Python for ML\n",
    "\n",
    "These notes are intended as an introduction to the minimal Python skills recommended for its use in machine learning.\n",
    "\n",
    "This is not an attempt to provide a comprehensive introduction to Python. A more comprehensive introduction can be found at [The Python Tutorial](https://docs.python.org/3/tutorial/index.html) by the The Python Software Foundation. Most relevant to the content below are the following sections:\n",
    "\n",
    "> 3) An Informal Introduction to Python\n",
    ">\n",
    "> 4) More Control Flow Tools\n",
    ">\n",
    "> 5) Data Structures (5.1, 5.5-6)\n",
    ">\n",
    "> 6) Modules (beginning and 6.4)\n",
    ">\n",
    "> 7) Input and Output (7.2)\n",
    ">\n",
    "> 9) Classes (9.1, 9.3, 9.9)\n",
    ">\n",
    "> 10) Brief Tour of the Standard Library (10.6)\n",
    ">\n",
    "> 12) Virtual Environments and Packages\n",
    "\n",
    "In addition to base Python, we have some additional content on some very powerful libraries that help with machine learning:\n",
    "\n",
    "* `NumPy` for math and multidimensional arrays\n",
    "* `matplotlib` for plotting\n",
    "\n",
    "We do not cover Python installation: this is pretty straightforward with [Anaconda](https://www.anaconda.com) or unnecessary with [Google Colab](http://colab.research.google.com). There are many other options; for example, PyCharm, Visual Studio Code, Eclipse + PyDev, etc.\n",
    "\n",
    "The notes below are ideal for readers who have experience with some programming language; for example, C++, MATLAB, Java, etc."
   ]
  },
  {
   "cell_type": "markdown",
   "metadata": {
    "id": "PxIA7JeJSDuZ"
   },
   "source": [
    "## Variables"
   ]
  },
  {
   "cell_type": "code",
   "execution_count": null,
   "metadata": {
    "colab": {
     "base_uri": "https://localhost:8080/"
    },
    "executionInfo": {
     "elapsed": 151,
     "status": "ok",
     "timestamp": 1642456874532,
     "user": {
      "displayName": "Ryan White",
      "photoUrl": "https://lh3.googleusercontent.com/a-/AOh14GgXOYdz_5YlXopkn8sI4BuzfiuHOCSLhGAEQAxf=s64",
      "userId": "02166703561655978824"
     },
     "user_tz": 300
    },
    "id": "pcnQm213CUq8",
    "outputId": "15a7b5dc-7dae-402c-e1f7-f16c50620919",
    "tags": []
   },
   "outputs": [
    {
     "name": "stdout",
     "output_type": "stream",
     "text": [
      "The type of x1 is <class 'str'>\n",
      "The type of x2 is <class 'int'>\n",
      "The type of x3 is <class 'int'>\n",
      "x4 is 5\n",
      "The type of x4 is <class 'int'>\n",
      "5\n",
      "The type of x5 is <class 'str'>\n",
      "The type of x6 is <class 'list'>\n",
      "The type of x7 is <class 'tuple'>\n"
     ]
    }
   ],
   "source": [
    "x1 = 'string'\n",
    "print('The type of x1 is', type(x1))\n",
    "\n",
    "x2 = 5\n",
    "print('The type of x2 is', type(x2))\n",
    "\n",
    "x3 = 5.5\n",
    "print('The type of x3 is', type(x2))\n",
    "\n",
    "x4 = int(x3)\n",
    "print('x4 is', x4)\n",
    "print('The type of x4 is', type(x4))\n",
    "\n",
    "x5 = str(x2)\n",
    "print(x5)\n",
    "print('The type of x5 is', type(x5))\n",
    "\n",
    "x6 = [3, 4, 1]\n",
    "print('The type of x6 is', type(x6))\n",
    "\n",
    "x7 = (3, 4, 1)\n",
    "print('The type of x7 is', type(x7))"
   ]
  },
  {
   "cell_type": "markdown",
   "metadata": {
    "id": "Cg7Qw8mOSHBk"
   },
   "source": [
    "## Lists\n",
    "\n",
    "Lists are "
   ]
  },
  {
   "cell_type": "code",
   "execution_count": null,
   "metadata": {
    "colab": {
     "base_uri": "https://localhost:8080/"
    },
    "executionInfo": {
     "elapsed": 153,
     "status": "ok",
     "timestamp": 1641006840029,
     "user": {
      "displayName": "Ryan White",
      "photoUrl": "https://lh3.googleusercontent.com/a-/AOh14GgXOYdz_5YlXopkn8sI4BuzfiuHOCSLhGAEQAxf=s64",
      "userId": "02166703561655978824"
     },
     "user_tz": 300
    },
    "id": "PZpPlInVaKqw",
    "outputId": "92187718-ead9-420f-ca32-e7da9e10c1dc"
   },
   "outputs": [
    {
     "name": "stdout",
     "output_type": "stream",
     "text": [
      "[1, 2, 3, 1, 2, 3, 1, 2, 3, 1, 2, 3]\n",
      "[1, 2, 3, 4]\n",
      "[1, 2, 3, 4, 5]\n"
     ]
    }
   ],
   "source": [
    "my_list = [1, 2, 3]\n",
    "\n",
    "# create a list made up of 4 copies of the original list\n",
    "three_lists = 4 * my_list\n",
    "\n",
    "# print the new list\n",
    "print(three_lists)\n",
    "\n",
    "# append a 4 into the list\n",
    "my_list.append(4)\n",
    "\n",
    "# print the new list\n",
    "print(my_list)\n",
    "\n",
    "# append a 5 into the list\n",
    "my_list.append(5)\n",
    "\n",
    "# print the new list\n",
    "print(my_list)"
   ]
  },
  {
   "cell_type": "markdown",
   "metadata": {
    "id": "XYnbPfpFSG-L"
   },
   "source": [
    "## Flow Control"
   ]
  },
  {
   "cell_type": "markdown",
   "metadata": {
    "id": "wcYv-W9ImUi8"
   },
   "source": [
    "### `if` Statements"
   ]
  },
  {
   "cell_type": "code",
   "execution_count": null,
   "metadata": {
    "colab": {
     "base_uri": "https://localhost:8080/"
    },
    "executionInfo": {
     "elapsed": 218,
     "status": "ok",
     "timestamp": 1642557983877,
     "user": {
      "displayName": "Ryan White",
      "photoUrl": "https://lh3.googleusercontent.com/a-/AOh14GgXOYdz_5YlXopkn8sI4BuzfiuHOCSLhGAEQAxf=s64",
      "userId": "02166703561655978824"
     },
     "user_tz": 300
    },
    "id": "_s0GIGCSm3y5",
    "outputId": "1795675e-1fa6-4f4b-d192-945cacc59a87"
   },
   "outputs": [
    {
     "name": "stdout",
     "output_type": "stream",
     "text": [
      "my_string does not start with the letter h\n",
      "The first letter of my_string is y\n"
     ]
    }
   ],
   "source": [
    "my_string = 'yellow'\n",
    "\n",
    "if my_string[0] == 'h':\n",
    "    print('my_string starts with the letter h')\n",
    "    \n",
    "else:\n",
    "    print('my_string does not start with the letter h')\n",
    "    print('The first letter of my_string is', my_string[0])"
   ]
  },
  {
   "cell_type": "markdown",
   "metadata": {
    "id": "npMhclLfmUPF"
   },
   "source": [
    "### Loops"
   ]
  },
  {
   "cell_type": "code",
   "execution_count": null,
   "metadata": {
    "colab": {
     "base_uri": "https://localhost:8080/"
    },
    "executionInfo": {
     "elapsed": 197,
     "status": "ok",
     "timestamp": 1641006535116,
     "user": {
      "displayName": "Ryan White",
      "photoUrl": "https://lh3.googleusercontent.com/a-/AOh14GgXOYdz_5YlXopkn8sI4BuzfiuHOCSLhGAEQAxf=s64",
      "userId": "02166703561655978824"
     },
     "user_tz": 300
    },
    "id": "juJG4Kfhm9JY",
    "outputId": "11f8805f-458a-4d1f-b398-70ca731acc8b"
   },
   "outputs": [
    {
     "name": "stdout",
     "output_type": "stream",
     "text": [
      "0\n",
      "1\n",
      "2\n",
      "3\n",
      "4\n"
     ]
    }
   ],
   "source": [
    "for x in range(5):\n",
    "    print(x)"
   ]
  },
  {
   "cell_type": "code",
   "execution_count": null,
   "metadata": {
    "colab": {
     "base_uri": "https://localhost:8080/"
    },
    "executionInfo": {
     "elapsed": 144,
     "status": "ok",
     "timestamp": 1641007618538,
     "user": {
      "displayName": "Ryan White",
      "photoUrl": "https://lh3.googleusercontent.com/a-/AOh14GgXOYdz_5YlXopkn8sI4BuzfiuHOCSLhGAEQAxf=s64",
      "userId": "02166703561655978824"
     },
     "user_tz": 300
    },
    "id": "y2e64W_GmaMr",
    "outputId": "0a338709-8269-4b6e-e887-f4c5a98fd919"
   },
   "outputs": [
    {
     "name": "stdout",
     "output_type": "stream",
     "text": [
      "3\n",
      "1\n",
      "4\n",
      "[3, 1, 4]\n"
     ]
    }
   ],
   "source": [
    "my_list = [6, 2, 8]\n",
    "\n",
    "# print half of each number in my_list\n",
    "for x in my_list:\n",
    "    print(x // 2)\n",
    "\n",
    "# create a list consisting of half of each number in my_list\n",
    "print([x // 2 for x in my_list])"
   ]
  },
  {
   "cell_type": "markdown",
   "metadata": {
    "id": "Uqr4ZQPuocTx"
   },
   "source": [
    "### Exercises\n",
    "\n",
    "1. Write a loop that extracts the first $n$ digits of $\\pi$ as integers.\n",
    "\n",
    "2. Write a loop to estimate $e^x$ as the sum of the first $n$ terms of the Taylor series expansion $e^x\\approx\\sum\\limits_{i=0}^n \\frac{x^i}{i!}$"
   ]
  },
  {
   "cell_type": "markdown",
   "metadata": {
    "id": "5WKel8GHSG8Q"
   },
   "source": [
    "## Functions\n",
    "\n",
    "Functions are blocks of reusable code that can run whenever they are called. They may or may not have input parameters and return some outputs.\n",
    "\n",
    "### `print` function\n",
    "\n",
    "The `print` function in Python is one of the simplest built-in functions. It takes input parameters and displays them, separated by spaces by default.\n",
    "\n",
    "To run it, we type `print(inputs)` where `inputs` is the thing or things we want to print. Some examples:"
   ]
  },
  {
   "cell_type": "code",
   "execution_count": null,
   "metadata": {
    "colab": {
     "base_uri": "https://localhost:8080/"
    },
    "executionInfo": {
     "elapsed": 154,
     "status": "ok",
     "timestamp": 1640984871784,
     "user": {
      "displayName": "Ryan White",
      "photoUrl": "https://lh3.googleusercontent.com/a-/AOh14GgXOYdz_5YlXopkn8sI4BuzfiuHOCSLhGAEQAxf=s64",
      "userId": "02166703561655978824"
     },
     "user_tz": 300
    },
    "id": "Pq_zguwcTyVs",
    "outputId": "ec6d5eb1-e233-44fd-d807-7c917332cbb1"
   },
   "outputs": [
    {
     "name": "stdout",
     "output_type": "stream",
     "text": [
      "Hello, World!\n",
      "4\n",
      "[4, 2, 5]\n",
      "4\n",
      "7\n",
      "The sum of 4 and 3 is 7\n"
     ]
    }
   ],
   "source": [
    "# print a string <- when a line starts with #, the text is treated as a comment.\n",
    "#                   It is best practice to use comments to describe your code.\n",
    "print('Hello, World!')\n",
    "\n",
    "# print a number\n",
    "print(4)\n",
    "\n",
    "# print a list\n",
    "print([4, 2, 5])\n",
    "\n",
    "# print a variable\n",
    "a = 4\n",
    "print(a)\n",
    "\n",
    "# print a sum of two variables\n",
    "b = 3\n",
    "print(a + b)\n",
    "\n",
    "# print a mixture of numbers, their sum, and strings\n",
    "print('The sum of', a, 'and', b, 'is', a + b)"
   ]
  },
  {
   "cell_type": "markdown",
   "metadata": {
    "id": "kKKyG499X7O8"
   },
   "source": [
    "### Custom Functions\n",
    "\n",
    "Python has many useful built-in functions, but we will frequently want to write our own custom functions--usually whenever we have some code we want to reuse.\n",
    "\n",
    "Suppose we want to make a function called `add` that adds two inputs `a` and `b` and returns the result.\n",
    "\n",
    "To create a function, we write `def` and then the function's name `add`, followed by parenthesis with the two input parameters it requires, and a colon `:`. All lines below this, as long as they are indented one level, will be run:"
   ]
  },
  {
   "cell_type": "code",
   "execution_count": null,
   "metadata": {
    "colab": {
     "base_uri": "https://localhost:8080/"
    },
    "executionInfo": {
     "elapsed": 193,
     "status": "ok",
     "timestamp": 1641002852648,
     "user": {
      "displayName": "Ryan White",
      "photoUrl": "https://lh3.googleusercontent.com/a-/AOh14GgXOYdz_5YlXopkn8sI4BuzfiuHOCSLhGAEQAxf=s64",
      "userId": "02166703561655978824"
     },
     "user_tz": 300
    },
    "id": "L4rCy3wJYXkG",
    "outputId": "4d91dc65-bec2-4e07-e9e6-7b6abc30949d"
   },
   "outputs": [
    {
     "name": "stdout",
     "output_type": "stream",
     "text": [
      "hi\n"
     ]
    }
   ],
   "source": [
    "def add(a, b):\n",
    "    # this code runs when the function is called\n",
    "    print('Adding', a, 'and', b, '...')\n",
    "    return a + b\n",
    "\n",
    "# this code does NOT run when the function is called\n",
    "print('hi')"
   ]
  },
  {
   "cell_type": "markdown",
   "metadata": {
    "id": "Spw7jjjBY-nS"
   },
   "source": [
    "Note we have defined the function and run the code block where it was defined, but we did not call the function. We can call our `add` function with any two valid inputs for which addition is defined:"
   ]
  },
  {
   "cell_type": "code",
   "execution_count": null,
   "metadata": {
    "colab": {
     "base_uri": "https://localhost:8080/"
    },
    "executionInfo": {
     "elapsed": 169,
     "status": "ok",
     "timestamp": 1641005043704,
     "user": {
      "displayName": "Ryan White",
      "photoUrl": "https://lh3.googleusercontent.com/a-/AOh14GgXOYdz_5YlXopkn8sI4BuzfiuHOCSLhGAEQAxf=s64",
      "userId": "02166703561655978824"
     },
     "user_tz": 300
    },
    "id": "V8ZVQUtWZhnB",
    "outputId": "f54be661-6cdf-423b-bbf7-867fbaeb788f"
   },
   "outputs": [
    {
     "name": "stdout",
     "output_type": "stream",
     "text": [
      "Adding 3 and 4 ...\n",
      "7 \n",
      "\n",
      "Adding Machine and Learning ...\n",
      "MachineLearning \n",
      "\n",
      "Adding [1, 2, 3] and [4, 5, 6] ...\n",
      "[1, 2, 3, 4, 5, 6]\n"
     ]
    }
   ],
   "source": [
    "# add two numbers\n",
    "sum = add(3, 4)\n",
    "\n",
    "# print the result and skip a line\n",
    "print(sum, '\\n')\n",
    "\n",
    "# add two strings\n",
    "sum = add('Machine', 'Learning')\n",
    "\n",
    "# print the result and skip a line\n",
    "print(sum, '\\n')\n",
    "\n",
    "# add two lists (this will CONCATENATE the lists into one long list)\n",
    "sum = add([1, 2, 3], [4, 5, 6])\n",
    "\n",
    "# print the result\n",
    "print(sum)"
   ]
  },
  {
   "cell_type": "markdown",
   "metadata": {
    "id": "ny4sMY_sSG52"
   },
   "source": [
    "## Classes\n",
    "\n",
    "Class bundle variables and functions together. Creating a new class creates a new *type* of object, allowing new *instances* of that type to be made.\n",
    "\n",
    "For example, suppose we want to make a linear regression class that can read $n$ datapoints, each with $d$ dimensions, as an $n\\times d$ matrix and fit a linear regression model to the points by the method of ordinary least squares."
   ]
  },
  {
   "cell_type": "code",
   "execution_count": null,
   "metadata": {
    "id": "ZFBZAyzZiTKM"
   },
   "outputs": [],
   "source": [
    "# import the numpy library\n",
    "import numpy as np\n",
    "\n",
    "# create a class\n",
    "class LinearRegression:\n",
    "\n",
    "    def __init__(self, X, y):\n",
    "        # append a column of ones to X and save as a class variable\n",
    "        self.data = np.hstack((np.ones([X.shape[0], 1]), X))\n",
    "        \n",
    "        # save the training labels as a class variable\n",
    "        self.outputs = y\n",
    "        \n",
    "    # fit the model to the (training) data\n",
    "    def fit(self, X, y):\n",
    "        # get the data and outputs\n",
    "        X = self.data\n",
    "        y = self.outputs\n",
    "\n",
    "        # compute optimal values for theta and save as a class variable\n",
    "        self.theta = np.linalg.inv(X.T @ X) @ X.T @ y\n",
    "                \n",
    "    # predict the output from input (testing) data\n",
    "    def predict(self, X):\n",
    "        \n",
    "        # append a column of ones at the beginning of X\n",
    "        X = np.hstack((np.ones([X.shape[0],1]), X))\n",
    "        \n",
    "        # return the outputs\n",
    "        return X @ self.theta"
   ]
  },
  {
   "cell_type": "markdown",
   "metadata": {
    "id": "u7A_V-7ESG3Z"
   },
   "source": [
    "## Importing and Using Libraries"
   ]
  },
  {
   "cell_type": "markdown",
   "metadata": {
    "id": "F53TInNQSG1J"
   },
   "source": [
    "### NumPy Basics"
   ]
  },
  {
   "cell_type": "code",
   "execution_count": null,
   "metadata": {
    "id": "Hx8f9razl9Ev"
   },
   "outputs": [],
   "source": [
    "import numpy as np"
   ]
  },
  {
   "cell_type": "markdown",
   "metadata": {
    "id": "w6Oy7JsWSGyv"
   },
   "source": [
    "### pandas Basics"
   ]
  },
  {
   "cell_type": "code",
   "execution_count": null,
   "metadata": {
    "id": "f1hfPJd2l7Fc"
   },
   "outputs": [],
   "source": [
    "import pandas as pd"
   ]
  },
  {
   "cell_type": "markdown",
   "metadata": {
    "id": "O4t7OyNDSGpd"
   },
   "source": [
    "### scikit-learn Basics"
   ]
  },
  {
   "cell_type": "code",
   "execution_count": null,
   "metadata": {
    "id": "K6qcCLMzSao-"
   },
   "outputs": [],
   "source": [
    "import sklearn"
   ]
  }
 ],
 "metadata": {
  "colab": {
   "authorship_tag": "ABX9TyOi8y/DbU2ZvwkBQEbKpMgn",
   "collapsed_sections": [
    "5WKel8GHSG8Q",
    "ny4sMY_sSG52",
    "u7A_V-7ESG3Z"
   ],
   "name": "Copy of Intro-to-Python.ipynb",
   "provenance": [
    {
     "file_id": "1uA4_vzYr3NjyRMr28YFRthHX1aLzGhSs",
     "timestamp": 1642734752735
    }
   ]
  },
  "kernelspec": {
   "display_name": "Python 3 (ipykernel)",
   "language": "python",
   "name": "python3"
  },
  "language_info": {
   "codemirror_mode": {
    "name": "ipython",
    "version": 3
   },
   "file_extension": ".py",
   "mimetype": "text/x-python",
   "name": "python",
   "nbconvert_exporter": "python",
   "pygments_lexer": "ipython3",
   "version": "3.10.1"
  }
 },
 "nbformat": 4,
 "nbformat_minor": 4
}
