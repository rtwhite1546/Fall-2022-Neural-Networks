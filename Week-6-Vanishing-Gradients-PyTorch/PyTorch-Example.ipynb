{
 "cells": [
  {
   "cell_type": "markdown",
   "id": "84fd7531-f385-4e71-b591-f8add2681596",
   "metadata": {},
   "source": [
    "# PyTorch Network Training"
   ]
  },
  {
   "cell_type": "code",
   "execution_count": 1,
   "id": "ef342b23-a37f-49e8-a060-8056b2e9f347",
   "metadata": {},
   "outputs": [
    {
     "name": "stdout",
     "output_type": "stream",
     "text": [
      "Using cpu computing\n"
     ]
    }
   ],
   "source": [
    "import numpy as np\n",
    "import torch\n",
    "\n",
    "from torch import nn\n",
    "from torch.optim import SGD\n",
    "from torch.utils.data import DataLoader\n",
    "\n",
    "from torchvision import datasets\n",
    "from torchvision.transforms import ToTensor\n",
    "\n",
    "if torch.cuda.is_available(): device = 'cuda'\n",
    "else: device = 'cpu'\n",
    "\n",
    "print('Using', device, 'computing')"
   ]
  },
  {
   "cell_type": "markdown",
   "id": "40ac5ac7-1e9b-4a4a-9046-63bed89ebb9b",
   "metadata": {
    "tags": []
   },
   "source": [
    "Let's construct the net to classify MNIST (our beloved benchmarking dataset) on a vanilla neural network (SGD, sigmoid, SSE loss) with two hidden layers"
   ]
  },
  {
   "cell_type": "code",
   "execution_count": 8,
   "id": "e2aabfc8-d218-4b77-a274-eb3727c53f5e",
   "metadata": {},
   "outputs": [
    {
     "data": {
      "text/plain": [
       "Sequential(\n",
       "  (0): Flatten(start_dim=1, end_dim=-1)\n",
       "  (1): Linear(in_features=784, out_features=256, bias=True)\n",
       "  (2): Sigmoid()\n",
       "  (3): Linear(in_features=256, out_features=128, bias=True)\n",
       "  (4): Sigmoid()\n",
       "  (5): Linear(in_features=128, out_features=10, bias=True)\n",
       "  (6): Sigmoid()\n",
       ")"
      ]
     },
     "execution_count": 8,
     "metadata": {},
     "output_type": "execute_result"
    }
   ],
   "source": [
    "model = nn.Sequential()\n",
    "\n",
    "model.append(nn.Flatten())\n",
    "model.append(nn.Linear(28*28, 256))\n",
    "model.append(nn.Sigmoid())\n",
    "model.append(nn.Linear(256, 128))\n",
    "model.append(nn.Sigmoid())\n",
    "model.append(nn.Linear(128, 10))\n",
    "model.append(nn.Sigmoid())"
   ]
  },
  {
   "cell_type": "markdown",
   "id": "80d4c0be-d7d6-402b-944c-09206532e42f",
   "metadata": {},
   "source": [
    "Let's create a model from the class, load it onto the computing device, and print the structure of the network."
   ]
  },
  {
   "cell_type": "code",
   "execution_count": 9,
   "id": "45b8bab7-3be4-4720-8d82-19b17b74706d",
   "metadata": {},
   "outputs": [
    {
     "data": {
      "text/plain": [
       "Sequential(\n",
       "  (0): Flatten(start_dim=1, end_dim=-1)\n",
       "  (1): Linear(in_features=784, out_features=256, bias=True)\n",
       "  (2): Sigmoid()\n",
       "  (3): Linear(in_features=256, out_features=128, bias=True)\n",
       "  (4): Sigmoid()\n",
       "  (5): Linear(in_features=128, out_features=10, bias=True)\n",
       "  (6): Sigmoid()\n",
       ")"
      ]
     },
     "execution_count": 9,
     "metadata": {},
     "output_type": "execute_result"
    }
   ],
   "source": [
    "model.to(device)"
   ]
  },
  {
   "cell_type": "markdown",
   "id": "69c7ad93-fbc3-4567-a527-cca492fdc568",
   "metadata": {},
   "source": [
    "Now, let's read in MNIST"
   ]
  },
  {
   "cell_type": "code",
   "execution_count": 10,
   "id": "9a708355-2b95-491a-b9f2-926cf638198a",
   "metadata": {
    "tags": []
   },
   "outputs": [],
   "source": [
    "# read in MNIST training data\n",
    "training_data = datasets.MNIST(\n",
    "    root = 'data',\n",
    "    train = True,\n",
    "    download = True,\n",
    "    transform = ToTensor()\n",
    ")\n",
    "\n",
    "# read in MNIST test data\n",
    "test_data = datasets.MNIST(\n",
    "    root = 'data',\n",
    "    train = False,\n",
    "    download = True,\n",
    "    transform = ToTensor()\n",
    ")\n",
    "\n",
    "# create a data loader\n",
    "train_dataloader = DataLoader(training_data, batch_size = 64, shuffle = True)\n",
    "test_dataloader = DataLoader(test_data, batch_size = 64, shuffle = True)"
   ]
  },
  {
   "cell_type": "markdown",
   "id": "9d411fc1-a488-4d1e-83ba-db7838db7ac4",
   "metadata": {},
   "source": [
    "Let's create training and testing loops."
   ]
  },
  {
   "cell_type": "code",
   "execution_count": null,
   "id": "e0479418-aaa8-457a-b890-fd277143d0d3",
   "metadata": {},
   "outputs": [],
   "source": [
    "def train_loop(dataloader, model, loss_function, optimizer):\n",
    "    \n",
    "    size = len(dataloader.dataset)\n",
    "    \n",
    "    for batch, (X, y) in enumerate(dataloader):\n",
    "        # compute prediction and loss\n",
    "        pred = model(X)\n",
    "        loss = loss_function(pred, y)\n",
    "\n",
    "        # backpropagation\n",
    "        optimizer.zero_grad()\n",
    "        loss.backward()\n",
    "        optimizer.step()\n",
    "\n",
    "        if batch % 100 == 0:\n",
    "            loss = loss.item()\n",
    "            current = batch * len(X)\n",
    "            print('loss:', np.round(loss, 4), '\\t[', current, '/', size, ']')\n",
    "\n",
    "def test_loop(dataloader, model, loss_fn):\n",
    "    \n",
    "    size = len(dataloader.dataset)\n",
    "    num_batches = len(dataloader)\n",
    "    \n",
    "    test_loss = 0\n",
    "    correct = 0\n",
    "\n",
    "    with torch.no_grad():\n",
    "        for X, y in dataloader:\n",
    "            pred = model(X)\n",
    "            test_loss += loss_function(pred, y).item()\n",
    "            correct += (pred.argmax(1) == y).type(torch.float).sum().item()\n",
    "\n",
    "    test_loss /= num_batches\n",
    "    correct /= size\n",
    "    \n",
    "    print('Test error: \\n Accuracy:', np.round(100*correct, 2), '%, Avg loss:', test_loss, '\\n')"
   ]
  },
  {
   "cell_type": "markdown",
   "id": "d8e62919-2068-4e12-91f5-39d4ae185067",
   "metadata": {},
   "source": [
    "Next, let's classify MNIST with our vanilla net."
   ]
  },
  {
   "cell_type": "code",
   "execution_count": 26,
   "id": "4577f1d5-296f-4816-8e18-193ecfd22e8d",
   "metadata": {},
   "outputs": [
    {
     "name": "stdout",
     "output_type": "stream",
     "text": [
      "Epoch 1 \n",
      "------------------------------------------------------\n",
      "loss: 1.714845895767212 \t[ 0 / 60000 ]\n",
      "loss: 1.6598721742630005 \t[ 6400 / 60000 ]\n",
      "loss: 1.624276041984558 \t[ 12800 / 60000 ]\n",
      "loss: 1.6571447849273682 \t[ 19200 / 60000 ]\n",
      "loss: 1.6610627174377441 \t[ 25600 / 60000 ]\n",
      "loss: 1.6523206233978271 \t[ 32000 / 60000 ]\n",
      "loss: 1.6325024366378784 \t[ 38400 / 60000 ]\n",
      "loss: 1.59742271900177 \t[ 44800 / 60000 ]\n",
      "loss: 1.6581920385360718 \t[ 51200 / 60000 ]\n",
      "loss: 1.6713268756866455 \t[ 57600 / 60000 ]\n",
      "Test error: \n",
      " Accuracy: 70.86 %, Avg loss: 1.6330968133962838 \n",
      "\n",
      "Epoch 2 \n",
      "------------------------------------------------------\n",
      "loss: 1.632216215133667 \t[ 0 / 60000 ]\n",
      "loss: 1.6141785383224487 \t[ 6400 / 60000 ]\n",
      "loss: 1.5921128988265991 \t[ 12800 / 60000 ]\n",
      "loss: 1.6429325342178345 \t[ 19200 / 60000 ]\n",
      "loss: 1.6612650156021118 \t[ 25600 / 60000 ]\n",
      "loss: 1.6100870370864868 \t[ 32000 / 60000 ]\n",
      "loss: 1.6392097473144531 \t[ 38400 / 60000 ]\n",
      "loss: 1.665850281715393 \t[ 44800 / 60000 ]\n",
      "loss: 1.6741056442260742 \t[ 51200 / 60000 ]\n",
      "loss: 1.6288760900497437 \t[ 57600 / 60000 ]\n",
      "Test error: \n",
      " Accuracy: 71.74 %, Avg loss: 1.627803457770378 \n",
      "\n",
      "Epoch 3 \n",
      "------------------------------------------------------\n",
      "loss: 1.597969889640808 \t[ 0 / 60000 ]\n",
      "loss: 1.6192114353179932 \t[ 6400 / 60000 ]\n",
      "loss: 1.6570985317230225 \t[ 12800 / 60000 ]\n",
      "loss: 1.6250340938568115 \t[ 19200 / 60000 ]\n",
      "loss: 1.6063913106918335 \t[ 25600 / 60000 ]\n",
      "loss: 1.6222338676452637 \t[ 32000 / 60000 ]\n",
      "loss: 1.6573456525802612 \t[ 38400 / 60000 ]\n",
      "loss: 1.6757546663284302 \t[ 44800 / 60000 ]\n",
      "loss: 1.654720425605774 \t[ 51200 / 60000 ]\n",
      "loss: 1.6195088624954224 \t[ 57600 / 60000 ]\n",
      "Test error: \n",
      " Accuracy: 72.83 %, Avg loss: 1.6230503244764487 \n",
      "\n",
      "Epoch 4 \n",
      "------------------------------------------------------\n",
      "loss: 1.669747233390808 \t[ 0 / 60000 ]\n",
      "loss: 1.6010805368423462 \t[ 6400 / 60000 ]\n",
      "loss: 1.6810370683670044 \t[ 12800 / 60000 ]\n",
      "loss: 1.5922528505325317 \t[ 19200 / 60000 ]\n",
      "loss: 1.6281254291534424 \t[ 25600 / 60000 ]\n",
      "loss: 1.6560685634613037 \t[ 32000 / 60000 ]\n",
      "loss: 1.5881178379058838 \t[ 38400 / 60000 ]\n",
      "loss: 1.623226284980774 \t[ 44800 / 60000 ]\n",
      "loss: 1.629886507987976 \t[ 51200 / 60000 ]\n",
      "loss: 1.6648019552230835 \t[ 57600 / 60000 ]\n",
      "Test error: \n",
      " Accuracy: 73.33 %, Avg loss: 1.618595501419845 \n",
      "\n",
      "Epoch 5 \n",
      "------------------------------------------------------\n",
      "loss: 1.577834129333496 \t[ 0 / 60000 ]\n",
      "loss: 1.6445050239562988 \t[ 6400 / 60000 ]\n",
      "loss: 1.6346718072891235 \t[ 12800 / 60000 ]\n",
      "loss: 1.6531951427459717 \t[ 19200 / 60000 ]\n",
      "loss: 1.652592658996582 \t[ 25600 / 60000 ]\n",
      "loss: 1.6327295303344727 \t[ 32000 / 60000 ]\n",
      "loss: 1.6060707569122314 \t[ 38400 / 60000 ]\n",
      "loss: 1.6152652502059937 \t[ 44800 / 60000 ]\n",
      "loss: 1.605277180671692 \t[ 51200 / 60000 ]\n",
      "loss: 1.5972284078598022 \t[ 57600 / 60000 ]\n",
      "Test error: \n",
      " Accuracy: 74.32 %, Avg loss: 1.6132614650544088 \n",
      "\n",
      "Epoch 6 \n",
      "------------------------------------------------------\n",
      "loss: 1.6140092611312866 \t[ 0 / 60000 ]\n",
      "loss: 1.6051839590072632 \t[ 6400 / 60000 ]\n",
      "loss: 1.5954009294509888 \t[ 12800 / 60000 ]\n",
      "loss: 1.6055378913879395 \t[ 19200 / 60000 ]\n",
      "loss: 1.645899772644043 \t[ 25600 / 60000 ]\n",
      "loss: 1.6191405057907104 \t[ 32000 / 60000 ]\n",
      "loss: 1.6605992317199707 \t[ 38400 / 60000 ]\n",
      "loss: 1.5749614238739014 \t[ 44800 / 60000 ]\n",
      "loss: 1.6192705631256104 \t[ 51200 / 60000 ]\n",
      "loss: 1.5659735202789307 \t[ 57600 / 60000 ]\n",
      "Test error: \n",
      " Accuracy: 74.39 %, Avg loss: 1.6066161196702604 \n",
      "\n",
      "Epoch 7 \n",
      "------------------------------------------------------\n",
      "loss: 1.5754421949386597 \t[ 0 / 60000 ]\n",
      "loss: 1.623110055923462 \t[ 6400 / 60000 ]\n",
      "loss: 1.6777887344360352 \t[ 12800 / 60000 ]\n",
      "loss: 1.5963164567947388 \t[ 19200 / 60000 ]\n",
      "loss: 1.595514178276062 \t[ 25600 / 60000 ]\n",
      "loss: 1.574211835861206 \t[ 32000 / 60000 ]\n",
      "loss: 1.5955127477645874 \t[ 38400 / 60000 ]\n",
      "loss: 1.5649529695510864 \t[ 44800 / 60000 ]\n",
      "loss: 1.632683277130127 \t[ 51200 / 60000 ]\n",
      "loss: 1.5856815576553345 \t[ 57600 / 60000 ]\n",
      "Test error: \n",
      " Accuracy: 74.59 %, Avg loss: 1.6021683785566099 \n",
      "\n",
      "Epoch 8 \n",
      "------------------------------------------------------\n",
      "loss: 1.5863031148910522 \t[ 0 / 60000 ]\n",
      "loss: 1.6128132343292236 \t[ 6400 / 60000 ]\n",
      "loss: 1.585031270980835 \t[ 12800 / 60000 ]\n",
      "loss: 1.5865521430969238 \t[ 19200 / 60000 ]\n",
      "loss: 1.57660710811615 \t[ 25600 / 60000 ]\n",
      "loss: 1.6461248397827148 \t[ 32000 / 60000 ]\n",
      "loss: 1.621173620223999 \t[ 38400 / 60000 ]\n",
      "loss: 1.6180455684661865 \t[ 44800 / 60000 ]\n",
      "loss: 1.5968077182769775 \t[ 51200 / 60000 ]\n",
      "loss: 1.6111756563186646 \t[ 57600 / 60000 ]\n",
      "Test error: \n",
      " Accuracy: 74.57 %, Avg loss: 1.598472018150767 \n",
      "\n",
      "Epoch 9 \n",
      "------------------------------------------------------\n",
      "loss: 1.6056008338928223 \t[ 0 / 60000 ]\n",
      "loss: 1.5902454853057861 \t[ 6400 / 60000 ]\n",
      "loss: 1.5892560482025146 \t[ 12800 / 60000 ]\n",
      "loss: 1.6030179262161255 \t[ 19200 / 60000 ]\n",
      "loss: 1.623615026473999 \t[ 25600 / 60000 ]\n",
      "loss: 1.60114324092865 \t[ 32000 / 60000 ]\n",
      "loss: 1.5619794130325317 \t[ 38400 / 60000 ]\n",
      "loss: 1.587712287902832 \t[ 44800 / 60000 ]\n",
      "loss: 1.566156029701233 \t[ 51200 / 60000 ]\n",
      "loss: 1.5848467350006104 \t[ 57600 / 60000 ]\n",
      "Test error: \n",
      " Accuracy: 75.22 %, Avg loss: 1.5954481704979186 \n",
      "\n",
      "Epoch 10 \n",
      "------------------------------------------------------\n",
      "loss: 1.6066210269927979 \t[ 0 / 60000 ]\n",
      "loss: 1.5935012102127075 \t[ 6400 / 60000 ]\n",
      "loss: 1.6003161668777466 \t[ 12800 / 60000 ]\n",
      "loss: 1.5763052701950073 \t[ 19200 / 60000 ]\n",
      "loss: 1.5385160446166992 \t[ 25600 / 60000 ]\n",
      "loss: 1.570900559425354 \t[ 32000 / 60000 ]\n",
      "loss: 1.6185095310211182 \t[ 38400 / 60000 ]\n",
      "loss: 1.5879900455474854 \t[ 44800 / 60000 ]\n",
      "loss: 1.5808167457580566 \t[ 51200 / 60000 ]\n",
      "loss: 1.5967967510223389 \t[ 57600 / 60000 ]\n",
      "Test error: \n",
      " Accuracy: 75.78 %, Avg loss: 1.5926309041916185 \n",
      "\n"
     ]
    }
   ],
   "source": [
    "learning_rate = 0.1\n",
    "batch_size = 64\n",
    "epochs = 10\n",
    "\n",
    "# initialize the loss function\n",
    "loss_function = nn.CrossEntropyLoss()\n",
    "\n",
    "# initialize the optimizer\n",
    "optimizer = SGD(model.parameters(), lr = learning_rate)\n",
    "\n",
    "size = len(train_dataloader.dataset)\n",
    "\n",
    "for epoch in range(epochs):\n",
    "    print('Epoch', epoch + 1, '\\n------------------------------------------------------')\n",
    "    \n",
    "    # train loop\n",
    "    train_loop(train_dataloader, model, loss_function, optimizer)\n",
    "    \n",
    "    # test loop\n",
    "    test_loop(test_dataloader, model, loss_function)"
   ]
  }
 ],
 "metadata": {
  "kernelspec": {
   "display_name": "Python 3 (ipykernel)",
   "language": "python",
   "name": "python3"
  },
  "language_info": {
   "codemirror_mode": {
    "name": "ipython",
    "version": 3
   },
   "file_extension": ".py",
   "mimetype": "text/x-python",
   "name": "python",
   "nbconvert_exporter": "python",
   "pygments_lexer": "ipython3",
   "version": "3.10.1"
  }
 },
 "nbformat": 4,
 "nbformat_minor": 5
}
