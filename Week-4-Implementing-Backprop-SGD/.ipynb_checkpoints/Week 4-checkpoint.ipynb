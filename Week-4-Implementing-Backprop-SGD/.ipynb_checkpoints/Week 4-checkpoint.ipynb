{
 "cells": [
  {
   "cell_type": "markdown",
   "metadata": {},
   "source": [
    "# Week 4\n",
    "\n",
    "# Lecture 7 - Sept 14 - Implementing Backpropagation\n",
    "\n",
    "Below, we implement a fully-connected feedforward neural network with random weight initialization, customizable architecture, and gradient descent with use of backpropagation for computing the gradients. We will then test it on some examples.\n",
    "\n",
    "The best way to understand how this all works is to actually implement it with minimal external libraries. One exception is `NumPy`, which at least automates some of the basic mathematical operations we need to do."
   ]
  },
  {
   "cell_type": "code",
   "execution_count": 2,
   "metadata": {},
   "outputs": [],
   "source": [
    "import numpy as np"
   ]
  },
  {
   "cell_type": "markdown",
   "metadata": {},
   "source": [
    "Next, we will implement the feedforward neural network. The code is partly based on an implementation from *Deep Learning for Computer Vision with Python* by Adrian Rosebrock."
   ]
  },
  {
   "cell_type": "code",
   "execution_count": 3,
   "metadata": {},
   "outputs": [],
   "source": [
    "class FeedforwardNeuralNetwork:\n",
    "    \n",
    "    # input a vector [a, b, c, ...] with the number of nodes in each layer\n",
    "    def __init__(self, layers, alpha = 0.1):\n",
    "        \n",
    "        # list of weight matrices between layers\n",
    "        self.W = []\n",
    "        \n",
    "        # network architecture will be a vector of numbers of nodes for each layer\n",
    "        self.layers = layers\n",
    "        \n",
    "        # learning rate\n",
    "        self.alpha = alpha\n",
    "        \n",
    "        # initialize the weights (randomly) -- this is our initial guess for gradient descent\n",
    "        \n",
    "        # initialize the weights between layers (up to the next-to-last one) as normal random variables\n",
    "        for i in np.arange(0, len(layers) - 2):\n",
    "            self.W.append(np.random.randn(layers[i] + 1, layers[i + 1] + 1))\n",
    "            \n",
    "        # initialize weights between the last two layers (we don't want bias for the last one)\n",
    "        self.W.append(np.random.randn(layers[-2] + 1, layers[-1]))\n",
    "        \n",
    "    # define the sigmoid activation\n",
    "    def sigmoid(self, x):\n",
    "        return 1.0 / (1 + np.exp(-x))\n",
    "    \n",
    "    # define the sigmoid derivative (where z is the output of a sigmoid)\n",
    "    def sigmoidDerivative(self, z):\n",
    "        return z * (1 - z)\n",
    "    \n",
    "    # fit the model\n",
    "    def fit(self, X, y, epochs = 10000, update = 1000):\n",
    "        # add a column of ones to the end of X\n",
    "        X = np.hstack((X, np.ones([X.shape[0],1])))\n",
    "\n",
    "        for epoch in np.arange(0,epochs):\n",
    "\n",
    "            # feed forward, backprop, and weight update\n",
    "            for (x, target) in zip(X, y):\n",
    "                \n",
    "                # make a list of output activations from the first layer\n",
    "                # (just the original x values)\n",
    "                A = [np.atleast_2d(x)]\n",
    "                \n",
    "                # feed forward\n",
    "                for layer in np.arange(0, len(self.W)):\n",
    "                    \n",
    "                    # feed through one layer and apply sigmoid activation\n",
    "                    net = A[layer].dot(self.W[layer])\n",
    "                    out = self.sigmoid(net)\n",
    "                    \n",
    "                    # add our network output to the list of activations\n",
    "                    A.append(out)\n",
    "                    \n",
    "                # backpropagation\n",
    "                error = A[-1] - target\n",
    "                \n",
    "                # term proportional to the gradient\n",
    "                D = [error * self.sigmoidDerivative(A[-1])]\n",
    "                \n",
    "                # loop backwards over the layers to build up deltas\n",
    "                for layer in np.arange(len(A) - 2, 0, -1):\n",
    "                    delta = D[-1].dot(self.W[layer].T)\n",
    "                    delta = delta * self.sigmoidDerivative(A[layer])\n",
    "                    D.append(delta)\n",
    "                    \n",
    "                # reverse the deltas since we looped in reverse\n",
    "                D = D[::-1]\n",
    "                \n",
    "                # weight update\n",
    "                for layer in np.arange(0, len(self.W)):\n",
    "                    self.W[layer] -= self.alpha * A[layer].T.dot(D[layer])\n",
    "                    \n",
    "            # print a status update\n",
    "            if (epoch + 1) % update == 0:\n",
    "                loss = self.computeLoss(X,y)\n",
    "                print('Epoch =', epoch + 1, 'loss = ', loss)\n",
    "                \n",
    "    def predict(self, X, addOnes = True):\n",
    "        # initialize data, be sure it's the right dimension\n",
    "        p = np.atleast_2d(X)\n",
    "        \n",
    "        # add a column of 1s for bias\n",
    "        if addOnes:\n",
    "            p = np.hstack((p, np.ones([X.shape[0],1])))\n",
    "        \n",
    "        # feed forward!\n",
    "        for layer in np.arange(0, len(self.W)):\n",
    "            p = self.sigmoid(np.dot(p, self.W[layer]))\n",
    "         \n",
    "        # return the predictions\n",
    "        return p\n",
    "    \n",
    "    def computeLoss(self, X, y):\n",
    "        # initialize data, be sure it's the right dimension\n",
    "        y = np.atleast_2d(y)\n",
    "        \n",
    "        # feed the datapoints through the network to get predicted outputs\n",
    "        predictions = self.predict(X, addOnes = False)\n",
    "        \n",
    "        # compute the sum of squared errors loss function\n",
    "        loss = np.sum((predictions - y)**2) / 2.0\n",
    "        \n",
    "        return loss"
   ]
  },
  {
   "cell_type": "markdown",
   "metadata": {},
   "source": [
    "Let's check the variables of the model."
   ]
  },
  {
   "cell_type": "code",
   "execution_count": 4,
   "metadata": {},
   "outputs": [
    {
     "data": {
      "text/plain": [
       "{'W': [array([[-1.54358744, -0.29704487,  0.13394198],\n",
       "         [ 0.25962225, -0.4510906 ,  2.76438093],\n",
       "         [-0.665133  ,  0.46708451, -0.80372408]]),\n",
       "  array([[ 1.66290868],\n",
       "         [-0.80965392],\n",
       "         [ 0.60145251]])],\n",
       " 'layers': [2, 2, 1],\n",
       " 'alpha': 0.1}"
      ]
     },
     "execution_count": 4,
     "metadata": {},
     "output_type": "execute_result"
    }
   ],
   "source": [
    "model = FeedforwardNeuralNetwork([2, 2, 1])\n",
    "vars(model)"
   ]
  },
  {
   "cell_type": "markdown",
   "metadata": {},
   "source": [
    "## Example: XOR function\n",
    "\n",
    "Let's run the code to try to learn the exclusive 'or' function, i.e. XOR."
   ]
  },
  {
   "cell_type": "code",
   "execution_count": 7,
   "metadata": {},
   "outputs": [
    {
     "name": "stdout",
     "output_type": "stream",
     "text": [
      "Epoch = 10000 loss =  0.0004366847890715098\n",
      "Epoch = 20000 loss =  0.00036735424273988816\n",
      "Epoch = 30000 loss =  0.0003171054597651407\n",
      "Epoch = 40000 loss =  0.00027897632486613877\n",
      "Epoch = 50000 loss =  0.0002490376592788722\n"
     ]
    }
   ],
   "source": [
    "import random\n",
    "\n",
    "X = np.array([[0, 0], [0, 1], [1, 0], [1, 1]])\n",
    "y = np.array([[0], [1], [1], [0]])\n",
    "\n",
    "random.seed(1)\n",
    "model.fit(X,y,50000,10000)"
   ]
  },
  {
   "cell_type": "code",
   "execution_count": 8,
   "metadata": {},
   "outputs": [
    {
     "data": {
      "text/plain": [
       "array([[0.00675055],\n",
       "       [0.98987284],\n",
       "       [0.9868278 ],\n",
       "       [0.01328304]])"
      ]
     },
     "execution_count": 8,
     "metadata": {},
     "output_type": "execute_result"
    }
   ],
   "source": [
    "model.predict(X)"
   ]
  },
  {
   "cell_type": "markdown",
   "metadata": {},
   "source": [
    "Note these are very close to 0, 1, 1, 0 -- the correct classifications for the XOR function. This neural net can classify this nonlinear problem of XOR."
   ]
  },
  {
   "cell_type": "markdown",
   "metadata": {},
   "source": [
    "## Example: Tiny MNIST"
   ]
  },
  {
   "cell_type": "code",
   "execution_count": 15,
   "metadata": {},
   "outputs": [],
   "source": [
    "# load some more libraries\n",
    "from sklearn.model_selection import train_test_split\n",
    "from sklearn.metrics import classification_report\n",
    "from sklearn.preprocessing import LabelBinarizer\n",
    "from sklearn import datasets"
   ]
  },
  {
   "cell_type": "markdown",
   "metadata": {},
   "source": [
    "Let's try to classify a tiny version of the MNIST data shrunk down to 8-by-8 pixel images."
   ]
  },
  {
   "cell_type": "code",
   "execution_count": 16,
   "metadata": {},
   "outputs": [
    {
     "name": "stdout",
     "output_type": "stream",
     "text": [
      "Samples: 1797, Dimension: 64\n",
      "Epoch = 100 loss =  30.025955074503685\n",
      "Epoch = 200 loss =  36.21394026638919\n",
      "Epoch = 300 loss =  15.26937321928396\n",
      "Epoch = 400 loss =  12.746748281488209\n",
      "Epoch = 500 loss =  12.177533010552425\n",
      "Epoch = 600 loss =  11.5263636544302\n",
      "Epoch = 700 loss =  11.238358218975065\n",
      "Epoch = 800 loss =  11.039997228785815\n",
      "Epoch = 900 loss =  10.886201010325982\n",
      "Epoch = 1000 loss =  10.761466862816421\n",
      "Training set accuracy\n",
      "              precision    recall  f1-score   support\n",
      "\n",
      "           0       0.99      1.00      1.00       136\n",
      "           1       0.97      0.99      0.98       139\n",
      "           2       0.99      1.00      1.00       131\n",
      "           3       1.00      1.00      1.00       135\n",
      "           4       1.00      0.98      0.99       125\n",
      "           5       0.99      0.99      0.99       141\n",
      "           6       0.99      1.00      0.99       143\n",
      "           7       0.99      1.00      0.99       135\n",
      "           8       0.98      0.95      0.97       130\n",
      "           9       0.99      0.97      0.98       132\n",
      "\n",
      "    accuracy                           0.99      1347\n",
      "   macro avg       0.99      0.99      0.99      1347\n",
      "weighted avg       0.99      0.99      0.99      1347\n",
      "\n",
      "Test set accuracy\n",
      "              precision    recall  f1-score   support\n",
      "\n",
      "           0       1.00      0.95      0.98        42\n",
      "           1       0.95      0.95      0.95        43\n",
      "           2       0.90      0.98      0.94        46\n",
      "           3       0.90      0.94      0.92        48\n",
      "           4       1.00      0.96      0.98        56\n",
      "           5       0.95      0.98      0.96        41\n",
      "           6       0.97      1.00      0.99        38\n",
      "           7       0.98      1.00      0.99        44\n",
      "           8       0.88      0.84      0.86        44\n",
      "           9       0.96      0.90      0.92        48\n",
      "\n",
      "    accuracy                           0.95       450\n",
      "   macro avg       0.95      0.95      0.95       450\n",
      "weighted avg       0.95      0.95      0.95       450\n",
      "\n"
     ]
    }
   ],
   "source": [
    "### CLASSIFY MNIST PICTURES\n",
    "\n",
    "# 'digits' is a tiny version of MNIST in sklearn.datasets has only 8 x 8 pixels\n",
    "# with grayscale values from 0 to 16\n",
    "digits = datasets.load_digits()\n",
    "data = digits.data.astype(\"float\")\n",
    "print(\"Samples: {}, Dimension: {}\".format(data.shape[0], data.shape[1]))\n",
    "\n",
    "X = data\n",
    "\n",
    "Y = digits.target\n",
    "\n",
    "# randomly choose 75% of the data to be the training set and 25% for the testing set\n",
    "trainX, testX, trainY, testY = train_test_split(X, Y, test_size = 0.25)\n",
    "\n",
    "# we need to turn the labels into 1-hot representations\n",
    "trainY = LabelBinarizer().fit_transform(trainY)\n",
    "testY = LabelBinarizer().fit_transform(testY)\n",
    "\n",
    "# fit the model to the training data\n",
    "model = FeedforwardNeuralNetwork([64, 16, 10])\n",
    "model.fit(trainX,trainY,1000,100)\n",
    "\n",
    "# print the classification performance\n",
    "print(\"Training set accuracy\")\n",
    "\n",
    "predictedY = model.predict(trainX)\n",
    "predictedY = predictedY.argmax(axis=1)\n",
    "\n",
    "trainY = trainY.argmax(axis=1)\n",
    "\n",
    "print(classification_report(trainY, predictedY))\n",
    "\n",
    "print(\"Test set accuracy\")\n",
    "\n",
    "predictedY = model.predict(testX)\n",
    "predictedY = predictedY.argmax(axis=1)\n",
    "\n",
    "testY = testY.argmax(axis=1)\n",
    "\n",
    "print(classification_report(testY, predictedY))"
   ]
  },
  {
   "cell_type": "markdown",
   "metadata": {},
   "source": [
    "Let's try the same with two hidden layers."
   ]
  },
  {
   "cell_type": "code",
   "execution_count": 17,
   "metadata": {},
   "outputs": [
    {
     "name": "stdout",
     "output_type": "stream",
     "text": [
      "Samples: 1797, Dimension: 64\n",
      "Epoch = 10 loss =  127.06523498806862\n",
      "Epoch = 20 loss =  51.03129409953402\n",
      "Epoch = 30 loss =  30.656671992238223\n",
      "Epoch = 40 loss =  20.340515472015575\n",
      "Epoch = 50 loss =  14.377298027602196\n",
      "Epoch = 60 loss =  10.913532923990282\n",
      "Epoch = 70 loss =  8.685824247989864\n",
      "Epoch = 80 loss =  7.086230254489341\n",
      "Epoch = 90 loss =  5.603749803065613\n",
      "Epoch = 100 loss =  4.672016132736114\n",
      "Epoch = 110 loss =  4.0377832167869405\n",
      "Epoch = 120 loss =  3.526720562817067\n",
      "Epoch = 130 loss =  2.9034191918371164\n",
      "Epoch = 140 loss =  2.537034662913965\n",
      "Epoch = 150 loss =  2.2654080521567557\n",
      "Epoch = 160 loss =  2.026486303369377\n",
      "Epoch = 170 loss =  1.7849971919961145\n",
      "Epoch = 180 loss =  1.5510355711975108\n",
      "Epoch = 190 loss =  1.378364041131031\n",
      "Epoch = 200 loss =  1.2492594511593789\n",
      "Epoch = 210 loss =  1.1454205604431669\n",
      "Epoch = 220 loss =  1.0586349566938593\n",
      "Epoch = 230 loss =  0.9844530661613339\n",
      "Epoch = 240 loss =  0.9200700855591448\n",
      "Epoch = 250 loss =  0.8635492667666217\n",
      "Epoch = 260 loss =  0.8134755648755476\n",
      "Epoch = 270 loss =  0.7687754830787938\n",
      "Epoch = 280 loss =  0.7286124356648527\n",
      "Epoch = 290 loss =  0.6923210318751194\n",
      "Epoch = 300 loss =  0.6593634042949992\n",
      "Epoch = 310 loss =  0.6292989387336299\n",
      "Epoch = 320 loss =  0.6017626022421034\n",
      "Epoch = 330 loss =  0.5764490234319054\n",
      "Epoch = 340 loss =  0.553100551317323\n",
      "Epoch = 350 loss =  0.5314981410971551\n",
      "Epoch = 360 loss =  0.5114542939304757\n",
      "Epoch = 370 loss =  0.4928075173983618\n",
      "Epoch = 380 loss =  0.4754179300572769\n",
      "Epoch = 390 loss =  0.45916373884980277\n",
      "Epoch = 400 loss =  0.44393839066442425\n",
      "Epoch = 410 loss =  0.4296482502869652\n",
      "Epoch = 420 loss =  0.4162106934203516\n",
      "Epoch = 430 loss =  0.40355252991120866\n",
      "Epoch = 440 loss =  0.39160869180894997\n",
      "Epoch = 450 loss =  0.3803211354118061\n",
      "Epoch = 460 loss =  0.3696379174080243\n",
      "Epoch = 470 loss =  0.3595124135626637\n",
      "Epoch = 480 loss =  0.3499026548129359\n",
      "Epoch = 490 loss =  0.34077076060630734\n",
      "Epoch = 500 loss =  0.33208245319960944\n",
      "Epoch = 510 loss =  0.32380663969486034\n",
      "Epoch = 520 loss =  0.31591505100993295\n",
      "Epoch = 530 loss =  0.30838192891439375\n",
      "Epoch = 540 loss =  0.3011837538108154\n",
      "Epoch = 550 loss =  0.29429900719262114\n",
      "Epoch = 560 loss =  0.2877079637237051\n",
      "Epoch = 570 loss =  0.28139250871217936\n",
      "Epoch = 580 loss =  0.27533597742778326\n",
      "Epoch = 590 loss =  0.2695230132698707\n",
      "Epoch = 600 loss =  0.26393944225340776\n",
      "Epoch = 610 loss =  0.25857216166253627\n",
      "Epoch = 620 loss =  0.2534090410396562\n",
      "Epoch = 630 loss =  0.24843883394408026\n",
      "Epoch = 640 loss =  0.24365109913774904\n",
      "Epoch = 650 loss =  0.23903613004363708\n",
      "Epoch = 660 loss =  0.23458489148122483\n",
      "Epoch = 670 loss =  0.23028896281832512\n",
      "Epoch = 680 loss =  0.22614048679291418\n",
      "Epoch = 690 loss =  0.2221321233562553\n",
      "Epoch = 700 loss =  0.21825700797216285\n",
      "Epoch = 710 loss =  0.21450871387876763\n",
      "Epoch = 720 loss =  0.21088121788067235\n",
      "Epoch = 730 loss =  0.20736886929240855\n",
      "Epoch = 740 loss =  0.20396636170001714\n",
      "Epoch = 750 loss =  0.2006687072470822\n",
      "Epoch = 760 loss =  0.19747121318609856\n",
      "Epoch = 770 loss =  0.19436946046601702\n",
      "Epoch = 780 loss =  0.1913592841528118\n",
      "Epoch = 790 loss =  0.18843675550290281\n",
      "Epoch = 800 loss =  0.18559816552904065\n",
      "Epoch = 810 loss =  0.18284000991593186\n",
      "Epoch = 820 loss =  0.18015897515820295\n",
      "Epoch = 830 loss =  0.17755192580685628\n",
      "Epoch = 840 loss =  0.17501589272232257\n",
      "Epoch = 850 loss =  0.17254806224278474\n",
      "Epoch = 860 loss =  0.17014576618577731\n",
      "Epoch = 870 loss =  0.1678064726093373\n",
      "Epoch = 880 loss =  0.16552777726636778\n",
      "Epoch = 890 loss =  0.16330739569238825\n",
      "Epoch = 900 loss =  0.16114315587264752\n",
      "Epoch = 910 loss =  0.15903299143983213\n",
      "Epoch = 920 loss =  0.15697493535815488\n",
      "Epoch = 930 loss =  0.1549671140538461\n",
      "Epoch = 940 loss =  0.1530077419557297\n",
      "Epoch = 950 loss =  0.15109511641287504\n",
      "Epoch = 960 loss =  0.149227612959392\n",
      "Epoch = 970 loss =  0.1474036808990507\n",
      "Epoch = 980 loss =  0.1456218391848698\n",
      "Epoch = 990 loss =  0.1438806725709534\n",
      "Epoch = 1000 loss =  0.1421788280159068\n",
      "Training set accuracy\n",
      "              precision    recall  f1-score   support\n",
      "\n",
      "           0       1.00      1.00      1.00       132\n",
      "           1       1.00      1.00      1.00       134\n",
      "           2       1.00      1.00      1.00       127\n",
      "           3       1.00      1.00      1.00       148\n",
      "           4       1.00      1.00      1.00       135\n",
      "           5       1.00      1.00      1.00       133\n",
      "           6       1.00      1.00      1.00       137\n",
      "           7       1.00      1.00      1.00       132\n",
      "           8       1.00      1.00      1.00       130\n",
      "           9       1.00      1.00      1.00       139\n",
      "\n",
      "    accuracy                           1.00      1347\n",
      "   macro avg       1.00      1.00      1.00      1347\n",
      "weighted avg       1.00      1.00      1.00      1347\n",
      "\n",
      "Test set accuracy\n",
      "              precision    recall  f1-score   support\n",
      "\n",
      "           0       1.00      1.00      1.00        46\n",
      "           1       0.94      1.00      0.97        48\n",
      "           2       1.00      0.96      0.98        50\n",
      "           3       1.00      0.97      0.99        35\n",
      "           4       0.98      0.96      0.97        46\n",
      "           5       0.96      0.94      0.95        49\n",
      "           6       1.00      1.00      1.00        44\n",
      "           7       0.96      0.98      0.97        47\n",
      "           8       0.98      0.91      0.94        44\n",
      "           9       0.91      1.00      0.95        41\n",
      "\n",
      "    accuracy                           0.97       450\n",
      "   macro avg       0.97      0.97      0.97       450\n",
      "weighted avg       0.97      0.97      0.97       450\n",
      "\n"
     ]
    }
   ],
   "source": [
    "### CLASSIFY MNIST PICTURES\n",
    "\n",
    "# 'digits' is a tiny version of MNIST in sklearn.datasets has only 8 x 8 pixels\n",
    "# with grayscale values from 0 to 16\n",
    "digits = datasets.load_digits()\n",
    "data = digits.data.astype(\"float\")\n",
    "print(\"Samples: {}, Dimension: {}\".format(data.shape[0], data.shape[1]))\n",
    "\n",
    "X = data/16.0\n",
    "\n",
    "Y = digits.target\n",
    "\n",
    "# randomly choose 75% of the data to be the training set and 25% for the testing set\n",
    "trainX, testX, trainY, testY = train_test_split(X, Y, test_size = 0.25)\n",
    "\n",
    "# we need to turn the labels into 1-hot representations\n",
    "trainY = LabelBinarizer().fit_transform(trainY)\n",
    "testY = LabelBinarizer().fit_transform(testY)\n",
    "\n",
    "# fit the model to the training data\n",
    "model = FeedforwardNeuralNetwork([64, 32, 16, 10])\n",
    "model.fit(trainX,trainY,1000,10)\n",
    "\n",
    "# print the classification performance\n",
    "print(\"Training set accuracy\")\n",
    "\n",
    "predictedY = model.predict(trainX)\n",
    "predictedY = predictedY.argmax(axis=1)\n",
    "\n",
    "trainY = trainY.argmax(axis=1)\n",
    "\n",
    "print(classification_report(trainY, predictedY))\n",
    "\n",
    "print(\"Test set accuracy\")\n",
    "\n",
    "predictedY = model.predict(testX)\n",
    "predictedY = predictedY.argmax(axis=1)\n",
    "\n",
    "testY = testY.argmax(axis=1)\n",
    "\n",
    "print(classification_report(testY, predictedY))"
   ]
  },
  {
   "cell_type": "markdown",
   "metadata": {},
   "source": [
    "Almost all test images were labeled correctly, 97%! But let's take a look at the ones that were labeled wrong. Most look a bit ambiguous or messy, so it's not that surprising they were not classified correctly."
   ]
  },
  {
   "cell_type": "code",
   "execution_count": 18,
   "metadata": {},
   "outputs": [
    {
     "name": "stdout",
     "output_type": "stream",
     "text": [
      "3\n",
      "The correct label is 4\n",
      "The predicted label is 7\n",
      "77\n",
      "The correct label is 2\n",
      "The predicted label is 1\n",
      "189\n",
      "The correct label is 8\n",
      "The predicted label is 7\n",
      "222\n",
      "The correct label is 2\n",
      "The predicted label is 8\n",
      "258\n",
      "The correct label is 8\n",
      "The predicted label is 1\n",
      "278\n",
      "The correct label is 5\n",
      "The predicted label is 4\n",
      "296\n",
      "The correct label is 3\n",
      "The predicted label is 5\n",
      "312\n",
      "The correct label is 5\n",
      "The predicted label is 1\n",
      "319\n",
      "The correct label is 4\n",
      "The predicted label is 9\n",
      "330\n",
      "The correct label is 7\n",
      "The predicted label is 9\n",
      "342\n",
      "The correct label is 5\n",
      "The predicted label is 9\n",
      "430\n",
      "The correct label is 8\n",
      "The predicted label is 5\n",
      "443\n",
      "The correct label is 8\n",
      "The predicted label is 9\n"
     ]
    },
    {
     "data": {
      "image/png": "[encoded data removed]",
      "text/plain": [
       "<Figure size 288x288 with 1 Axes>"
      ]
     },
     "metadata": {
      "needs_background": "light"
     },
     "output_type": "display_data"
    },
    {
     "data": {
      "image/png": "[encoded data removed]",
      "text/plain": [
       "<Figure size 288x288 with 1 Axes>"
      ]
     },
     "metadata": {
      "needs_background": "light"
     },
     "output_type": "display_data"
    },
    {
     "data": {
      "image/png": "[encoded data removed]",
      "text/plain": [
       "<Figure size 288x288 with 1 Axes>"
      ]
     },
     "metadata": {
      "needs_background": "light"
     },
     "output_type": "display_data"
    },
    {
     "data": {
      "image/png": "[encoded data removed]",
      "text/plain": [
       "<Figure size 288x288 with 1 Axes>"
      ]
     },
     "metadata": {
      "needs_background": "light"
     },
     "output_type": "display_data"
    },
    {
     "data": {
      "image/png": "[encoded data removed]",
      "text/plain": [
       "<Figure size 288x288 with 1 Axes>"
      ]
     },
     "metadata": {
      "needs_background": "light"
     },
     "output_type": "display_data"
    },
    {
     "data": {
      "image/png": "[encoded data removed]",
      "text/plain": [
       "<Figure size 288x288 with 1 Axes>"
      ]
     },
     "metadata": {
      "needs_background": "light"
     },
     "output_type": "display_data"
    },
    {
     "data": {
      "image/png": "[encoded data removed]",
      "text/plain": [
       "<Figure size 288x288 with 1 Axes>"
      ]
     },
     "metadata": {
      "needs_background": "light"
     },
     "output_type": "display_data"
    },
    {
     "data": {
      "image/png": "[encoded data removed]",
      "text/plain": [
       "<Figure size 288x288 with 1 Axes>"
      ]
     },
     "metadata": {
      "needs_background": "light"
     },
     "output_type": "display_data"
    },
    {
     "data": {
      "image/png": "[encoded data removed]",
      "text/plain": [
       "<Figure size 288x288 with 1 Axes>"
      ]
     },
     "metadata": {
      "needs_background": "light"
     },
     "output_type": "display_data"
    },
    {
     "data": {
      "image/png": "[encoded data removed]",
      "text/plain": [
       "<Figure size 288x288 with 1 Axes>"
      ]
     },
     "metadata": {
      "needs_background": "light"
     },
     "output_type": "display_data"
    },
    {
     "data": {
      "image/png": "[encoded data removed]",
      "text/plain": [
       "<Figure size 288x288 with 1 Axes>"
      ]
     },
     "metadata": {
      "needs_background": "light"
     },
     "output_type": "display_data"
    },
    {
     "data": {
      "image/png": "[encoded data removed]",
      "text/plain": [
       "<Figure size 288x288 with 1 Axes>"
      ]
     },
     "metadata": {
      "needs_background": "light"
     },
     "output_type": "display_data"
    },
    {
     "data": {
      "image/png": "[encoded data removed]",
      "text/plain": [
       "<Figure size 288x288 with 1 Axes>"
      ]
     },
     "metadata": {
      "needs_background": "light"
     },
     "output_type": "display_data"
    }
   ],
   "source": [
    "import matplotlib.pyplot as plt\n",
    "\n",
    "for i in range(testX.shape[0]):\n",
    "    if testY[i] != predictedY[i]:\n",
    "        print(i)\n",
    "        print('The correct label is', testY[i])\n",
    "        print('The predicted label is', predictedY[i])\n",
    "        plt.matshow(16*testX[i].reshape(8,8), cmap='gray_r')"
   ]
  },
  {
   "cell_type": "markdown",
   "metadata": {},
   "source": [
    "Some of these images are really hard to interpret, even as a human, so it is unsurprising the model has trouble with them.\n",
    "\n",
    "## Example: Full-Size MNIST\n",
    "\n",
    "Next, let's try to use 1000 images from the full-sized MNIST dataset of 28-by-28 grayscale images."
   ]
  },
  {
   "cell_type": "code",
   "execution_count": 23,
   "metadata": {},
   "outputs": [],
   "source": [
    "from tensorflow.keras.datasets import mnist"
   ]
  },
  {
   "cell_type": "code",
   "execution_count": 24,
   "metadata": {},
   "outputs": [
    {
     "name": "stdout",
     "output_type": "stream",
     "text": [
      "Epoch = 100 loss =  7.870732365034623\n",
      "Epoch = 200 loss =  7.0341860276301205\n",
      "Epoch = 300 loss =  5.946170642042398\n",
      "Epoch = 400 loss =  5.782510087053828\n",
      "Epoch = 500 loss =  5.707416779386726\n",
      "Epoch = 600 loss =  5.661728259440102\n",
      "Epoch = 700 loss =  5.629390524860063\n",
      "Epoch = 800 loss =  5.607038488928979\n",
      "Epoch = 900 loss =  5.591276570000582\n",
      "Epoch = 1000 loss =  5.5786784758077115\n",
      "Training set accuracy\n",
      "              precision    recall  f1-score   support\n",
      "\n",
      "           0       0.97      1.00      0.98        62\n",
      "           1       0.99      0.98      0.98        89\n",
      "           2       0.96      0.97      0.97        78\n",
      "           3       1.00      1.00      1.00        70\n",
      "           4       0.99      1.00      0.99        85\n",
      "           5       0.97      1.00      0.99        70\n",
      "           6       1.00      0.97      0.99        68\n",
      "           7       0.99      0.98      0.98        86\n",
      "           8       0.99      0.99      0.99        68\n",
      "           9       1.00      0.97      0.99        74\n",
      "\n",
      "    accuracy                           0.99       750\n",
      "   macro avg       0.99      0.99      0.99       750\n",
      "weighted avg       0.99      0.99      0.99       750\n",
      "\n",
      "Test set accuracy\n",
      "              precision    recall  f1-score   support\n",
      "\n",
      "           0       0.91      0.89      0.90        35\n",
      "           1       0.93      0.96      0.95        27\n",
      "           2       0.54      0.62      0.58        21\n",
      "           3       0.75      0.65      0.70        23\n",
      "           4       0.77      0.85      0.81        20\n",
      "           5       0.72      0.82      0.77        22\n",
      "           6       0.96      0.88      0.92        26\n",
      "           7       0.79      0.87      0.83        31\n",
      "           8       0.80      0.63      0.71        19\n",
      "           9       0.88      0.81      0.84        26\n",
      "\n",
      "    accuracy                           0.81       250\n",
      "   macro avg       0.81      0.80      0.80       250\n",
      "weighted avg       0.82      0.81      0.81       250\n",
      "\n"
     ]
    }
   ],
   "source": [
    "### CLASSIFY MNIST PICTURES\n",
    "\n",
    "# create a dataset of 1000 MNIST images, reshaped as single vectors, and labels\n",
    "data = mnist.load_data()\n",
    "\n",
    "# The datapoints are in mnistData[0][0]\n",
    "X = data[0][0][:1000].reshape([1000,28*28])\n",
    "X = X/255.0\n",
    "\n",
    "# The labels are in mnistData[0][1]\n",
    "Y = data[0][1][:1000]\n",
    "\n",
    "# randomly choose 75% of the data to be the training set and 25% for the testing set\n",
    "trainX, testX, trainY, testY = train_test_split(X, Y, test_size = 0.25)\n",
    "\n",
    "trainY = LabelBinarizer().fit_transform(trainY)\n",
    "testY = LabelBinarizer().fit_transform(testY)\n",
    "\n",
    "# fit the model to the training data\n",
    "model = FeedforwardNeuralNetwork([784, 16, 10], 0.5)\n",
    "model.fit(trainX,trainY,1000,100)\n",
    "\n",
    "# print the classification performance\n",
    "print(\"Training set accuracy\")\n",
    "predictedY = model.predict(trainX)\n",
    "predictedY = predictedY.argmax(axis=1)\n",
    "\n",
    "trainY = trainY.argmax(axis=1)\n",
    "print(classification_report(trainY, predictedY))\n",
    "\n",
    "print(\"Test set accuracy\")\n",
    "predictedY = model.predict(testX)\n",
    "predictedY = predictedY.argmax(axis=1)\n",
    "\n",
    "testY = testY.argmax(axis=1)\n",
    "print(classification_report(testY, predictedY))"
   ]
  },
  {
   "cell_type": "markdown",
   "metadata": {},
   "source": [
    "Here, we have an **overfitting** problem because the training accuracy is good, but test accuracy is significantly worse. This frequently happens when we use a small dataset. In this case, we used only 1000 images, but it still took a several minutes to run. If we used 10000 images, which would be a more ideal dataset, it would take 30-40 minutes!\n",
    "\n",
    "This is no good... we need stochastic gradient descent to make this more useful on larger datasets."
   ]
  },
  {
   "cell_type": "markdown",
   "metadata": {},
   "source": [
    "# Lecture 8 - Sept 16 - Stochastic Gradient Descent\n",
    "\n",
    "We already know what gradient descent is: we run our model on training data, compute the loss function, find the gradient of the loss function, and update our parameters in the opposite direction of the gradient by a small amount; and repeat this until the model converges. The same general approach is used in nearly all neural networks.\n",
    "\n",
    "In linear regression and logistic classification, we were computing the outputs and loss function for the entire dataset (usually multiple times) per iteration of gradient descent, making a weight update based on the gradient, and repeating.\n",
    "\n",
    "The typical approach used in modern neural networks is **stochastic** gradient descent (SGD). SGD updates weights after processing a random sample, called a **mini-batch**, of datapoints: enough points to reduce the variance of using just one for more stable convergence of parameters but not so much that the computation is too expensive. In this way, we process a mini-batch for outputs, compute an approximate loss function and approximate gradients, update weights, and repeat.\n",
    "\n",
    "#### How large should our mini-batches be?\n",
    "\n",
    "Typically, using $2^n$ for something like $n=5, 6, 7, 8$ because these values tend to be ideal for the linear algebra optimization libraries we use (NumPy, TensorFlow, etc). The mini-batch size is a hyperparameter, but it generally isn't one you need to tweak too much.\n",
    "\n",
    "One exception is if you are using GPUs for computing: then, it's typically best to choose the largest power of 2 that allows a whole mini-batch to fit into GPU memory, which will result in the underlying linear algebra libraries working optimally.\n",
    "\n",
    "## Implementing SGD\n",
    "\n",
    "Once we implement SGD with backpropagation, we will have constructed a \"vanilla\" neural network, which is probably the simplest neural network that is of practical use.\n",
    "\n",
    "First, let's import some libraries we will be using."
   ]
  },
  {
   "cell_type": "code",
   "execution_count": 28,
   "metadata": {},
   "outputs": [],
   "source": [
    "# load some libraries\n",
    "import numpy as np\n",
    "from sklearn.model_selection import train_test_split\n",
    "from sklearn.metrics import classification_report\n",
    "from sklearn.preprocessing import LabelBinarizer\n",
    "from sklearn import datasets\n",
    "from tensorflow.keras.utils import to_categorical"
   ]
  },
  {
   "cell_type": "markdown",
   "metadata": {},
   "source": [
    "Next, we will write a class similar to the `FeedforwardNeuralNetwork` class we wrote previously but upgraded to use SGD."
   ]
  },
  {
   "cell_type": "code",
   "execution_count": 36,
   "metadata": {},
   "outputs": [],
   "source": [
    "class FeedforwardNeuralNetworkSGD:\n",
    "    \n",
    "    # input a vector [a, b, c, ...] with the number of nodes in each layer\n",
    "    def __init__(self, layers, alpha = 0.1, batchSize = 32):\n",
    "        # list of weight matrices between layers\n",
    "        self.W = []\n",
    "        \n",
    "        # network architecture will be a vector of numbers of nodes for each layer\n",
    "        self.layers = layers\n",
    "        \n",
    "        # learning rate\n",
    "        self.alpha = alpha\n",
    "        \n",
    "        # batch size\n",
    "        self.batchSize = batchSize\n",
    "        \n",
    "        # initialize the weights (randomly) -- this is our initial guess for gradient descent\n",
    "        \n",
    "        # initialize the weights between layers (up to the next-to-last one) as normal random variables\n",
    "        for i in np.arange(0, len(layers) - 2):\n",
    "            self.W.append(np.random.randn(layers[i] + 1, layers[i + 1] + 1))\n",
    "            \n",
    "        # initialize weights between the last two layers (we don't want bias for the last one)\n",
    "        self.W.append(np.random.randn(layers[-2] + 1, layers[-1]))\n",
    "        \n",
    "    # define the sigmoid activation\n",
    "    def sigmoid(self, x):\n",
    "        return 1.0 / (1 + np.exp(-x))\n",
    "    \n",
    "    # define the sigmoid derivative (where z is the output of a sigmoid)\n",
    "    def sigmoidDerivative(self, z):\n",
    "        return z * (1 - z)\n",
    "    \n",
    "    def getNextBatch(self, X, y, batchSize):\n",
    "        for i in np.arange(0, X.shape[0], batchSize):\n",
    "            yield (X[i:i + batchSize], y[i:i + batchSize])\n",
    "    \n",
    "    # fit the model\n",
    "    def fit(self, X, y, epochs = 10000, update = 1000):\n",
    "        # add a column of ones to the end of X\n",
    "        X = np.hstack((X, np.ones([X.shape[0],1])))\n",
    "\n",
    "        for epoch in np.arange(0,epochs):\n",
    "            \n",
    "            # randomize the examples\n",
    "            p = np.arange(0,X.shape[0])\n",
    "            np.random.shuffle(p)\n",
    "            X = X[p]\n",
    "            y = y[p]\n",
    "\n",
    "            # feed forward, backprop, and weight update\n",
    "            for (x, target) in self.getNextBatch(X, y, self.batchSize):\n",
    "                # make a list of output activations from the first layer\n",
    "                # (just the original x values)\n",
    "                A = [np.atleast_2d(x)]\n",
    "                \n",
    "                # feed forward\n",
    "                for layer in np.arange(0, len(self.W)):\n",
    "                    \n",
    "                    # feed through one layer and apply sigmoid activation\n",
    "                    net = A[layer].dot(self.W[layer])\n",
    "                    out = self.sigmoid(net)\n",
    "                    \n",
    "                    # add our network output to the list of activations\n",
    "                    A.append(out)\n",
    "                    \n",
    "                # backpropagation (coming soon!)\n",
    "                error = A[-1] - target\n",
    "                \n",
    "                D = [error * self.sigmoidDerivative(A[-1])]\n",
    "                \n",
    "                # loop backwards over the layers to build up deltas\n",
    "                for layer in np.arange(len(A) - 2, 0, -1):\n",
    "                    delta = D[-1].dot(self.W[layer].T)\n",
    "                    delta = delta * self.sigmoidDerivative(A[layer])\n",
    "                    D.append(delta)\n",
    "                    \n",
    "                # reverse the deltas since we looped in reverse\n",
    "                D = D[::-1]\n",
    "                \n",
    "                # weight update\n",
    "                for layer in np.arange(0, len(self.W)):\n",
    "                    self.W[layer] -= self.alpha * A[layer].T.dot(D[layer])\n",
    "                    \n",
    "            if (epoch + 1) % update == 0:\n",
    "                loss = self.computeLoss(X,y)\n",
    "                print('Epoch =', epoch + 1, '\\t loss =', loss)\n",
    "                \n",
    "    def predict(self, X, addOnes = True):\n",
    "        # initialize data, be sure it's the right dimension\n",
    "        p = np.atleast_2d(X)\n",
    "        \n",
    "        # add a column of 1s for bias\n",
    "        if addOnes:\n",
    "            p = np.hstack((p, np.ones([X.shape[0],1])))\n",
    "        \n",
    "        # feed forward!\n",
    "        for layer in np.arange(0, len(self.W)):\n",
    "            p = self.sigmoid(np.dot(p, self.W[layer]))\n",
    "            \n",
    "        return p\n",
    "    \n",
    "    def computeLoss(self, X, y):\n",
    "        # initialize data, be sure it's the right dimension\n",
    "        y = np.atleast_2d(y)\n",
    "        \n",
    "        # feed the datapoints through the network to get predicted outputs\n",
    "        predictions = self.predict(X, addOnes = False)\n",
    "        loss = np.sum((predictions - y)**2) / 2.0\n",
    "        \n",
    "        return loss"
   ]
  },
  {
   "cell_type": "markdown",
   "metadata": {},
   "source": [
    "## Example: MNIST\n",
    "\n",
    "As promised, this SGD neural net should run faster, so let's try to use the full 60,000 training images available in MNIST and 10,000 test images. (This is still a LOT of computation, using 70000 total 28-by-28 images."
   ]
  },
  {
   "cell_type": "code",
   "execution_count": 39,
   "metadata": {},
   "outputs": [
    {
     "name": "stdout",
     "output_type": "stream",
     "text": [
      "Epoch = 1 loss = 5114.252384701645\n",
      "Epoch = 2 loss = 3827.640450070584\n",
      "Epoch = 3 loss = 3473.3288513337393\n",
      "Epoch = 4 loss = 2993.842063360823\n",
      "Epoch = 5 loss = 2901.9404384637314\n",
      "Epoch = 6 loss = 2630.701667897917\n",
      "Epoch = 7 loss = 2464.5746902285573\n",
      "Epoch = 8 loss = 2795.425929393308\n",
      "Epoch = 9 loss = 2364.3985255987027\n",
      "Epoch = 10 loss = 2353.410652586407\n",
      "Epoch = 11 loss = 2215.9648653618037\n",
      "Epoch = 12 loss = 2128.7799963404223\n",
      "Epoch = 13 loss = 2262.336653846681\n",
      "Epoch = 14 loss = 1974.6134364267582\n",
      "Epoch = 15 loss = 1940.664549489394\n",
      "Epoch = 16 loss = 2430.3313501223215\n",
      "Epoch = 17 loss = 2075.9776717066957\n",
      "Epoch = 18 loss = 2329.289774857599\n",
      "Epoch = 19 loss = 1993.931256521833\n",
      "Epoch = 20 loss = 1799.237987718006\n",
      "Epoch = 21 loss = 1747.4760865779667\n",
      "Epoch = 22 loss = 1755.3602538310915\n",
      "Epoch = 23 loss = 1909.9185042697188\n",
      "Epoch = 24 loss = 1860.02112009211\n",
      "Epoch = 25 loss = 1821.339117683481\n",
      "Epoch = 26 loss = 1844.2668468960146\n",
      "Epoch = 27 loss = 1662.565576476386\n",
      "Epoch = 28 loss = 1828.9521264206987\n",
      "Epoch = 29 loss = 1926.414791181462\n",
      "Epoch = 30 loss = 1622.635249632976\n",
      "Epoch = 31 loss = 1687.1826722341666\n",
      "Epoch = 32 loss = 1510.8419745902745\n",
      "Epoch = 33 loss = 1484.0499705336379\n",
      "Epoch = 34 loss = 1660.9501294972274\n",
      "Epoch = 35 loss = 1503.9626019008072\n",
      "Epoch = 36 loss = 1490.3109687805436\n",
      "Epoch = 37 loss = 1599.7191946003888\n",
      "Epoch = 38 loss = 1461.3507954358042\n",
      "Epoch = 39 loss = 1621.275642912683\n",
      "Epoch = 40 loss = 1444.7766004882224\n",
      "Epoch = 41 loss = 1410.2368800679865\n",
      "Epoch = 42 loss = 1616.9435023963501\n",
      "Epoch = 43 loss = 1348.2703087436303\n",
      "Epoch = 44 loss = 1848.6570281302577\n",
      "Epoch = 45 loss = 1577.1092088193052\n",
      "Epoch = 46 loss = 1510.870190363473\n",
      "Epoch = 47 loss = 1406.4326198755389\n",
      "Epoch = 48 loss = 1460.894174320443\n",
      "Epoch = 49 loss = 1566.7977650538458\n",
      "Epoch = 50 loss = 1365.9266919553145\n",
      "Epoch = 51 loss = 1336.0557729110642\n",
      "Epoch = 52 loss = 1389.8273061964442\n",
      "Epoch = 53 loss = 1514.7330184486227\n",
      "Epoch = 54 loss = 1401.3044100375325\n",
      "Epoch = 55 loss = 1316.4457293590162\n",
      "Epoch = 56 loss = 1278.9040967323847\n",
      "Epoch = 57 loss = 1336.3043801752149\n",
      "Epoch = 58 loss = 1370.8269588383225\n",
      "Epoch = 59 loss = 1158.834571840838\n",
      "Epoch = 60 loss = 1401.4670505932504\n",
      "Epoch = 61 loss = 1418.414063653836\n",
      "Epoch = 62 loss = 1384.8042826630692\n",
      "Epoch = 63 loss = 1276.41016098969\n",
      "Epoch = 64 loss = 1448.4473275062608\n",
      "Epoch = 65 loss = 1312.9833002366734\n",
      "Epoch = 66 loss = 1262.940780245831\n",
      "Epoch = 67 loss = 1257.0394151322962\n",
      "Epoch = 68 loss = 1706.8856972615536\n",
      "Epoch = 69 loss = 1317.984312729474\n",
      "Epoch = 70 loss = 1273.9877852975926\n",
      "Epoch = 71 loss = 1093.9643866091915\n",
      "Epoch = 72 loss = 1321.4498640633585\n",
      "Epoch = 73 loss = 1137.8832326738352\n",
      "Epoch = 74 loss = 1299.2896668228004\n",
      "Epoch = 75 loss = 1182.9337016981935\n",
      "Epoch = 76 loss = 1233.7441907511172\n",
      "Epoch = 77 loss = 1226.3102357965165\n",
      "Epoch = 78 loss = 1137.2027107557876\n",
      "Epoch = 79 loss = 1461.163035237853\n",
      "Epoch = 80 loss = 1335.699370097802\n",
      "Epoch = 81 loss = 1524.9822370427632\n",
      "Epoch = 82 loss = 1121.7278778805778\n",
      "Epoch = 83 loss = 1265.9147558827858\n",
      "Epoch = 84 loss = 1372.7577320546538\n",
      "Epoch = 85 loss = 1255.9770359669906\n",
      "Epoch = 86 loss = 1214.0210069863815\n",
      "Epoch = 87 loss = 1202.3187923097348\n",
      "Epoch = 88 loss = 1138.6461682253075\n",
      "Epoch = 89 loss = 1224.2085727692222\n",
      "Epoch = 90 loss = 1225.5746387693137\n",
      "Epoch = 91 loss = 1245.9589825938483\n",
      "Epoch = 92 loss = 1083.3074920111872\n",
      "Epoch = 93 loss = 1166.547605431623\n",
      "Epoch = 94 loss = 1468.667005014194\n",
      "Epoch = 95 loss = 1214.0119881803223\n",
      "Epoch = 96 loss = 1131.7905609514546\n",
      "Epoch = 97 loss = 1155.8022552430532\n",
      "Epoch = 98 loss = 1121.3988365246678\n",
      "Epoch = 99 loss = 1207.19726478228\n",
      "Epoch = 100 loss = 1288.2108884631305\n",
      "Training set accuracy\n",
      "              precision    recall  f1-score   support\n",
      "\n",
      "           0       0.99      0.98      0.98      5923\n",
      "           1       0.99      0.98      0.99      6742\n",
      "           2       0.96      0.98      0.97      5958\n",
      "           3       0.96      0.96      0.96      6131\n",
      "           4       0.98      0.99      0.98      5842\n",
      "           5       0.96      0.97      0.96      5421\n",
      "           6       0.98      0.98      0.98      5918\n",
      "           7       0.98      0.98      0.98      6265\n",
      "           8       0.97      0.95      0.96      5851\n",
      "           9       0.97      0.97      0.97      5949\n",
      "\n",
      "    accuracy                           0.97     60000\n",
      "   macro avg       0.97      0.97      0.97     60000\n",
      "weighted avg       0.97      0.97      0.97     60000\n",
      "\n",
      "Test set accuracy\n",
      "              precision    recall  f1-score   support\n",
      "\n",
      "           0       0.97      0.98      0.97       980\n",
      "           1       0.98      0.99      0.98      1135\n",
      "           2       0.95      0.94      0.95      1032\n",
      "           3       0.93      0.95      0.94      1010\n",
      "           4       0.96      0.96      0.96       982\n",
      "           5       0.94      0.94      0.94       892\n",
      "           6       0.95      0.96      0.96       958\n",
      "           7       0.96      0.96      0.96      1028\n",
      "           8       0.95      0.92      0.94       974\n",
      "           9       0.94      0.94      0.94      1009\n",
      "\n",
      "    accuracy                           0.95     10000\n",
      "   macro avg       0.95      0.95      0.95     10000\n",
      "weighted avg       0.95      0.95      0.95     10000\n",
      "\n"
     ]
    }
   ],
   "source": [
    "### CLASSIFY MNIST PICTURES\n",
    "\n",
    "# load the full MNIST dataset: both data and labels\n",
    "((trainX, trainY), (testX, testY)) = mnist.load_data()\n",
    "\n",
    "# scale the data to values in [0,1]\n",
    "trainX = trainX.astype('float32')/255.0\n",
    "testX = testX.astype('float32')/255.0\n",
    "\n",
    "# reshape the data\n",
    "trainX = trainX.reshape([60000, 28*28])\n",
    "testX = testX.reshape([10000, 28*28])\n",
    "\n",
    "# convert the digits to one-hot vectors\n",
    "trainY = to_categorical(trainY, 10)\n",
    "testY = to_categorical(testY, 10)\n",
    "\n",
    "# fit the model to the training data\n",
    "model = FeedforwardNeuralNetworkSGD([784, 32, 16, 10], 0.5, 32)\n",
    "model.fit(trainX, trainY, 100, 1)\n",
    "\n",
    "# print the classification performance\n",
    "print(\"Training set accuracy\")\n",
    "predictedY = model.predict(trainX)\n",
    "predictedY = predictedY.argmax(axis=1)\n",
    "\n",
    "trainY = trainY.argmax(axis=1)\n",
    "print(classification_report(trainY, predictedY))\n",
    "\n",
    "print(\"Test set accuracy\")\n",
    "predictedY = model.predict(testX)\n",
    "predictedY = predictedY.argmax(axis=1)\n",
    "\n",
    "testY = testY.argmax(axis=1)\n",
    "print(classification_report(testY, predictedY))"
   ]
  },
  {
   "cell_type": "markdown",
   "metadata": {},
   "source": [
    "Our test accuracy on MNIST jumped from mid-80\\% previously to 95\\% with our implementation using SGD and the full dataset!"
   ]
  }
 ],
 "metadata": {
  "kernelspec": {
   "display_name": "Python 3.7 (DL)",
   "language": "python",
   "name": "dl"
  },
  "language_info": {
   "codemirror_mode": {
    "name": "ipython",
    "version": 3
   },
   "file_extension": ".py",
   "mimetype": "text/x-python",
   "name": "python",
   "nbconvert_exporter": "python",
   "pygments_lexer": "ipython3",
   "version": "3.7.7"
  }
 },
 "nbformat": 4,
 "nbformat_minor": 4
}
