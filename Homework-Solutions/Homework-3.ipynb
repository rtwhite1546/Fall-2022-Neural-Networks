{
 "cells": [
  {
   "cell_type": "markdown",
   "id": "7ced9681-4bbe-436c-9bc6-7cac5160cceb",
   "metadata": {
    "tags": []
   },
   "source": [
    "# Homework 3\n",
    "\n",
    "**Deadline:** Nov 7\n",
    "\n",
    "**Points Available:** 60 (+5)\n",
    "\n",
    "For this assignment, everyone will take the same image classification dataset, load it into Python, preprocess it, and tune a CNN written in Keras to classify it.\n",
    "\n",
    "## Problems\n",
    "\n",
    "1. Download the RESISC45 satellite imaging dataset (Cheng et. al., https://arxiv.org/abs/1703.00121v1) and load it properly into Python (see https://www.tensorflow.org/datasets/catalog/resisc45). [10 points]\n",
    "\n",
    "2. Preprocess the data as needed using any libraries you prefer. [10 points]\n",
    "\n",
    "3. Train and tune a CNN in Keras to classify the dataset using appropriate data splits. You should test a variety of hyperparameters. [30 points]\n",
    "\n",
    "    a. At least 10 training runs must be documented in the notebook.\n",
    "    \n",
    "    b. At least 1 must include ensembling\n",
    "    \n",
    "    c. At least 1 must include transfer learning.\n",
    "\n",
    "4. Test the model once on the test set using the code block provided in the notebook. [5 points]\n",
    "\n",
    "5. Write a short summary of your conclusions. Outline what worked best for you, what didn't work, any take-aways from the assignment, and restate your test performance on the last line. [5 points]\n",
    "\n",
    "The students with the top 3 accuracies on the test set will earn **+5 points**. (To be eligible, you must follow proper procedures with the train/dev/test splits, test on the specified test set, and turn in the assignment **on time**.)\n",
    "\n",
    "### Notes\n",
    "\n",
    "* Brute force is *not* feasible now due to computational costs. Make some informed decisions on how to proceed and **explain your reasoning** in your notebook. Include all the fruitful experiments you run along the way.\n",
    "\n",
    "* More importantly than the results, I want to see that you are **thinking well** and making good decisions. Good results will come from eventually if you **understand what you are doing.**\n",
    "\n",
    "* **Recommended**: use a smaller subset of the training set for your initial runs so it trains more quickly and then scale up when you results get better on this subset.\n",
    "\n",
    "* The section headings below should guide your approach. Add as many code or text blocks as you like in each section, excluding `Model Testing`, which should be run once without any editing of the code.\n",
    "\n",
    "### Submissions\n",
    "\n",
    "Submit only a notebook file in Canvas entitled `lastname_firstname_hw3_mth4320.ipynb` or `lastname_firstname_hw3_mth5320.ipynb` depending on which course you are taking.\n",
    "\n",
    "All code blocks must have been run before submitting, including the `Model Testing` code provided at the bottom."
   ]
  },
  {
   "cell_type": "markdown",
   "id": "024ca726-f743-4567-8b39-bbcafbc5652a",
   "metadata": {},
   "source": [
    "## Data Loading\n",
    "\n",
    "Load in the data to produce `X` and `Y` variables with the data and labels from the dataset. Perform an 80\\%/20\\% train-test split using `random_state = 0`."
   ]
  },
  {
   "cell_type": "code",
   "execution_count": 2,
   "id": "61ebeb1d-88b3-4d18-93c6-c329d9064ebd",
   "metadata": {},
   "outputs": [],
   "source": []
  },
  {
   "cell_type": "markdown",
   "id": "1d5936b2-1f76-42aa-b480-5ca3c6c3e975",
   "metadata": {},
   "source": [
    "## Model Training and Tuning\n",
    "\n",
    "Train and tune a model to classify the dataset as best you can. Produce a `model` variable containing the model you wish to test below."
   ]
  },
  {
   "cell_type": "code",
   "execution_count": null,
   "id": "e2ccaefe-3df9-4a1d-adf0-3d720aded728",
   "metadata": {},
   "outputs": [],
   "source": []
  },
  {
   "cell_type": "markdown",
   "id": "722ddd4e-fa3f-4db0-9c7e-d8518833478d",
   "metadata": {},
   "source": [
    "## Model Testing (DO NOT EDIT)\n",
    "\n",
    "Run this **once** on the test data after you finish tuning your model."
   ]
  },
  {
   "cell_type": "code",
   "execution_count": null,
   "id": "dc502257-e9c4-4ca1-89b3-19fd2771d209",
   "metadata": {},
   "outputs": [],
   "source": [
    "from seaborn import heatmap\n",
    "from sklearn.metrics import classification_report\n",
    "from sklearn.metrics import confusion_matrix\n",
    "\n",
    "import matplotlib.pyplot as plt\n",
    "\n",
    "# predict the labels of the test set\n",
    "predictedY = model.predict(testX)\n",
    "\n",
    "# print quality metricsl\n",
    "print('\\nTesting Classification Report:\\n\\n', classification_report(testY, predictedY))\n",
    "\n",
    "# predict the labels of the test set\n",
    "predictedY = model.predict(testX)\n",
    "\n",
    "print('\\nTesting Confusion Matrix:\\n')\n",
    "\n",
    "heatmap(confusion_matrix(testY, predictedY))\n",
    "plt.figure()"
   ]
  },
  {
   "cell_type": "markdown",
   "id": "c560e475-f897-4146-b22a-67b5e0a3f8df",
   "metadata": {},
   "source": [
    "## Conclusions\n",
    "\n",
    "Write a short summary of your findings. The last line should restate the test accuracy achieved."
   ]
  }
 ],
 "metadata": {
  "kernelspec": {
   "display_name": "Python 3 (ipykernel)",
   "language": "python",
   "name": "python3"
  },
  "language_info": {
   "codemirror_mode": {
    "name": "ipython",
    "version": 3
   },
   "file_extension": ".py",
   "mimetype": "text/x-python",
   "name": "python",
   "nbconvert_exporter": "python",
   "pygments_lexer": "ipython3",
   "version": "3.10.1"
  }
 },
 "nbformat": 4,
 "nbformat_minor": 5
}
