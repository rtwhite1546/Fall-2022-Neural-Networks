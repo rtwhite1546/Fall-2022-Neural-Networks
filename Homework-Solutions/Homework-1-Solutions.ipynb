{
 "cells": [
  {
   "cell_type": "markdown",
   "id": "ae3f72c6-b9e4-4e84-a21f-38e5f0c2ea0f",
   "metadata": {
    "id": "R9cPpBDMtZhK",
    "tags": []
   },
   "source": [
    "# MTH 4320/5320 Python Quiz"
   ]
  },
  {
   "cell_type": "markdown",
   "id": "d21a4d9a-b46f-49ae-b952-adf9a913f678",
   "metadata": {
    "id": "tb4gSaIPtfNo",
    "jp-MarkdownHeadingCollapsed": true,
    "tags": []
   },
   "source": [
    "## Problem 1\n",
    "\n",
    "Consider the hyperbolic tangent activation function.\n",
    "\n",
    "$$f(w_0, w_1, x_1, w_2, x_2) = \\tanh(w_0 + w_1x_1 + w_2x_2)$$\n",
    "\n",
    "### Parts (a)-(b)\n",
    "\n",
    "Draw a computational graph for a neuron with hyperbolic tangent activation.\n",
    "\n",
    "Compute the gradient when $(w_0, w_1, x_1, w_2, x_2) = (2, 2, −1, 0, −4)$ by feeding the point forward and backpropagating the error along the computational graph.\n",
    "\n",
    "### Part (c)\n",
    "\n",
    "Compute the gradient by the chain rule.\n",
    "\n",
    "$f_{w_0}(w_0, w_1, x_1, w_2, x_2) = \\text{sech}^2(w_0 + w_1x_1 + w_2x_2)$\n",
    "\n",
    "$f_{w_1}(w_0, w_1, x_1, w_2, x_2) = \\text{sech}^2(w_0 + w_1x_1 + w_2x_2)x_1$\n",
    "\n",
    "$f_{x_1}(w_0, w_1, x_1, w_2, x_2) = \\text{sech}^2(w_0 + w_1x_1 + w_2x_2)w_1$\n",
    "\n",
    "$f_{w_2}(w_0, w_1, x_1, w_2, x_2) = \\text{sech}^2(w_0 + w_1x_1 + w_2x_2)x_2$\n",
    "\n",
    "$f_{x_2}(w_0, w_1, x_1, w_2, x_2) = \\text{sech}^2(w_0 + w_1x_1 + w_2x_2)w_2$\n",
    "\n",
    "Therefore,\n",
    "\n",
    "$\\nabla f(w_0, w_1, x_1, w_2, x_2) = \\text{sech}^2(w_0 + w_1x_1 + w_2x_2)(1, x_1, w_1, x_2, w_2)$"
   ]
  },
  {
   "cell_type": "markdown",
   "id": "d8f014d3-ed1a-492b-a09f-67473ed8fb3e",
   "metadata": {
    "id": "tb4gSaIPtfNo"
   },
   "source": [
    "## Problem 2\n",
    "\n",
    "Add options to choose between several activation functions: sigmoid, hyperbolic tangent, and rectified linear unit (ReLU) to the fully-connected feedforward neural net Python class with SGD."
   ]
  },
  {
   "cell_type": "code",
   "execution_count": 1,
   "id": "83185273-2692-4615-8fee-9821e3fce000",
   "metadata": {},
   "outputs": [],
   "source": [
    "import matplotlib.pyplot as plt\n",
    "import numpy as np\n",
    "\n",
    "from tensorflow.keras.utils import to_categorical"
   ]
  },
  {
   "cell_type": "code",
   "execution_count": 2,
   "id": "acb726f2-7c74-4f5b-9fc9-8e8f528a198e",
   "metadata": {
    "tags": []
   },
   "outputs": [],
   "source": [
    "# This class is for a fully-connected feedforward neural network using stochastic gradient descent\n",
    "#\n",
    "# Inputs:\n",
    "#\n",
    "#   layers - a list of numbers of neurons in each layer\n",
    "#\n",
    "#   alpha - learning rate\n",
    "#\n",
    "#   annealing - a list specifying the annealing schedule for the learning rate\n",
    "#     'none' - use a constant learning rate\n",
    "#     ['step', k] - decay the learning rate to 0 at k evenly spaced times with identical steps\n",
    "#     ['exp', k] - decay the learning rate exponentially alpha = alpha0(exp(-k*epoch))\n",
    "#     ['inv', k] - decay the learning rate as alpha = alpha0/(1 + k*epoch)\n",
    "#\n",
    "#   lambda1 - L1 penalty coefficient (positive)\n",
    "#\n",
    "#   lambda2 - L2 penalty coefficient (positive)\n",
    "#\n",
    "#   batchSize - size of mini-batches for SGD\n",
    "#\n",
    "#   gamma - momentum coefficient (between 0 and 1)\n",
    "#\n",
    "#   initialization - a list specifying the initalization\n",
    "#     ['normal', k] - standard normal random variables divided by k\n",
    "#     ['uniform', a, b] - uniform random variables between a and b\n",
    "#     'Nielsen' - standard normal random variables divided by the number of nodes in the next layer\n",
    "#     ['LeCun', 'uniform' or 'normal'] - normal or uniform random variables centered at 0 with standard deviation sqrt(3/nodes in previous\n",
    "#                                        layer) or lower/upper bounds of +/- the same, respectively\n",
    "#     ['Glorot', 'uniform' or 'normal'] - normal or uniform random variables centered at 0 with standard deviation sqrt(1/mean of nodes in\n",
    "#                                         previous and next layers) or lower/upper bounds of +/- the same, respectively\n",
    "#     ['He', 'uniform' or 'normal'] - normal or uniform random variables centered at 0 with standard deviation sqrt(6/nodes in previous\n",
    "#                                     layer) or lower/upper bounds of +/- the same, respectively\n",
    "#\n",
    "#   activations - string to choose which activation functions to use:\n",
    "#     'sigmoid' - sigmoid function\n",
    "#     'ReLU' - rectified linear unit\n",
    "#     'ELU' - exponential linear unit\n",
    "#     'tanh' - hyperbolic tangent function\n",
    "#\n",
    "#   loss - string to choose which loss function to use:\n",
    "#     'sum-of-squares'\n",
    "#     'cross-entropy'\n",
    "\n",
    "class FeedforwardNeuralNetwork:\n",
    "    \n",
    "    def __init__(self, layers, alpha = 0.1, annealing = 'none', lambda1 = 0, lambda2 = 0, batchSize = 32, gamma = 0.0,\n",
    "                 initialization = 'normal', activations = 'sigmoid', loss = 'sum-of-squares'):\n",
    "        # list of weight matrices between layers\n",
    "        self.W = []\n",
    "        \n",
    "        # network architecture will be a vector of numbers of nodes for each layer\n",
    "        self.layers = layers\n",
    "        \n",
    "        # learning rate\n",
    "        self.alpha = alpha\n",
    "        \n",
    "        # annealing policy\n",
    "        self.annealing = annealing\n",
    "        \n",
    "        # L1 penalty coefficient\n",
    "        self.lambda1 = lambda1\n",
    "        \n",
    "        # L2 penalty coefficient\n",
    "        self.lambda2 = lambda2\n",
    "        \n",
    "        # batch size\n",
    "        self.batchSize = batchSize\n",
    "        \n",
    "        # momentum parameter\n",
    "        self.gamma = gamma\n",
    "        \n",
    "        # activation type\n",
    "        self.activation = activations\n",
    "        \n",
    "        # loss function\n",
    "        self.loss = loss\n",
    "        \n",
    "        # initialize the weights -- this is our initial guess for gradient descent\n",
    "        \n",
    "        # initialize the weights between layers (up to the next-to-last one) as normal random variables\n",
    "        if initialization[0] == 'normal':\n",
    "            for i in np.arange(0, len(layers) - 2):\n",
    "                self.W.append(np.random.normal(0.0, 1.0, size=(layers[i] + 1, layers[i + 1] + 1))/initialization[1])\n",
    "\n",
    "            # initialize weights between the last two layers (we don't want bias for the last one)\n",
    "            self.W.append(np.random.normal(0.0, 1.0, size=(layers[-2] + 1, layers[-1]))/initialization[1])\n",
    "            \n",
    "        if initialization[0] == 'uniform':\n",
    "            # initialize the weights between layers (up to the next-to-last one) as normal random variables\n",
    "            for i in np.arange(0, len(layers) - 2):\n",
    "                self.W.append(np.random.uniform(initialization[1], initialization[2], size=(layers[i] + 1, layers[i + 1] + 1)))\n",
    "\n",
    "            # initialize weights between the last two layers (we don't want bias for the last one)\n",
    "            self.W.append(np.random.uniform(initialization[1], initialization[2], size=(layers[-2] + 1, layers[-1])))\n",
    "            \n",
    "        if initialization == 'Nielsen':\n",
    "            # initialize the weights between layers (up to the next-to-last one) as normal random variables\n",
    "            for i in np.arange(0, len(layers) - 2):\n",
    "                self.W.append(np.random.normal(0.0, 1.0, size=(layers[i] + 1, layers[i + 1] + 1))/layers[i+1])\n",
    "\n",
    "            # initialize weights between the last two layers (we don't want bias for the last one)\n",
    "            self.W.append(np.random.normal(0.0, 1.0, size=(layers[-2] + 1, layers[-1]))/layers[-1])\n",
    "            \n",
    "        # LeCun, Glorot, and He initialization\n",
    "        if initialization[0] in ['LeCun', 'Glorot', 'He']:\n",
    "            # initialize the weights between layers (up to the next-to-last one) as normal random variables\n",
    "            for i in np.arange(0, len(layers) - 2):\n",
    "                \n",
    "                # define the limit term for normal random variables\n",
    "                \n",
    "                # LeCun initialization (\"efficient backprop\", default initialization in PyTorch)\n",
    "                if initialization[0] == 'LeCun':\n",
    "                    limit = np.sqrt(1.0 / layers[i+1])\n",
    "                    \n",
    "                # Glorot initialization (default initialization in Keras)\n",
    "                elif initialization[0] == 'Glorot':\n",
    "                    mean = (layers[i] + layers[i+1])/2.0\n",
    "                    limit = np.sqrt(1.0 / mean)\n",
    "                    \n",
    "                # He initialization (typically used for very deep nets with PReLU activation)\n",
    "                elif initialization[0] == 'He':\n",
    "                    limit = np.sqrt(2.0 / layers[i+1])\n",
    "                \n",
    "                # generate the weights\n",
    "                if initialization[1] == 'normal':\n",
    "                    self.W.append(np.random.normal(0.0, limit, size=(layers[i] + 1, layers[i + 1] + 1)))\n",
    "                    \n",
    "                elif initialization[1] == 'uniform':\n",
    "                    limit *= np.sqrt(3.0)\n",
    "                    self.W.append(np.random.uniform(-limit, limit, size=(layers[i] + 1, layers[i + 1] + 1)))\n",
    "\n",
    "            # initialize weights between the last two layers (we don't want bias for the last one)\n",
    "\n",
    "            # define the limit term for normal random variables\n",
    "            if initialization[0] == 'LeCun':\n",
    "                limit = np.sqrt(1.0 / layers[-2])\n",
    "                \n",
    "            elif initialization[0] == 'Glorot':\n",
    "                mean = (layers[-2] + layers[-1])/2.0\n",
    "                limit = np.sqrt(1.0 / mean)\n",
    "                    \n",
    "            elif initialization[0] == 'He':\n",
    "                limit = np.sqrt(2.0 / layers[-2])\n",
    "            \n",
    "            # initialize the weights\n",
    "            if initialization[1] == 'normal':\n",
    "                self.W.append(np.random.normal(0.0, limit, size=(layers[-2] + 1, layers[-1])))\n",
    "                \n",
    "            elif initialization[1] == 'uniform':\n",
    "                limit *= np.sqrt(3.0)\n",
    "                self.W.append(np.random.uniform(-limit, limit, size=(layers[-2] + 1, layers[-1])))\n",
    "        \n",
    "    # define the activation function\n",
    "    def activate(self, x):\n",
    "        if self.activation == 'sigmoid':\n",
    "            return 1.0 / (1 + np.exp(-x))\n",
    "\n",
    "        if self.activation == 'ReLU':\n",
    "            return x*(x >= 0)\n",
    "        \n",
    "        if self.activation == 'ELU':\n",
    "            return x*(x >= 0) + 0.1*(np.exp(x) - 1)*(x < 0)\n",
    "        \n",
    "        if self.activation == 'tanh':\n",
    "            return np.tanh(x)\n",
    "    \n",
    "    # define the activation derivative (where x is the INPUT to activation function)\n",
    "    def activationDerivative(self, x):\n",
    "        if self.activation == 'sigmoid':\n",
    "            return self.activate(x) * (1 - self.activate(x))\n",
    "        \n",
    "        if self.activation == 'ReLU':\n",
    "            return x >= 0\n",
    "        \n",
    "        if self.activation == 'ELU':\n",
    "            return 1*(x >= 0) + 0.1*np.exp(x)*(x < 0)\n",
    "        \n",
    "        if self.activation == 'tanh':\n",
    "            return 1 - self.activate(x) ** 2\n",
    "    \n",
    "    def getNextBatch(self, X, y, batchSize):\n",
    "        for i in np.arange(0, X.shape[0], batchSize):\n",
    "            yield (X[i:i + batchSize], y[i:i + batchSize])\n",
    "    \n",
    "    # fit the model\n",
    "    def fit(self, X, y, valX, valY, epochs = 10000, update = 1000, printPerformance = True):\n",
    "        \n",
    "        # add a column of ones to the end of X\n",
    "        X = np.hstack((X, np.ones([X.shape[0],1])))\n",
    "        valX = np.hstack((valX, np.ones([valX.shape[0],1])))\n",
    "        losses = []\n",
    "        validationLosses = []\n",
    "        trainAccuracies = []\n",
    "        validationAccuracies = []\n",
    "        trainY = y\n",
    "        \n",
    "        numberOfExamples = X.shape[0]\n",
    "        \n",
    "        # use one-hot encoding for the labels\n",
    "        y = to_categorical(y)\n",
    "        \n",
    "        v = []\n",
    "        for layer in np.arange(0,len(self.W)):\n",
    "            v.append(np.zeros(self.W[layer].shape))\n",
    "            \n",
    "        alpha = self.alpha\n",
    "\n",
    "        for epoch in np.arange(0,epochs):\n",
    "            \n",
    "            if self.annealing[0] == 'step':\n",
    "                stepSize = self.alpha/self.annealing[1]\n",
    "                if epochs > 0 and epoch % self.annealing[1] == 0:\n",
    "                    alpha -= stepSize\n",
    "                    print(alpha)\n",
    "                \n",
    "            elif self.annealing[0] == 'exp':\n",
    "                alpha = self.alpha * np.exp(-self.annealing[1] * epoch)\n",
    "                    \n",
    "            elif self.annealing[0] == 'inv':\n",
    "                alpha = self.alpha / (1 + self.annealing[1] * epoch)\n",
    "            \n",
    "            # randomize the examples\n",
    "            p = np.arange(0,X.shape[0])\n",
    "            np.random.shuffle(p)\n",
    "            X = X[p]\n",
    "            y = y[p]\n",
    "\n",
    "            # feed forward, backprop, and weight update\n",
    "            for (x, target) in self.getNextBatch(X, y, self.batchSize):\n",
    "                \n",
    "                # make a list of output activations from the first layer\n",
    "                A = [np.atleast_2d(x)]\n",
    "                Z = [np.atleast_2d(x)]\n",
    "                \n",
    "                # feed forward\n",
    "                for layer in np.arange(0, len(self.W)):\n",
    "                    \n",
    "                    # feed through one layer and apply the activation\n",
    "                    net = A[layer] @ self.W[layer]\n",
    "                    \n",
    "                    if layer == len(self.W) - 1:\n",
    "                        out = 1/(1 + np.exp(-net))\n",
    "                    else:\n",
    "                        out = self.activate(net)\n",
    "                    \n",
    "                    # add pre-activations Z and activations A of the current layer\n",
    "                    A.append(out)\n",
    "                    Z.append(net)\n",
    "                    \n",
    "                # backpropagation\n",
    "                error = A[-1] - target\n",
    "                \n",
    "                if self.loss == 'sum-of-squares':\n",
    "                    D = [error * self.activationDerivative(Z[-1])]\n",
    "                    \n",
    "                if self.loss == 'cross-entropy':\n",
    "                    D = [error]\n",
    "                \n",
    "                # loop backwards over the layers to build up deltas\n",
    "                for layer in np.arange(len(A) - 2, 0, -1):\n",
    "                    delta = D[-1] @ self.W[layer].T\n",
    "                    delta = delta * self.activationDerivative(Z[layer])\n",
    "                    D.append(delta)\n",
    "                    \n",
    "                # reverse the deltas since we looped in reverse\n",
    "                D = D[::-1]\n",
    "                \n",
    "                # weight update\n",
    "                for layer in np.arange(0, len(self.W)):\n",
    "                    gradient = (A[layer].T @ D[layer]\n",
    "                                + (self.lambda1 / numberOfExamples) * np.sign(self.W[layer])\n",
    "                                + (self.lambda2 / numberOfExamples) * self.W[layer])\n",
    "                    \n",
    "                    v[layer] = self.gamma * v[layer] + alpha * gradient\n",
    "                    self.W[layer] -= v[layer]\n",
    "              \n",
    "            # print the loss (or maybe more) each 'update' number of epochs\n",
    "            if (epoch + 1) % update == 0:\n",
    "\n",
    "                # if we chose, compute the accuracy (this makes it run slower)\n",
    "                if printPerformance:        \n",
    "\n",
    "                    predictedY = self.predict(trainX)\n",
    "                    predictedY = predictedY.argmax(axis=1)\n",
    "                    trainAccuracy = accuracy_score(trainY, predictedY)\n",
    "                    \n",
    "                    predictedY = self.predict(valX, addOnes = False)\n",
    "                    predictedY = predictedY.argmax(axis=1)\n",
    "                    validationAccuracy = accuracy_score(valY, predictedY)\n",
    "\n",
    "                    validationAccuracies.append(validationAccuracy)\n",
    "                    trainAccuracies.append(trainAccuracy)\n",
    "                    \n",
    "                    loss = self.computeLoss(X,y)\n",
    "                    losses.append(loss)\n",
    "                    \n",
    "                    validationLoss = self.computeLoss(valX, to_categorical(valY))\n",
    "                    validationLosses.append(validationLoss)\n",
    "                    print(\"[INFO] epoch = {}, loss = {:.3f}, validation loss = {:.3f} training accuracy = {:.3f}, validation accuracy = {:.3f}\".format(epoch + 1, loss, validationLoss, trainAccuracy, validationAccuracy))\n",
    "                    \n",
    "                # otherwise, simply print the training loss\n",
    "                else:\n",
    "                    losses.append(loss)\n",
    "                    print(\"[INFO] epoch = {}, loss = {:.6f}\".format(epoch + 1, loss))\n",
    "                    print('[INFO] Epoch =', epoch + 1, 'of', epochs)\n",
    "\n",
    "        # if we chose to print the performance, plot loss, training accuracy, and validation accuracy for each epoch\n",
    "        if printPerformance:\n",
    "            fig, ax1 = plt.subplots()\n",
    "\n",
    "            # plot the losses\n",
    "            p1 = ax1.plot(np.arange(0, epochs, update), losses, label = 'Loss (train)', color = 'black')\n",
    "            p2 = ax1.plot(np.arange(0, epochs, update), validationLosses, label = 'Loss (validation)', color = 'blue')\n",
    "            ax1.set_xlabel('Training Epoch')\n",
    "            ax1.set_ylabel('Loss')\n",
    "\n",
    "            # make another y axis using the same x axis\n",
    "            ax2 = ax1.twinx()\n",
    "            \n",
    "            # plot the accuracy\n",
    "            p3 = ax2.plot(np.arange(0, epochs, update), trainAccuracies, label = 'Accuracy (train)', color = 'orange')\n",
    "            p4 = ax2.plot(np.arange(0, epochs, update), validationAccuracies, label = 'Accuracy (validation)', color = 'green')\n",
    "            ax2.set_ylabel('Accuracy')\n",
    "\n",
    "            # add a legend\n",
    "            ps = p1 + p2 + p3 + p4\n",
    "            labs = [p.get_label() for p in ps]\n",
    "            ax1.legend(ps, labs, loc=0)\n",
    "            \n",
    "    # feed data into the network and compute the outputs\n",
    "    def predict(self, X, addOnes = True):\n",
    "        # initialize data, be sure it's the right dimension\n",
    "        p = np.atleast_2d(X)\n",
    "        \n",
    "        # add a column of 1s for bias\n",
    "        if addOnes:\n",
    "            p = np.hstack((p, np.ones([X.shape[0],1])))\n",
    "        \n",
    "        # feed forward!\n",
    "        for layer in np.arange(0, len(self.W)):\n",
    "            if layer == len(self.W) - 1:\n",
    "                p = 1/(1 + np.exp(-p @ self.W[layer]))\n",
    "            else:\n",
    "                p = self.activate(p @ self.W[layer])\n",
    "            \n",
    "        return p\n",
    "    \n",
    "    # compute the loss function\n",
    "    def computeLoss(self, X, y):\n",
    "        # initialize data, be sure it's the right dimension\n",
    "        y = np.atleast_2d(y)\n",
    "        \n",
    "        # feed the datapoints through the network to get predicted outputs\n",
    "        predictions = self.predict(X, addOnes = False)\n",
    "        \n",
    "        # if the loss function is sum of squares, compute it\n",
    "        if self.loss == 'sum-of-squares':\n",
    "            loss = np.sum((predictions - y)**2) / 2.0\n",
    "            \n",
    "        # if the loss function is cross-entropy, compute it\n",
    "        if self.loss == 'cross-entropy':\n",
    "            loss = (1/X.shape[0])*np.sum(-y*np.log(predictions)-(1-y)*np.log(1-predictions))\n",
    "            \n",
    "        # if there is an L1 penalty, compute it and add it to the loss\n",
    "        if self.lambda1 != 0:\n",
    "            # compute the L1 penalty \n",
    "            L1penalty = 0\n",
    "\n",
    "            for layer in np.arange(0,len(self.W)):\n",
    "                L1penalty += np.sum(np.abs(self.W[layer]))\n",
    "        \n",
    "            # add the L1 penalty to the loss\n",
    "            loss = loss + (self.lambda1 / X.shape[0]) * L1penalty\n",
    "            \n",
    "        # if there is an L2 penalty, compute it and add it to the loss\n",
    "        if self.lambda2 != 0:\n",
    "            # compute the L2 penalty \n",
    "            L2penalty = 0\n",
    "\n",
    "            for layer in np.arange(0,len(self.W)):\n",
    "                L2penalty += np.sum(self.W[layer] ** 2)\n",
    "        \n",
    "            # add the L2 penalty to the loss\n",
    "            loss = loss + (self.lambda2 / X.shape[0]) * L2penalty\n",
    "        \n",
    "        return loss"
   ]
  },
  {
   "cell_type": "markdown",
   "id": "3e869b8b-8bcd-4f1d-9707-97afb56bdcaf",
   "metadata": {},
   "source": [
    "## Problem 3\n",
    "\n",
    "Apply a fully-connected feedforward neural network (with SGD) to the problem of classifying the MNIST dataset and compute validation accuracy at each training epoch.\n",
    "\n",
    "Generate two plots: (1) training epoch number vs. training and validation loss and (2) training epoch number vs. training and validation accuracy."
   ]
  },
  {
   "cell_type": "code",
   "execution_count": 3,
   "id": "5989b0e7-0f4c-4a67-9dc7-cfde3406436c",
   "metadata": {},
   "outputs": [
    {
     "name": "stdout",
     "output_type": "stream",
     "text": [
      "[INFO] epoch = 1, loss = 0.525, validation loss = 0.545 training accuracy = 0.920, validation accuracy = 0.917\n",
      "[INFO] epoch = 2, loss = 0.518, validation loss = 0.545 training accuracy = 0.922, validation accuracy = 0.917\n",
      "[INFO] epoch = 3, loss = 0.461, validation loss = 0.495 training accuracy = 0.931, validation accuracy = 0.926\n",
      "[INFO] epoch = 4, loss = 0.392, validation loss = 0.419 training accuracy = 0.941, validation accuracy = 0.936\n",
      "[INFO] epoch = 5, loss = 0.378, validation loss = 0.411 training accuracy = 0.945, validation accuracy = 0.939\n",
      "[INFO] epoch = 6, loss = 0.357, validation loss = 0.408 training accuracy = 0.946, validation accuracy = 0.941\n",
      "[INFO] epoch = 7, loss = 0.368, validation loss = 0.443 training accuracy = 0.944, validation accuracy = 0.933\n",
      "[INFO] epoch = 8, loss = 0.371, validation loss = 0.413 training accuracy = 0.943, validation accuracy = 0.938\n",
      "[INFO] epoch = 9, loss = 0.374, validation loss = 0.447 training accuracy = 0.943, validation accuracy = 0.938\n",
      "[INFO] epoch = 10, loss = 0.321, validation loss = 0.394 training accuracy = 0.951, validation accuracy = 0.940\n",
      "[INFO] epoch = 11, loss = 0.333, validation loss = 0.414 training accuracy = 0.950, validation accuracy = 0.938\n",
      "[INFO] epoch = 12, loss = 0.322, validation loss = 0.395 training accuracy = 0.952, validation accuracy = 0.940\n",
      "[INFO] epoch = 13, loss = 0.309, validation loss = 0.387 training accuracy = 0.954, validation accuracy = 0.942\n",
      "[INFO] epoch = 14, loss = 0.300, validation loss = 0.374 training accuracy = 0.955, validation accuracy = 0.947\n",
      "[INFO] epoch = 15, loss = 0.304, validation loss = 0.398 training accuracy = 0.955, validation accuracy = 0.942\n",
      "[INFO] epoch = 16, loss = 0.270, validation loss = 0.377 training accuracy = 0.961, validation accuracy = 0.946\n",
      "[INFO] epoch = 17, loss = 0.299, validation loss = 0.402 training accuracy = 0.958, validation accuracy = 0.943\n",
      "[INFO] epoch = 18, loss = 0.280, validation loss = 0.388 training accuracy = 0.959, validation accuracy = 0.940\n",
      "[INFO] epoch = 19, loss = 0.282, validation loss = 0.375 training accuracy = 0.957, validation accuracy = 0.945\n",
      "[INFO] epoch = 20, loss = 0.301, validation loss = 0.405 training accuracy = 0.956, validation accuracy = 0.940\n",
      "[INFO] epoch = 21, loss = 0.300, validation loss = 0.385 training accuracy = 0.956, validation accuracy = 0.944\n",
      "[INFO] epoch = 22, loss = 0.294, validation loss = 0.395 training accuracy = 0.956, validation accuracy = 0.944\n",
      "[INFO] epoch = 23, loss = 0.253, validation loss = 0.348 training accuracy = 0.964, validation accuracy = 0.950\n",
      "[INFO] epoch = 24, loss = 0.243, validation loss = 0.365 training accuracy = 0.966, validation accuracy = 0.949\n",
      "[INFO] epoch = 25, loss = 0.252, validation loss = 0.381 training accuracy = 0.964, validation accuracy = 0.946\n",
      "[INFO] epoch = 26, loss = 0.249, validation loss = 0.389 training accuracy = 0.965, validation accuracy = 0.950\n",
      "[INFO] epoch = 27, loss = 0.231, validation loss = 0.360 training accuracy = 0.967, validation accuracy = 0.949\n",
      "[INFO] epoch = 28, loss = 0.229, validation loss = 0.356 training accuracy = 0.968, validation accuracy = 0.949\n",
      "[INFO] epoch = 29, loss = 0.244, validation loss = 0.373 training accuracy = 0.965, validation accuracy = 0.948\n",
      "[INFO] epoch = 30, loss = 0.240, validation loss = 0.367 training accuracy = 0.967, validation accuracy = 0.950\n",
      "[INFO] epoch = 31, loss = 0.219, validation loss = 0.365 training accuracy = 0.969, validation accuracy = 0.951\n",
      "[INFO] epoch = 32, loss = 0.227, validation loss = 0.378 training accuracy = 0.969, validation accuracy = 0.949\n",
      "[INFO] epoch = 33, loss = 0.213, validation loss = 0.358 training accuracy = 0.970, validation accuracy = 0.953\n",
      "[INFO] epoch = 34, loss = 0.203, validation loss = 0.357 training accuracy = 0.972, validation accuracy = 0.951\n",
      "[INFO] epoch = 35, loss = 0.222, validation loss = 0.364 training accuracy = 0.968, validation accuracy = 0.951\n",
      "[INFO] epoch = 36, loss = 0.201, validation loss = 0.349 training accuracy = 0.972, validation accuracy = 0.953\n",
      "[INFO] epoch = 37, loss = 0.214, validation loss = 0.365 training accuracy = 0.971, validation accuracy = 0.951\n",
      "[INFO] epoch = 38, loss = 0.217, validation loss = 0.366 training accuracy = 0.970, validation accuracy = 0.951\n",
      "[INFO] epoch = 39, loss = 0.212, validation loss = 0.372 training accuracy = 0.970, validation accuracy = 0.952\n",
      "[INFO] epoch = 40, loss = 0.193, validation loss = 0.344 training accuracy = 0.974, validation accuracy = 0.952\n",
      "[INFO] epoch = 41, loss = 0.198, validation loss = 0.360 training accuracy = 0.972, validation accuracy = 0.951\n",
      "[INFO] epoch = 42, loss = 0.198, validation loss = 0.363 training accuracy = 0.972, validation accuracy = 0.948\n",
      "[INFO] epoch = 43, loss = 0.202, validation loss = 0.375 training accuracy = 0.972, validation accuracy = 0.950\n",
      "[INFO] epoch = 44, loss = 0.201, validation loss = 0.355 training accuracy = 0.971, validation accuracy = 0.953\n",
      "[INFO] epoch = 45, loss = 0.204, validation loss = 0.382 training accuracy = 0.971, validation accuracy = 0.947\n",
      "[INFO] epoch = 46, loss = 0.202, validation loss = 0.356 training accuracy = 0.972, validation accuracy = 0.950\n",
      "[INFO] epoch = 47, loss = 0.233, validation loss = 0.391 training accuracy = 0.968, validation accuracy = 0.949\n",
      "[INFO] epoch = 48, loss = 0.197, validation loss = 0.366 training accuracy = 0.973, validation accuracy = 0.950\n",
      "[INFO] epoch = 49, loss = 0.214, validation loss = 0.376 training accuracy = 0.970, validation accuracy = 0.946\n",
      "[INFO] epoch = 50, loss = 0.210, validation loss = 0.372 training accuracy = 0.971, validation accuracy = 0.950\n",
      "[INFO] epoch = 51, loss = 0.192, validation loss = 0.381 training accuracy = 0.973, validation accuracy = 0.949\n",
      "[INFO] epoch = 52, loss = 0.194, validation loss = 0.368 training accuracy = 0.973, validation accuracy = 0.949\n",
      "[INFO] epoch = 53, loss = 0.177, validation loss = 0.365 training accuracy = 0.977, validation accuracy = 0.950\n",
      "[INFO] epoch = 54, loss = 0.174, validation loss = 0.360 training accuracy = 0.977, validation accuracy = 0.952\n",
      "[INFO] epoch = 55, loss = 0.173, validation loss = 0.359 training accuracy = 0.977, validation accuracy = 0.952\n",
      "[INFO] epoch = 56, loss = 0.178, validation loss = 0.369 training accuracy = 0.976, validation accuracy = 0.949\n",
      "[INFO] epoch = 57, loss = 0.179, validation loss = 0.369 training accuracy = 0.975, validation accuracy = 0.950\n",
      "[INFO] epoch = 58, loss = 0.178, validation loss = 0.374 training accuracy = 0.976, validation accuracy = 0.950\n",
      "[INFO] epoch = 59, loss = 0.181, validation loss = 0.383 training accuracy = 0.976, validation accuracy = 0.950\n",
      "[INFO] epoch = 60, loss = 0.184, validation loss = 0.385 training accuracy = 0.975, validation accuracy = 0.952\n",
      "[INFO] epoch = 61, loss = 0.170, validation loss = 0.382 training accuracy = 0.977, validation accuracy = 0.950\n",
      "[INFO] epoch = 62, loss = 0.165, validation loss = 0.377 training accuracy = 0.978, validation accuracy = 0.950\n",
      "[INFO] epoch = 63, loss = 0.172, validation loss = 0.395 training accuracy = 0.977, validation accuracy = 0.949\n",
      "[INFO] epoch = 64, loss = 0.172, validation loss = 0.366 training accuracy = 0.977, validation accuracy = 0.950\n",
      "[INFO] epoch = 65, loss = 0.161, validation loss = 0.368 training accuracy = 0.979, validation accuracy = 0.951\n",
      "[INFO] epoch = 66, loss = 0.165, validation loss = 0.366 training accuracy = 0.977, validation accuracy = 0.951\n",
      "[INFO] epoch = 67, loss = 0.156, validation loss = 0.388 training accuracy = 0.979, validation accuracy = 0.951\n",
      "[INFO] epoch = 68, loss = 0.177, validation loss = 0.384 training accuracy = 0.977, validation accuracy = 0.951\n",
      "[INFO] epoch = 69, loss = 0.165, validation loss = 0.395 training accuracy = 0.978, validation accuracy = 0.948\n",
      "[INFO] epoch = 70, loss = 0.165, validation loss = 0.394 training accuracy = 0.978, validation accuracy = 0.951\n",
      "[INFO] epoch = 71, loss = 0.172, validation loss = 0.388 training accuracy = 0.977, validation accuracy = 0.949\n",
      "[INFO] epoch = 72, loss = 0.149, validation loss = 0.385 training accuracy = 0.980, validation accuracy = 0.950\n",
      "[INFO] epoch = 73, loss = 0.151, validation loss = 0.381 training accuracy = 0.980, validation accuracy = 0.950\n",
      "[INFO] epoch = 74, loss = 0.153, validation loss = 0.368 training accuracy = 0.980, validation accuracy = 0.951\n",
      "[INFO] epoch = 75, loss = 0.150, validation loss = 0.383 training accuracy = 0.980, validation accuracy = 0.951\n",
      "[INFO] epoch = 76, loss = 0.151, validation loss = 0.372 training accuracy = 0.980, validation accuracy = 0.951\n",
      "[INFO] epoch = 77, loss = 0.164, validation loss = 0.404 training accuracy = 0.978, validation accuracy = 0.948\n",
      "[INFO] epoch = 78, loss = 0.163, validation loss = 0.396 training accuracy = 0.979, validation accuracy = 0.949\n",
      "[INFO] epoch = 79, loss = 0.146, validation loss = 0.383 training accuracy = 0.981, validation accuracy = 0.950\n",
      "[INFO] epoch = 80, loss = 0.155, validation loss = 0.398 training accuracy = 0.979, validation accuracy = 0.947\n",
      "[INFO] epoch = 81, loss = 0.148, validation loss = 0.390 training accuracy = 0.980, validation accuracy = 0.951\n",
      "[INFO] epoch = 82, loss = 0.159, validation loss = 0.383 training accuracy = 0.978, validation accuracy = 0.953\n",
      "[INFO] epoch = 83, loss = 0.151, validation loss = 0.405 training accuracy = 0.980, validation accuracy = 0.950\n",
      "[INFO] epoch = 84, loss = 0.162, validation loss = 0.398 training accuracy = 0.978, validation accuracy = 0.949\n",
      "[INFO] epoch = 85, loss = 0.158, validation loss = 0.407 training accuracy = 0.979, validation accuracy = 0.950\n",
      "[INFO] epoch = 86, loss = 0.158, validation loss = 0.389 training accuracy = 0.978, validation accuracy = 0.954\n",
      "[INFO] epoch = 87, loss = 0.140, validation loss = 0.387 training accuracy = 0.982, validation accuracy = 0.952\n",
      "[INFO] epoch = 88, loss = 0.145, validation loss = 0.384 training accuracy = 0.981, validation accuracy = 0.951\n",
      "[INFO] epoch = 89, loss = 0.152, validation loss = 0.412 training accuracy = 0.980, validation accuracy = 0.948\n",
      "[INFO] epoch = 90, loss = 0.147, validation loss = 0.414 training accuracy = 0.981, validation accuracy = 0.952\n",
      "[INFO] epoch = 91, loss = 0.145, validation loss = 0.394 training accuracy = 0.981, validation accuracy = 0.952\n",
      "[INFO] epoch = 92, loss = 0.150, validation loss = 0.413 training accuracy = 0.980, validation accuracy = 0.951\n",
      "[INFO] epoch = 93, loss = 0.147, validation loss = 0.402 training accuracy = 0.980, validation accuracy = 0.950\n",
      "[INFO] epoch = 94, loss = 0.149, validation loss = 0.400 training accuracy = 0.980, validation accuracy = 0.949\n",
      "[INFO] epoch = 95, loss = 0.136, validation loss = 0.392 training accuracy = 0.983, validation accuracy = 0.951\n",
      "[INFO] epoch = 96, loss = 0.132, validation loss = 0.409 training accuracy = 0.983, validation accuracy = 0.952\n",
      "[INFO] epoch = 97, loss = 0.142, validation loss = 0.419 training accuracy = 0.982, validation accuracy = 0.950\n",
      "[INFO] epoch = 98, loss = 0.146, validation loss = 0.418 training accuracy = 0.981, validation accuracy = 0.948\n",
      "[INFO] epoch = 99, loss = 0.139, validation loss = 0.419 training accuracy = 0.983, validation accuracy = 0.950\n",
      "[INFO] epoch = 100, loss = 0.145, validation loss = 0.408 training accuracy = 0.981, validation accuracy = 0.950\n",
      "Test set accuracy\n",
      "              precision    recall  f1-score   support\n",
      "\n",
      "           0       0.94      0.98      0.96       490\n",
      "           1       0.98      0.99      0.98       554\n",
      "           2       0.95      0.94      0.95       502\n",
      "           3       0.92      0.95      0.94       495\n",
      "           4       0.93      0.97      0.95       472\n",
      "           5       0.94      0.92      0.93       448\n",
      "           6       0.97      0.95      0.96       498\n",
      "           7       0.97      0.94      0.96       520\n",
      "           8       0.95      0.95      0.95       504\n",
      "           9       0.95      0.91      0.93       517\n",
      "\n",
      "    accuracy                           0.95      5000\n",
      "   macro avg       0.95      0.95      0.95      5000\n",
      "weighted avg       0.95      0.95      0.95      5000\n",
      "\n"
     ]
    },
    {
     "data": {
      "image/png": "[encoded data removed]",
      "text/plain": [
       "<Figure size 432x288 with 2 Axes>"
      ]
     },
     "metadata": {
      "needs_background": "light"
     },
     "output_type": "display_data"
    }
   ],
   "source": [
    "from sklearn.metrics import accuracy_score\n",
    "from sklearn.metrics import classification_report\n",
    "\n",
    "from sklearn.model_selection import train_test_split\n",
    "\n",
    "from tensorflow.keras.datasets import mnist\n",
    "\n",
    "# load mnist data\n",
    "((trainX, trainY), (testX, testY)) = mnist.load_data()\n",
    "\n",
    "# scale the data to values in [0,1]\n",
    "trainX = trainX/255.0\n",
    "testX = testX/255.0\n",
    "\n",
    "# reshape the data to a vector\n",
    "trainX = trainX.reshape([60000, 28*28])\n",
    "testX = testX.reshape([10000, 28*28])\n",
    "\n",
    "# split test data into validation and test sets\n",
    "valX, testX, valY, testY = train_test_split(testX, testY, test_size = 0.5)\n",
    "\n",
    "# create a model\n",
    "model = FeedforwardNeuralNetwork([784, 32, 10], 0.1, initialization = ['Glorot', 'normal'], loss = 'cross-entropy')\n",
    "\n",
    "# fit the model to the training data\n",
    "model.fit(trainX, trainY, valX, valY, 100, 1)\n",
    "\n",
    "print(\"Test set accuracy\")\n",
    "testY = to_categorical(testY)\n",
    "predictedY = model.predict(testX)\n",
    "predictedY = predictedY.argmax(axis=1)\n",
    "\n",
    "testY = testY.argmax(axis=1)\n",
    "print(classification_report(testY, predictedY))"
   ]
  },
  {
   "cell_type": "markdown",
   "id": "83a3ae6f-0443-4165-953b-b35504554b73",
   "metadata": {},
   "source": [
    "## Problem 4\n",
    "\n",
    "Train models on MNIST with each choice of activation to see if there are differences in classification performance or computational time. Generate the same plots as \\#3"
   ]
  },
  {
   "cell_type": "code",
   "execution_count": 4,
   "id": "5449416c-d6c2-436a-bb2b-be33788a6d53",
   "metadata": {},
   "outputs": [
    {
     "name": "stdout",
     "output_type": "stream",
     "text": [
      "[INFO] epoch = 1, loss = 0.619, validation loss = 0.604 training accuracy = 0.913, validation accuracy = 0.914\n",
      "[INFO] epoch = 2, loss = 0.503, validation loss = 0.510 training accuracy = 0.930, validation accuracy = 0.928\n",
      "[INFO] epoch = 3, loss = 0.440, validation loss = 0.449 training accuracy = 0.938, validation accuracy = 0.935\n",
      "[INFO] epoch = 4, loss = 0.393, validation loss = 0.412 training accuracy = 0.945, validation accuracy = 0.940\n",
      "[INFO] epoch = 5, loss = 0.375, validation loss = 0.396 training accuracy = 0.947, validation accuracy = 0.944\n",
      "[INFO] epoch = 6, loss = 0.343, validation loss = 0.368 training accuracy = 0.953, validation accuracy = 0.947\n",
      "[INFO] epoch = 7, loss = 0.331, validation loss = 0.356 training accuracy = 0.956, validation accuracy = 0.948\n",
      "[INFO] epoch = 8, loss = 0.307, validation loss = 0.339 training accuracy = 0.959, validation accuracy = 0.952\n",
      "[INFO] epoch = 9, loss = 0.297, validation loss = 0.331 training accuracy = 0.961, validation accuracy = 0.955\n",
      "[INFO] epoch = 10, loss = 0.290, validation loss = 0.330 training accuracy = 0.961, validation accuracy = 0.954\n",
      "[INFO] epoch = 11, loss = 0.274, validation loss = 0.316 training accuracy = 0.964, validation accuracy = 0.956\n",
      "[INFO] epoch = 12, loss = 0.267, validation loss = 0.309 training accuracy = 0.965, validation accuracy = 0.955\n",
      "[INFO] epoch = 13, loss = 0.258, validation loss = 0.306 training accuracy = 0.966, validation accuracy = 0.957\n",
      "[INFO] epoch = 14, loss = 0.251, validation loss = 0.303 training accuracy = 0.967, validation accuracy = 0.959\n",
      "[INFO] epoch = 15, loss = 0.247, validation loss = 0.304 training accuracy = 0.968, validation accuracy = 0.958\n",
      "[INFO] epoch = 16, loss = 0.241, validation loss = 0.291 training accuracy = 0.969, validation accuracy = 0.959\n",
      "[INFO] epoch = 17, loss = 0.234, validation loss = 0.290 training accuracy = 0.970, validation accuracy = 0.961\n",
      "[INFO] epoch = 18, loss = 0.227, validation loss = 0.283 training accuracy = 0.971, validation accuracy = 0.961\n",
      "[INFO] epoch = 19, loss = 0.228, validation loss = 0.291 training accuracy = 0.971, validation accuracy = 0.960\n",
      "[INFO] epoch = 20, loss = 0.219, validation loss = 0.279 training accuracy = 0.973, validation accuracy = 0.963\n",
      "[INFO] epoch = 21, loss = 0.217, validation loss = 0.282 training accuracy = 0.973, validation accuracy = 0.962\n",
      "[INFO] epoch = 22, loss = 0.213, validation loss = 0.277 training accuracy = 0.973, validation accuracy = 0.963\n",
      "[INFO] epoch = 23, loss = 0.207, validation loss = 0.273 training accuracy = 0.975, validation accuracy = 0.962\n",
      "[INFO] epoch = 24, loss = 0.206, validation loss = 0.274 training accuracy = 0.975, validation accuracy = 0.963\n",
      "[INFO] epoch = 25, loss = 0.205, validation loss = 0.276 training accuracy = 0.975, validation accuracy = 0.964\n",
      "[INFO] epoch = 26, loss = 0.201, validation loss = 0.275 training accuracy = 0.976, validation accuracy = 0.965\n",
      "[INFO] epoch = 27, loss = 0.201, validation loss = 0.277 training accuracy = 0.976, validation accuracy = 0.965\n",
      "[INFO] epoch = 28, loss = 0.199, validation loss = 0.274 training accuracy = 0.977, validation accuracy = 0.965\n",
      "[INFO] epoch = 29, loss = 0.192, validation loss = 0.277 training accuracy = 0.977, validation accuracy = 0.965\n",
      "[INFO] epoch = 30, loss = 0.189, validation loss = 0.274 training accuracy = 0.977, validation accuracy = 0.964\n",
      "[INFO] epoch = 31, loss = 0.184, validation loss = 0.270 training accuracy = 0.978, validation accuracy = 0.965\n",
      "[INFO] epoch = 32, loss = 0.189, validation loss = 0.270 training accuracy = 0.977, validation accuracy = 0.966\n",
      "[INFO] epoch = 33, loss = 0.176, validation loss = 0.263 training accuracy = 0.980, validation accuracy = 0.967\n",
      "[INFO] epoch = 34, loss = 0.181, validation loss = 0.271 training accuracy = 0.979, validation accuracy = 0.966\n",
      "[INFO] epoch = 35, loss = 0.172, validation loss = 0.264 training accuracy = 0.980, validation accuracy = 0.967\n",
      "[INFO] epoch = 36, loss = 0.174, validation loss = 0.267 training accuracy = 0.980, validation accuracy = 0.964\n",
      "[INFO] epoch = 37, loss = 0.172, validation loss = 0.262 training accuracy = 0.980, validation accuracy = 0.967\n",
      "[INFO] epoch = 38, loss = 0.172, validation loss = 0.264 training accuracy = 0.981, validation accuracy = 0.968\n",
      "[INFO] epoch = 39, loss = 0.176, validation loss = 0.269 training accuracy = 0.979, validation accuracy = 0.965\n",
      "[INFO] epoch = 40, loss = 0.166, validation loss = 0.269 training accuracy = 0.981, validation accuracy = 0.967\n",
      "[INFO] epoch = 41, loss = 0.163, validation loss = 0.259 training accuracy = 0.981, validation accuracy = 0.968\n",
      "[INFO] epoch = 42, loss = 0.160, validation loss = 0.258 training accuracy = 0.982, validation accuracy = 0.968\n",
      "[INFO] epoch = 43, loss = 0.162, validation loss = 0.265 training accuracy = 0.982, validation accuracy = 0.968\n",
      "[INFO] epoch = 44, loss = 0.155, validation loss = 0.255 training accuracy = 0.983, validation accuracy = 0.969\n",
      "[INFO] epoch = 45, loss = 0.168, validation loss = 0.267 training accuracy = 0.981, validation accuracy = 0.968\n",
      "[INFO] epoch = 46, loss = 0.156, validation loss = 0.261 training accuracy = 0.983, validation accuracy = 0.968\n",
      "[INFO] epoch = 47, loss = 0.157, validation loss = 0.264 training accuracy = 0.982, validation accuracy = 0.969\n",
      "[INFO] epoch = 48, loss = 0.151, validation loss = 0.257 training accuracy = 0.983, validation accuracy = 0.970\n",
      "[INFO] epoch = 49, loss = 0.151, validation loss = 0.257 training accuracy = 0.983, validation accuracy = 0.969\n",
      "[INFO] epoch = 50, loss = 0.146, validation loss = 0.258 training accuracy = 0.984, validation accuracy = 0.969\n",
      "[INFO] epoch = 51, loss = 0.146, validation loss = 0.258 training accuracy = 0.984, validation accuracy = 0.968\n",
      "[INFO] epoch = 52, loss = 0.151, validation loss = 0.265 training accuracy = 0.984, validation accuracy = 0.968\n",
      "[INFO] epoch = 53, loss = 0.148, validation loss = 0.260 training accuracy = 0.983, validation accuracy = 0.969\n",
      "[INFO] epoch = 54, loss = 0.138, validation loss = 0.254 training accuracy = 0.985, validation accuracy = 0.970\n",
      "[INFO] epoch = 55, loss = 0.140, validation loss = 0.256 training accuracy = 0.985, validation accuracy = 0.969\n",
      "[INFO] epoch = 56, loss = 0.138, validation loss = 0.256 training accuracy = 0.985, validation accuracy = 0.969\n",
      "[INFO] epoch = 57, loss = 0.138, validation loss = 0.254 training accuracy = 0.985, validation accuracy = 0.971\n",
      "[INFO] epoch = 58, loss = 0.141, validation loss = 0.265 training accuracy = 0.984, validation accuracy = 0.967\n",
      "[INFO] epoch = 59, loss = 0.139, validation loss = 0.263 training accuracy = 0.985, validation accuracy = 0.968\n",
      "[INFO] epoch = 60, loss = 0.139, validation loss = 0.266 training accuracy = 0.985, validation accuracy = 0.967\n",
      "[INFO] epoch = 61, loss = 0.136, validation loss = 0.264 training accuracy = 0.985, validation accuracy = 0.968\n",
      "[INFO] epoch = 62, loss = 0.133, validation loss = 0.256 training accuracy = 0.986, validation accuracy = 0.971\n",
      "[INFO] epoch = 63, loss = 0.133, validation loss = 0.260 training accuracy = 0.986, validation accuracy = 0.970\n",
      "[INFO] epoch = 64, loss = 0.133, validation loss = 0.264 training accuracy = 0.985, validation accuracy = 0.970\n",
      "[INFO] epoch = 65, loss = 0.134, validation loss = 0.268 training accuracy = 0.985, validation accuracy = 0.970\n",
      "[INFO] epoch = 66, loss = 0.135, validation loss = 0.272 training accuracy = 0.986, validation accuracy = 0.968\n",
      "[INFO] epoch = 67, loss = 0.125, validation loss = 0.256 training accuracy = 0.987, validation accuracy = 0.969\n",
      "[INFO] epoch = 68, loss = 0.125, validation loss = 0.259 training accuracy = 0.987, validation accuracy = 0.972\n",
      "[INFO] epoch = 69, loss = 0.129, validation loss = 0.262 training accuracy = 0.987, validation accuracy = 0.969\n",
      "[INFO] epoch = 70, loss = 0.127, validation loss = 0.260 training accuracy = 0.987, validation accuracy = 0.969\n",
      "[INFO] epoch = 71, loss = 0.124, validation loss = 0.266 training accuracy = 0.987, validation accuracy = 0.970\n",
      "[INFO] epoch = 72, loss = 0.121, validation loss = 0.262 training accuracy = 0.988, validation accuracy = 0.970\n",
      "[INFO] epoch = 73, loss = 0.118, validation loss = 0.257 training accuracy = 0.988, validation accuracy = 0.970\n",
      "[INFO] epoch = 74, loss = 0.123, validation loss = 0.259 training accuracy = 0.987, validation accuracy = 0.970\n",
      "[INFO] epoch = 75, loss = 0.118, validation loss = 0.257 training accuracy = 0.988, validation accuracy = 0.970\n",
      "[INFO] epoch = 76, loss = 0.118, validation loss = 0.264 training accuracy = 0.988, validation accuracy = 0.971\n",
      "[INFO] epoch = 77, loss = 0.113, validation loss = 0.262 training accuracy = 0.988, validation accuracy = 0.970\n",
      "[INFO] epoch = 78, loss = 0.123, validation loss = 0.267 training accuracy = 0.987, validation accuracy = 0.969\n",
      "[INFO] epoch = 79, loss = 0.121, validation loss = 0.268 training accuracy = 0.987, validation accuracy = 0.970\n",
      "[INFO] epoch = 80, loss = 0.115, validation loss = 0.268 training accuracy = 0.988, validation accuracy = 0.970\n",
      "[INFO] epoch = 81, loss = 0.112, validation loss = 0.265 training accuracy = 0.989, validation accuracy = 0.970\n",
      "[INFO] epoch = 82, loss = 0.114, validation loss = 0.269 training accuracy = 0.989, validation accuracy = 0.969\n",
      "[INFO] epoch = 83, loss = 0.112, validation loss = 0.267 training accuracy = 0.989, validation accuracy = 0.970\n",
      "[INFO] epoch = 84, loss = 0.116, validation loss = 0.271 training accuracy = 0.988, validation accuracy = 0.969\n",
      "[INFO] epoch = 85, loss = 0.109, validation loss = 0.265 training accuracy = 0.989, validation accuracy = 0.970\n",
      "[INFO] epoch = 86, loss = 0.113, validation loss = 0.273 training accuracy = 0.988, validation accuracy = 0.969\n",
      "[INFO] epoch = 87, loss = 0.108, validation loss = 0.266 training accuracy = 0.989, validation accuracy = 0.970\n",
      "[INFO] epoch = 88, loss = 0.104, validation loss = 0.265 training accuracy = 0.989, validation accuracy = 0.971\n",
      "[INFO] epoch = 89, loss = 0.106, validation loss = 0.270 training accuracy = 0.989, validation accuracy = 0.970\n",
      "[INFO] epoch = 90, loss = 0.108, validation loss = 0.272 training accuracy = 0.989, validation accuracy = 0.970\n",
      "[INFO] epoch = 91, loss = 0.103, validation loss = 0.268 training accuracy = 0.990, validation accuracy = 0.970\n",
      "[INFO] epoch = 92, loss = 0.110, validation loss = 0.268 training accuracy = 0.989, validation accuracy = 0.971\n",
      "[INFO] epoch = 93, loss = 0.104, validation loss = 0.274 training accuracy = 0.990, validation accuracy = 0.969\n",
      "[INFO] epoch = 94, loss = 0.103, validation loss = 0.271 training accuracy = 0.990, validation accuracy = 0.971\n",
      "[INFO] epoch = 95, loss = 0.106, validation loss = 0.276 training accuracy = 0.989, validation accuracy = 0.970\n",
      "[INFO] epoch = 96, loss = 0.101, validation loss = 0.273 training accuracy = 0.990, validation accuracy = 0.970\n",
      "[INFO] epoch = 97, loss = 0.107, validation loss = 0.282 training accuracy = 0.990, validation accuracy = 0.970\n",
      "[INFO] epoch = 98, loss = 0.100, validation loss = 0.271 training accuracy = 0.990, validation accuracy = 0.970\n",
      "[INFO] epoch = 99, loss = 0.103, validation loss = 0.279 training accuracy = 0.990, validation accuracy = 0.970\n",
      "[INFO] epoch = 100, loss = 0.098, validation loss = 0.278 training accuracy = 0.991, validation accuracy = 0.968\n",
      "Test set accuracy\n",
      "              precision    recall  f1-score   support\n",
      "\n",
      "           0       0.98      0.99      0.98       463\n",
      "           1       0.99      0.99      0.99       570\n",
      "           2       0.97      0.98      0.97       518\n",
      "           3       0.95      0.96      0.96       501\n",
      "           4       0.97      0.99      0.98       510\n",
      "           5       0.97      0.96      0.96       461\n",
      "           6       0.98      0.96      0.97       496\n",
      "           7       0.96      0.96      0.96       488\n",
      "           8       0.96      0.96      0.96       470\n",
      "           9       0.97      0.96      0.97       523\n",
      "\n",
      "    accuracy                           0.97      5000\n",
      "   macro avg       0.97      0.97      0.97      5000\n",
      "weighted avg       0.97      0.97      0.97      5000\n",
      "\n"
     ]
    },
    {
     "data": {
      "image/png": "[encoded data removed]",
      "text/plain": [
       "<Figure size 432x288 with 2 Axes>"
      ]
     },
     "metadata": {
      "needs_background": "light"
     },
     "output_type": "display_data"
    }
   ],
   "source": [
    "# load mnist data\n",
    "((trainX, trainY), (testX, testY)) = mnist.load_data()\n",
    "\n",
    "# scale the data to values in [0,1]\n",
    "trainX = trainX/255.0\n",
    "testX = testX/255.0\n",
    "\n",
    "# reshape the data to a vector\n",
    "trainX = trainX.reshape([60000, 28*28])\n",
    "testX = testX.reshape([10000, 28*28])\n",
    "\n",
    "# split test data into validation and test sets\n",
    "valX, testX, valY, testY = train_test_split(testX, testY, test_size = 0.5)\n",
    "\n",
    "# create a model\n",
    "model = FeedforwardNeuralNetwork([784, 32, 10], 0.001, activations = 'ReLU', initialization = ['Glorot', 'normal'], loss = 'cross-entropy')\n",
    "\n",
    "# fit the model to the training data\n",
    "model.fit(trainX, trainY, valX, valY, 100, 1)\n",
    "\n",
    "print(\"Test set accuracy\")\n",
    "testY = to_categorical(testY)\n",
    "predictedY = model.predict(testX)\n",
    "predictedY = predictedY.argmax(axis=1)\n",
    "\n",
    "testY = testY.argmax(axis=1)\n",
    "print(classification_report(testY, predictedY))"
   ]
  },
  {
   "cell_type": "code",
   "execution_count": 5,
   "id": "00118a78-5cab-4447-972c-c2d12ed136da",
   "metadata": {},
   "outputs": [
    {
     "name": "stdout",
     "output_type": "stream",
     "text": [
      "[INFO] epoch = 1, loss = 11.456, validation loss = 11.240 training accuracy = 0.281, validation accuracy = 0.283\n",
      "[INFO] epoch = 2, loss = 15.873, validation loss = 15.545 training accuracy = 0.374, validation accuracy = 0.382\n",
      "[INFO] epoch = 3, loss = 20.785, validation loss = 20.280 training accuracy = 0.251, validation accuracy = 0.258\n",
      "[INFO] epoch = 4, loss = 15.351, validation loss = 15.182 training accuracy = 0.356, validation accuracy = 0.354\n",
      "[INFO] epoch = 5, loss = 9.290, validation loss = 9.054 training accuracy = 0.374, validation accuracy = 0.389\n",
      "[INFO] epoch = 6, loss = 14.417, validation loss = 14.514 training accuracy = 0.255, validation accuracy = 0.243\n",
      "[INFO] epoch = 7, loss = 17.094, validation loss = 16.962 training accuracy = 0.355, validation accuracy = 0.351\n",
      "[INFO] epoch = 8, loss = 13.079, validation loss = 12.747 training accuracy = 0.366, validation accuracy = 0.368\n",
      "[INFO] epoch = 9, loss = 6.224, validation loss = 6.330 training accuracy = 0.537, validation accuracy = 0.537\n",
      "[INFO] epoch = 10, loss = 5.934, validation loss = 5.845 training accuracy = 0.439, validation accuracy = 0.437\n",
      "[INFO] epoch = 11, loss = 9.090, validation loss = 8.725 training accuracy = 0.554, validation accuracy = 0.556\n",
      "[INFO] epoch = 12, loss = 5.084, validation loss = 4.926 training accuracy = 0.523, validation accuracy = 0.525\n",
      "[INFO] epoch = 13, loss = 5.788, validation loss = 5.859 training accuracy = 0.690, validation accuracy = 0.686\n",
      "[INFO] epoch = 14, loss = 3.166, validation loss = 3.157 training accuracy = 0.707, validation accuracy = 0.704\n",
      "[INFO] epoch = 15, loss = 3.244, validation loss = 3.265 training accuracy = 0.735, validation accuracy = 0.724\n",
      "[INFO] epoch = 16, loss = 5.994, validation loss = 5.911 training accuracy = 0.524, validation accuracy = 0.527\n",
      "[INFO] epoch = 17, loss = 2.703, validation loss = 2.654 training accuracy = 0.711, validation accuracy = 0.711\n",
      "[INFO] epoch = 18, loss = 3.805, validation loss = 3.838 training accuracy = 0.750, validation accuracy = 0.744\n",
      "[INFO] epoch = 19, loss = 7.996, validation loss = 7.862 training accuracy = 0.553, validation accuracy = 0.571\n",
      "[INFO] epoch = 20, loss = 2.047, validation loss = 2.025 training accuracy = 0.766, validation accuracy = 0.772\n",
      "[INFO] epoch = 21, loss = 1.929, validation loss = 1.920 training accuracy = 0.827, validation accuracy = 0.824\n",
      "[INFO] epoch = 22, loss = 1.845, validation loss = 1.831 training accuracy = 0.829, validation accuracy = 0.828\n",
      "[INFO] epoch = 23, loss = 1.831, validation loss = 1.828 training accuracy = 0.836, validation accuracy = 0.834\n",
      "[INFO] epoch = 24, loss = 3.700, validation loss = 3.665 training accuracy = 0.756, validation accuracy = 0.764\n",
      "[INFO] epoch = 25, loss = 2.107, validation loss = 2.093 training accuracy = 0.831, validation accuracy = 0.830\n",
      "[INFO] epoch = 26, loss = 3.721, validation loss = 3.726 training accuracy = 0.630, validation accuracy = 0.636\n",
      "[INFO] epoch = 27, loss = 2.230, validation loss = 2.253 training accuracy = 0.764, validation accuracy = 0.760\n",
      "[INFO] epoch = 28, loss = 3.325, validation loss = 3.345 training accuracy = 0.676, validation accuracy = 0.679\n",
      "[INFO] epoch = 29, loss = 2.337, validation loss = 2.311 training accuracy = 0.761, validation accuracy = 0.768\n",
      "[INFO] epoch = 30, loss = 1.851, validation loss = 1.836 training accuracy = 0.841, validation accuracy = 0.845\n",
      "[INFO] epoch = 31, loss = 2.141, validation loss = 2.168 training accuracy = 0.778, validation accuracy = 0.781\n",
      "[INFO] epoch = 32, loss = 2.193, validation loss = 2.207 training accuracy = 0.775, validation accuracy = 0.775\n",
      "[INFO] epoch = 33, loss = 3.892, validation loss = 3.885 training accuracy = 0.727, validation accuracy = 0.724\n",
      "[INFO] epoch = 34, loss = 4.217, validation loss = 4.137 training accuracy = 0.753, validation accuracy = 0.753\n",
      "[INFO] epoch = 35, loss = 1.711, validation loss = 1.719 training accuracy = 0.849, validation accuracy = 0.851\n",
      "[INFO] epoch = 36, loss = 5.594, validation loss = 5.664 training accuracy = 0.500, validation accuracy = 0.506\n",
      "[INFO] epoch = 37, loss = 2.011, validation loss = 1.993 training accuracy = 0.765, validation accuracy = 0.765\n",
      "[INFO] epoch = 38, loss = 1.495, validation loss = 1.541 training accuracy = 0.856, validation accuracy = 0.845\n",
      "[INFO] epoch = 39, loss = 1.643, validation loss = 1.673 training accuracy = 0.841, validation accuracy = 0.840\n",
      "[INFO] epoch = 40, loss = 2.724, validation loss = 2.802 training accuracy = 0.781, validation accuracy = 0.776\n",
      "[INFO] epoch = 41, loss = 3.568, validation loss = 3.494 training accuracy = 0.768, validation accuracy = 0.766\n",
      "[INFO] epoch = 42, loss = 2.302, validation loss = 2.326 training accuracy = 0.781, validation accuracy = 0.773\n",
      "[INFO] epoch = 43, loss = 2.626, validation loss = 2.583 training accuracy = 0.748, validation accuracy = 0.747\n",
      "[INFO] epoch = 44, loss = 1.783, validation loss = 1.804 training accuracy = 0.828, validation accuracy = 0.828\n",
      "[INFO] epoch = 45, loss = 2.061, validation loss = 2.078 training accuracy = 0.797, validation accuracy = 0.801\n",
      "[INFO] epoch = 46, loss = 1.684, validation loss = 1.624 training accuracy = 0.850, validation accuracy = 0.852\n",
      "[INFO] epoch = 47, loss = 1.862, validation loss = 1.867 training accuracy = 0.848, validation accuracy = 0.852\n",
      "[INFO] epoch = 48, loss = 2.218, validation loss = 2.228 training accuracy = 0.792, validation accuracy = 0.793\n",
      "[INFO] epoch = 49, loss = 4.381, validation loss = 4.579 training accuracy = 0.767, validation accuracy = 0.755\n",
      "[INFO] epoch = 50, loss = 2.749, validation loss = 2.680 training accuracy = 0.759, validation accuracy = 0.755\n",
      "[INFO] epoch = 51, loss = 1.572, validation loss = 1.579 training accuracy = 0.847, validation accuracy = 0.851\n",
      "[INFO] epoch = 52, loss = 1.670, validation loss = 1.738 training accuracy = 0.853, validation accuracy = 0.842\n",
      "[INFO] epoch = 53, loss = 2.434, validation loss = 2.414 training accuracy = 0.811, validation accuracy = 0.808\n",
      "[INFO] epoch = 54, loss = 1.721, validation loss = 1.657 training accuracy = 0.832, validation accuracy = 0.838\n",
      "[INFO] epoch = 55, loss = 1.925, validation loss = 1.989 training accuracy = 0.839, validation accuracy = 0.837\n",
      "[INFO] epoch = 56, loss = 2.446, validation loss = 2.393 training accuracy = 0.765, validation accuracy = 0.765\n",
      "[INFO] epoch = 57, loss = 1.652, validation loss = 1.677 training accuracy = 0.860, validation accuracy = 0.859\n",
      "[INFO] epoch = 58, loss = 1.627, validation loss = 1.610 training accuracy = 0.837, validation accuracy = 0.841\n",
      "[INFO] epoch = 59, loss = 1.460, validation loss = 1.479 training accuracy = 0.839, validation accuracy = 0.838\n",
      "[INFO] epoch = 60, loss = 1.673, validation loss = 1.732 training accuracy = 0.858, validation accuracy = 0.850\n",
      "[INFO] epoch = 61, loss = 2.257, validation loss = 2.326 training accuracy = 0.817, validation accuracy = 0.813\n",
      "[INFO] epoch = 62, loss = 1.558, validation loss = 1.591 training accuracy = 0.861, validation accuracy = 0.861\n",
      "[INFO] epoch = 63, loss = 1.783, validation loss = 1.865 training accuracy = 0.839, validation accuracy = 0.832\n",
      "[INFO] epoch = 64, loss = 1.677, validation loss = 1.677 training accuracy = 0.837, validation accuracy = 0.836\n",
      "[INFO] epoch = 65, loss = 1.890, validation loss = 1.912 training accuracy = 0.830, validation accuracy = 0.826\n",
      "[INFO] epoch = 66, loss = 2.334, validation loss = 2.373 training accuracy = 0.762, validation accuracy = 0.759\n",
      "[INFO] epoch = 67, loss = 1.551, validation loss = 1.532 training accuracy = 0.856, validation accuracy = 0.855\n",
      "[INFO] epoch = 68, loss = 6.359, validation loss = 6.229 training accuracy = 0.556, validation accuracy = 0.556\n",
      "[INFO] epoch = 69, loss = 2.009, validation loss = 2.046 training accuracy = 0.833, validation accuracy = 0.833\n",
      "[INFO] epoch = 70, loss = 1.811, validation loss = 1.839 training accuracy = 0.806, validation accuracy = 0.802\n",
      "[INFO] epoch = 71, loss = 2.937, validation loss = 3.050 training accuracy = 0.752, validation accuracy = 0.749\n",
      "[INFO] epoch = 72, loss = 1.494, validation loss = 1.534 training accuracy = 0.843, validation accuracy = 0.841\n",
      "[INFO] epoch = 73, loss = 4.127, validation loss = 3.972 training accuracy = 0.779, validation accuracy = 0.790\n",
      "[INFO] epoch = 74, loss = 2.741, validation loss = 2.828 training accuracy = 0.780, validation accuracy = 0.777\n",
      "[INFO] epoch = 75, loss = 2.045, validation loss = 2.124 training accuracy = 0.776, validation accuracy = 0.765\n",
      "[INFO] epoch = 76, loss = 1.770, validation loss = 1.881 training accuracy = 0.826, validation accuracy = 0.819\n",
      "[INFO] epoch = 77, loss = 2.763, validation loss = 2.725 training accuracy = 0.732, validation accuracy = 0.741\n",
      "[INFO] epoch = 78, loss = 2.030, validation loss = 2.022 training accuracy = 0.773, validation accuracy = 0.779\n",
      "[INFO] epoch = 79, loss = 1.493, validation loss = 1.538 training accuracy = 0.861, validation accuracy = 0.856\n",
      "[INFO] epoch = 80, loss = 1.478, validation loss = 1.534 training accuracy = 0.861, validation accuracy = 0.856\n",
      "[INFO] epoch = 81, loss = 1.481, validation loss = 1.490 training accuracy = 0.858, validation accuracy = 0.861\n",
      "[INFO] epoch = 82, loss = 1.674, validation loss = 1.727 training accuracy = 0.853, validation accuracy = 0.852\n",
      "[INFO] epoch = 83, loss = 3.186, validation loss = 3.141 training accuracy = 0.704, validation accuracy = 0.705\n",
      "[INFO] epoch = 84, loss = 3.627, validation loss = 3.570 training accuracy = 0.697, validation accuracy = 0.703\n",
      "[INFO] epoch = 85, loss = 1.817, validation loss = 1.837 training accuracy = 0.806, validation accuracy = 0.806\n",
      "[INFO] epoch = 86, loss = 1.428, validation loss = 1.444 training accuracy = 0.865, validation accuracy = 0.859\n",
      "[INFO] epoch = 87, loss = 3.541, validation loss = 3.612 training accuracy = 0.780, validation accuracy = 0.772\n",
      "[INFO] epoch = 88, loss = 2.087, validation loss = 2.170 training accuracy = 0.822, validation accuracy = 0.817\n",
      "[INFO] epoch = 89, loss = 1.664, validation loss = 1.683 training accuracy = 0.853, validation accuracy = 0.853\n",
      "[INFO] epoch = 90, loss = 1.333, validation loss = 1.390 training accuracy = 0.870, validation accuracy = 0.865\n",
      "[INFO] epoch = 91, loss = 2.748, validation loss = 2.845 training accuracy = 0.755, validation accuracy = 0.751\n",
      "[INFO] epoch = 92, loss = 2.525, validation loss = 2.534 training accuracy = 0.762, validation accuracy = 0.761\n",
      "[INFO] epoch = 93, loss = 2.059, validation loss = 2.106 training accuracy = 0.813, validation accuracy = 0.814\n",
      "[INFO] epoch = 94, loss = 1.840, validation loss = 1.837 training accuracy = 0.813, validation accuracy = 0.817\n",
      "[INFO] epoch = 95, loss = 1.981, validation loss = 2.017 training accuracy = 0.862, validation accuracy = 0.860\n",
      "[INFO] epoch = 96, loss = 1.792, validation loss = 1.796 training accuracy = 0.797, validation accuracy = 0.808\n",
      "[INFO] epoch = 97, loss = 1.717, validation loss = 1.694 training accuracy = 0.861, validation accuracy = 0.864\n",
      "[INFO] epoch = 98, loss = 2.023, validation loss = 2.138 training accuracy = 0.840, validation accuracy = 0.835\n",
      "[INFO] epoch = 99, loss = 1.983, validation loss = 2.009 training accuracy = 0.757, validation accuracy = 0.755\n",
      "[INFO] epoch = 100, loss = 2.135, validation loss = 2.087 training accuracy = 0.801, validation accuracy = 0.806\n",
      "Test set accuracy\n",
      "              precision    recall  f1-score   support\n",
      "\n",
      "           0       0.94      0.91      0.92       485\n",
      "           1       0.96      0.92      0.94       566\n",
      "           2       0.73      0.90      0.80       518\n",
      "           3       0.49      0.90      0.63       500\n",
      "           4       0.92      0.86      0.89       508\n",
      "           5       0.90      0.13      0.23       467\n",
      "           6       0.74      0.92      0.82       476\n",
      "           7       0.90      0.77      0.83       522\n",
      "           8       0.94      0.72      0.82       481\n",
      "           9       0.85      0.85      0.85       477\n",
      "\n",
      "    accuracy                           0.79      5000\n",
      "   macro avg       0.84      0.79      0.77      5000\n",
      "weighted avg       0.84      0.79      0.78      5000\n",
      "\n"
     ]
    },
    {
     "data": {
      "image/png": "[encoded data removed]",
      "text/plain": [
       "<Figure size 432x288 with 2 Axes>"
      ]
     },
     "metadata": {
      "needs_background": "light"
     },
     "output_type": "display_data"
    }
   ],
   "source": [
    "# load mnist data\n",
    "((trainX, trainY), (testX, testY)) = mnist.load_data()\n",
    "\n",
    "# scale the data to values in [0,1]\n",
    "trainX = trainX/255.0\n",
    "testX = testX/255.0\n",
    "\n",
    "# reshape the data to a vector\n",
    "trainX = trainX.reshape([60000, 28*28])\n",
    "testX = testX.reshape([10000, 28*28])\n",
    "\n",
    "# split test data into validation and test sets\n",
    "valX, testX, valY, testY = train_test_split(testX, testY, test_size = 0.5)\n",
    "\n",
    "# create a model\n",
    "model = FeedforwardNeuralNetwork([784, 32, 10], 0.1, activations = 'tanh', initialization = ['Glorot', 'normal'], loss = 'cross-entropy')\n",
    "\n",
    "# fit the model to the training data\n",
    "model.fit(trainX, trainY, valX, valY, 100, 1)\n",
    "\n",
    "print(\"Test set accuracy\")\n",
    "testY = to_categorical(testY)\n",
    "predictedY = model.predict(testX)\n",
    "predictedY = predictedY.argmax(axis=1)\n",
    "\n",
    "testY = testY.argmax(axis=1)\n",
    "print(classification_report(testY, predictedY))"
   ]
  },
  {
   "cell_type": "markdown",
   "id": "792e4273-d7a2-46ec-ac91-74d92f447358",
   "metadata": {
    "id": "tb4gSaIPtfNo"
   },
   "source": [
    "## Problem 5\n",
    "\n",
    "Select the best activation from \\#4 and, based on the plots, decide if a larger network or a smaller network is likely to work better and explain your reasoning.\n",
    "\n",
    "There is very little overfitting, but about 4\\% training images are not learned, so I will try larger models."
   ]
  },
  {
   "cell_type": "markdown",
   "id": "b71722e6-28b7-4a10-bad6-1e705b6bde8c",
   "metadata": {
    "id": "tb4gSaIPtfNo"
   },
   "source": [
    "## Problem 6\n",
    "\n",
    "Depending on your answer from \\#5, train and test the model for at least 3 neural architectures that are larger or smaller.\n",
    "\n",
    "We will do:\n",
    "\n",
    "* One with a larger hidden layer: 64 neurons\n",
    "* One with a second hidden layer: 16 neurons\n",
    "* One with both: 64 and 32 neurons"
   ]
  },
  {
   "cell_type": "code",
   "execution_count": 6,
   "id": "d42d3e59-5285-4f62-a179-1edda7b23db8",
   "metadata": {},
   "outputs": [
    {
     "name": "stdout",
     "output_type": "stream",
     "text": [
      "[INFO] epoch = 1, loss = 0.565, validation loss = 0.553 training accuracy = 0.920, validation accuracy = 0.920\n",
      "[INFO] epoch = 2, loss = 0.433, validation loss = 0.437 training accuracy = 0.939, validation accuracy = 0.934\n",
      "[INFO] epoch = 3, loss = 0.359, validation loss = 0.368 training accuracy = 0.950, validation accuracy = 0.947\n",
      "[INFO] epoch = 4, loss = 0.317, validation loss = 0.334 training accuracy = 0.956, validation accuracy = 0.951\n",
      "[INFO] epoch = 5, loss = 0.282, validation loss = 0.304 training accuracy = 0.962, validation accuracy = 0.955\n",
      "[INFO] epoch = 6, loss = 0.258, validation loss = 0.279 training accuracy = 0.965, validation accuracy = 0.957\n",
      "[INFO] epoch = 7, loss = 0.235, validation loss = 0.270 training accuracy = 0.969, validation accuracy = 0.959\n",
      "[INFO] epoch = 8, loss = 0.220, validation loss = 0.257 training accuracy = 0.971, validation accuracy = 0.962\n",
      "[INFO] epoch = 9, loss = 0.205, validation loss = 0.245 training accuracy = 0.973, validation accuracy = 0.964\n",
      "[INFO] epoch = 10, loss = 0.195, validation loss = 0.243 training accuracy = 0.976, validation accuracy = 0.966\n",
      "[INFO] epoch = 11, loss = 0.184, validation loss = 0.235 training accuracy = 0.977, validation accuracy = 0.966\n",
      "[INFO] epoch = 12, loss = 0.174, validation loss = 0.228 training accuracy = 0.978, validation accuracy = 0.968\n",
      "[INFO] epoch = 13, loss = 0.167, validation loss = 0.222 training accuracy = 0.980, validation accuracy = 0.970\n",
      "[INFO] epoch = 14, loss = 0.161, validation loss = 0.215 training accuracy = 0.981, validation accuracy = 0.969\n",
      "[INFO] epoch = 15, loss = 0.152, validation loss = 0.212 training accuracy = 0.982, validation accuracy = 0.971\n",
      "[INFO] epoch = 16, loss = 0.145, validation loss = 0.207 training accuracy = 0.983, validation accuracy = 0.972\n",
      "[INFO] epoch = 17, loss = 0.144, validation loss = 0.212 training accuracy = 0.983, validation accuracy = 0.971\n",
      "[INFO] epoch = 18, loss = 0.139, validation loss = 0.207 training accuracy = 0.984, validation accuracy = 0.971\n",
      "[INFO] epoch = 19, loss = 0.134, validation loss = 0.204 training accuracy = 0.984, validation accuracy = 0.972\n",
      "[INFO] epoch = 20, loss = 0.127, validation loss = 0.196 training accuracy = 0.986, validation accuracy = 0.974\n",
      "[INFO] epoch = 21, loss = 0.124, validation loss = 0.203 training accuracy = 0.986, validation accuracy = 0.971\n",
      "[INFO] epoch = 22, loss = 0.118, validation loss = 0.197 training accuracy = 0.987, validation accuracy = 0.973\n",
      "[INFO] epoch = 23, loss = 0.116, validation loss = 0.191 training accuracy = 0.987, validation accuracy = 0.973\n",
      "[INFO] epoch = 24, loss = 0.112, validation loss = 0.196 training accuracy = 0.988, validation accuracy = 0.974\n",
      "[INFO] epoch = 25, loss = 0.108, validation loss = 0.198 training accuracy = 0.988, validation accuracy = 0.972\n",
      "[INFO] epoch = 26, loss = 0.108, validation loss = 0.197 training accuracy = 0.988, validation accuracy = 0.973\n",
      "[INFO] epoch = 27, loss = 0.101, validation loss = 0.197 training accuracy = 0.989, validation accuracy = 0.972\n",
      "[INFO] epoch = 28, loss = 0.106, validation loss = 0.200 training accuracy = 0.988, validation accuracy = 0.974\n",
      "[INFO] epoch = 29, loss = 0.099, validation loss = 0.191 training accuracy = 0.990, validation accuracy = 0.974\n",
      "[INFO] epoch = 30, loss = 0.099, validation loss = 0.195 training accuracy = 0.990, validation accuracy = 0.972\n",
      "[INFO] epoch = 31, loss = 0.093, validation loss = 0.194 training accuracy = 0.990, validation accuracy = 0.975\n",
      "[INFO] epoch = 32, loss = 0.093, validation loss = 0.196 training accuracy = 0.991, validation accuracy = 0.973\n",
      "[INFO] epoch = 33, loss = 0.087, validation loss = 0.193 training accuracy = 0.991, validation accuracy = 0.974\n",
      "[INFO] epoch = 34, loss = 0.088, validation loss = 0.196 training accuracy = 0.991, validation accuracy = 0.975\n",
      "[INFO] epoch = 35, loss = 0.082, validation loss = 0.191 training accuracy = 0.992, validation accuracy = 0.975\n",
      "[INFO] epoch = 36, loss = 0.082, validation loss = 0.200 training accuracy = 0.992, validation accuracy = 0.975\n",
      "[INFO] epoch = 37, loss = 0.080, validation loss = 0.198 training accuracy = 0.993, validation accuracy = 0.974\n",
      "[INFO] epoch = 38, loss = 0.080, validation loss = 0.201 training accuracy = 0.992, validation accuracy = 0.972\n",
      "[INFO] epoch = 39, loss = 0.080, validation loss = 0.203 training accuracy = 0.992, validation accuracy = 0.975\n",
      "[INFO] epoch = 40, loss = 0.076, validation loss = 0.198 training accuracy = 0.993, validation accuracy = 0.975\n",
      "[INFO] epoch = 41, loss = 0.075, validation loss = 0.199 training accuracy = 0.993, validation accuracy = 0.976\n",
      "[INFO] epoch = 42, loss = 0.071, validation loss = 0.203 training accuracy = 0.994, validation accuracy = 0.973\n",
      "[INFO] epoch = 43, loss = 0.068, validation loss = 0.195 training accuracy = 0.994, validation accuracy = 0.975\n",
      "[INFO] epoch = 44, loss = 0.069, validation loss = 0.201 training accuracy = 0.994, validation accuracy = 0.975\n",
      "[INFO] epoch = 45, loss = 0.066, validation loss = 0.202 training accuracy = 0.994, validation accuracy = 0.975\n",
      "[INFO] epoch = 46, loss = 0.067, validation loss = 0.206 training accuracy = 0.994, validation accuracy = 0.976\n",
      "[INFO] epoch = 47, loss = 0.063, validation loss = 0.201 training accuracy = 0.995, validation accuracy = 0.974\n",
      "[INFO] epoch = 48, loss = 0.064, validation loss = 0.207 training accuracy = 0.995, validation accuracy = 0.974\n",
      "[INFO] epoch = 49, loss = 0.061, validation loss = 0.205 training accuracy = 0.995, validation accuracy = 0.975\n",
      "[INFO] epoch = 50, loss = 0.059, validation loss = 0.201 training accuracy = 0.995, validation accuracy = 0.976\n",
      "[INFO] epoch = 51, loss = 0.059, validation loss = 0.208 training accuracy = 0.995, validation accuracy = 0.975\n",
      "[INFO] epoch = 52, loss = 0.059, validation loss = 0.210 training accuracy = 0.995, validation accuracy = 0.974\n",
      "[INFO] epoch = 53, loss = 0.053, validation loss = 0.202 training accuracy = 0.996, validation accuracy = 0.976\n",
      "[INFO] epoch = 54, loss = 0.054, validation loss = 0.205 training accuracy = 0.996, validation accuracy = 0.976\n",
      "[INFO] epoch = 55, loss = 0.055, validation loss = 0.209 training accuracy = 0.996, validation accuracy = 0.975\n",
      "[INFO] epoch = 56, loss = 0.053, validation loss = 0.208 training accuracy = 0.996, validation accuracy = 0.976\n",
      "[INFO] epoch = 57, loss = 0.051, validation loss = 0.215 training accuracy = 0.997, validation accuracy = 0.975\n",
      "[INFO] epoch = 58, loss = 0.053, validation loss = 0.214 training accuracy = 0.996, validation accuracy = 0.974\n",
      "[INFO] epoch = 59, loss = 0.048, validation loss = 0.207 training accuracy = 0.996, validation accuracy = 0.976\n",
      "[INFO] epoch = 60, loss = 0.048, validation loss = 0.210 training accuracy = 0.997, validation accuracy = 0.976\n",
      "[INFO] epoch = 61, loss = 0.045, validation loss = 0.212 training accuracy = 0.997, validation accuracy = 0.975\n",
      "[INFO] epoch = 62, loss = 0.046, validation loss = 0.217 training accuracy = 0.997, validation accuracy = 0.975\n",
      "[INFO] epoch = 63, loss = 0.044, validation loss = 0.219 training accuracy = 0.997, validation accuracy = 0.975\n",
      "[INFO] epoch = 64, loss = 0.044, validation loss = 0.218 training accuracy = 0.997, validation accuracy = 0.975\n",
      "[INFO] epoch = 65, loss = 0.045, validation loss = 0.215 training accuracy = 0.997, validation accuracy = 0.976\n",
      "[INFO] epoch = 66, loss = 0.044, validation loss = 0.218 training accuracy = 0.997, validation accuracy = 0.977\n",
      "[INFO] epoch = 67, loss = 0.042, validation loss = 0.216 training accuracy = 0.997, validation accuracy = 0.976\n",
      "[INFO] epoch = 68, loss = 0.041, validation loss = 0.222 training accuracy = 0.997, validation accuracy = 0.975\n",
      "[INFO] epoch = 69, loss = 0.040, validation loss = 0.217 training accuracy = 0.998, validation accuracy = 0.978\n",
      "[INFO] epoch = 70, loss = 0.038, validation loss = 0.220 training accuracy = 0.998, validation accuracy = 0.976\n",
      "[INFO] epoch = 71, loss = 0.038, validation loss = 0.221 training accuracy = 0.998, validation accuracy = 0.977\n",
      "[INFO] epoch = 72, loss = 0.037, validation loss = 0.224 training accuracy = 0.998, validation accuracy = 0.975\n",
      "[INFO] epoch = 73, loss = 0.037, validation loss = 0.221 training accuracy = 0.998, validation accuracy = 0.978\n",
      "[INFO] epoch = 74, loss = 0.036, validation loss = 0.221 training accuracy = 0.998, validation accuracy = 0.977\n",
      "[INFO] epoch = 75, loss = 0.034, validation loss = 0.222 training accuracy = 0.998, validation accuracy = 0.977\n",
      "[INFO] epoch = 76, loss = 0.034, validation loss = 0.222 training accuracy = 0.998, validation accuracy = 0.976\n",
      "[INFO] epoch = 77, loss = 0.035, validation loss = 0.224 training accuracy = 0.998, validation accuracy = 0.977\n",
      "[INFO] epoch = 78, loss = 0.035, validation loss = 0.232 training accuracy = 0.998, validation accuracy = 0.976\n"
     ]
    },
    {
     "name": "stderr",
     "output_type": "stream",
     "text": [
      "C:\\Users\\Ryan\\AppData\\Local\\Temp/ipykernel_11256/144893144.py:362: RuntimeWarning: divide by zero encountered in log\n",
      "  loss = (1/X.shape[0])*np.sum(-y*np.log(predictions)-(1-y)*np.log(1-predictions))\n",
      "C:\\Users\\Ryan\\AppData\\Local\\Temp/ipykernel_11256/144893144.py:362: RuntimeWarning: invalid value encountered in multiply\n",
      "  loss = (1/X.shape[0])*np.sum(-y*np.log(predictions)-(1-y)*np.log(1-predictions))\n"
     ]
    },
    {
     "name": "stdout",
     "output_type": "stream",
     "text": [
      "[INFO] epoch = 79, loss = nan, validation loss = 0.233 training accuracy = 0.999, validation accuracy = 0.976\n",
      "[INFO] epoch = 80, loss = 0.031, validation loss = 0.229 training accuracy = 0.999, validation accuracy = 0.978\n",
      "[INFO] epoch = 81, loss = 0.031, validation loss = 0.233 training accuracy = 0.999, validation accuracy = 0.976\n",
      "[INFO] epoch = 82, loss = 0.030, validation loss = 0.227 training accuracy = 0.999, validation accuracy = 0.977\n",
      "[INFO] epoch = 83, loss = 0.029, validation loss = 0.232 training accuracy = 0.999, validation accuracy = 0.977\n",
      "[INFO] epoch = 84, loss = 0.032, validation loss = 0.236 training accuracy = 0.999, validation accuracy = 0.976\n",
      "[INFO] epoch = 85, loss = 0.029, validation loss = 0.234 training accuracy = 0.999, validation accuracy = 0.977\n"
     ]
    },
    {
     "name": "stderr",
     "output_type": "stream",
     "text": [
      "C:\\Users\\Ryan\\AppData\\Local\\Temp/ipykernel_11256/144893144.py:362: RuntimeWarning: divide by zero encountered in log\n",
      "  loss = (1/X.shape[0])*np.sum(-y*np.log(predictions)-(1-y)*np.log(1-predictions))\n",
      "C:\\Users\\Ryan\\AppData\\Local\\Temp/ipykernel_11256/144893144.py:362: RuntimeWarning: invalid value encountered in multiply\n",
      "  loss = (1/X.shape[0])*np.sum(-y*np.log(predictions)-(1-y)*np.log(1-predictions))\n"
     ]
    },
    {
     "name": "stdout",
     "output_type": "stream",
     "text": [
      "[INFO] epoch = 86, loss = nan, validation loss = 0.236 training accuracy = 0.999, validation accuracy = 0.976\n"
     ]
    },
    {
     "name": "stderr",
     "output_type": "stream",
     "text": [
      "C:\\Users\\Ryan\\AppData\\Local\\Temp/ipykernel_11256/144893144.py:362: RuntimeWarning: divide by zero encountered in log\n",
      "  loss = (1/X.shape[0])*np.sum(-y*np.log(predictions)-(1-y)*np.log(1-predictions))\n",
      "C:\\Users\\Ryan\\AppData\\Local\\Temp/ipykernel_11256/144893144.py:362: RuntimeWarning: invalid value encountered in multiply\n",
      "  loss = (1/X.shape[0])*np.sum(-y*np.log(predictions)-(1-y)*np.log(1-predictions))\n"
     ]
    },
    {
     "name": "stdout",
     "output_type": "stream",
     "text": [
      "[INFO] epoch = 87, loss = nan, validation loss = 0.235 training accuracy = 0.999, validation accuracy = 0.976\n"
     ]
    },
    {
     "name": "stderr",
     "output_type": "stream",
     "text": [
      "C:\\Users\\Ryan\\AppData\\Local\\Temp/ipykernel_11256/144893144.py:362: RuntimeWarning: divide by zero encountered in log\n",
      "  loss = (1/X.shape[0])*np.sum(-y*np.log(predictions)-(1-y)*np.log(1-predictions))\n",
      "C:\\Users\\Ryan\\AppData\\Local\\Temp/ipykernel_11256/144893144.py:362: RuntimeWarning: invalid value encountered in multiply\n",
      "  loss = (1/X.shape[0])*np.sum(-y*np.log(predictions)-(1-y)*np.log(1-predictions))\n"
     ]
    },
    {
     "name": "stdout",
     "output_type": "stream",
     "text": [
      "[INFO] epoch = 88, loss = nan, validation loss = 0.238 training accuracy = 0.999, validation accuracy = 0.977\n"
     ]
    },
    {
     "name": "stderr",
     "output_type": "stream",
     "text": [
      "C:\\Users\\Ryan\\AppData\\Local\\Temp/ipykernel_11256/144893144.py:362: RuntimeWarning: divide by zero encountered in log\n",
      "  loss = (1/X.shape[0])*np.sum(-y*np.log(predictions)-(1-y)*np.log(1-predictions))\n",
      "C:\\Users\\Ryan\\AppData\\Local\\Temp/ipykernel_11256/144893144.py:362: RuntimeWarning: invalid value encountered in multiply\n",
      "  loss = (1/X.shape[0])*np.sum(-y*np.log(predictions)-(1-y)*np.log(1-predictions))\n"
     ]
    },
    {
     "name": "stdout",
     "output_type": "stream",
     "text": [
      "[INFO] epoch = 89, loss = nan, validation loss = 0.237 training accuracy = 0.999, validation accuracy = 0.977\n"
     ]
    },
    {
     "name": "stderr",
     "output_type": "stream",
     "text": [
      "C:\\Users\\Ryan\\AppData\\Local\\Temp/ipykernel_11256/144893144.py:362: RuntimeWarning: divide by zero encountered in log\n",
      "  loss = (1/X.shape[0])*np.sum(-y*np.log(predictions)-(1-y)*np.log(1-predictions))\n",
      "C:\\Users\\Ryan\\AppData\\Local\\Temp/ipykernel_11256/144893144.py:362: RuntimeWarning: invalid value encountered in multiply\n",
      "  loss = (1/X.shape[0])*np.sum(-y*np.log(predictions)-(1-y)*np.log(1-predictions))\n"
     ]
    },
    {
     "name": "stdout",
     "output_type": "stream",
     "text": [
      "[INFO] epoch = 90, loss = nan, validation loss = 0.243 training accuracy = 0.999, validation accuracy = 0.976\n"
     ]
    },
    {
     "name": "stderr",
     "output_type": "stream",
     "text": [
      "C:\\Users\\Ryan\\AppData\\Local\\Temp/ipykernel_11256/144893144.py:362: RuntimeWarning: divide by zero encountered in log\n",
      "  loss = (1/X.shape[0])*np.sum(-y*np.log(predictions)-(1-y)*np.log(1-predictions))\n",
      "C:\\Users\\Ryan\\AppData\\Local\\Temp/ipykernel_11256/144893144.py:362: RuntimeWarning: invalid value encountered in multiply\n",
      "  loss = (1/X.shape[0])*np.sum(-y*np.log(predictions)-(1-y)*np.log(1-predictions))\n"
     ]
    },
    {
     "name": "stdout",
     "output_type": "stream",
     "text": [
      "[INFO] epoch = 91, loss = nan, validation loss = 0.241 training accuracy = 0.999, validation accuracy = 0.976\n"
     ]
    },
    {
     "name": "stderr",
     "output_type": "stream",
     "text": [
      "C:\\Users\\Ryan\\AppData\\Local\\Temp/ipykernel_11256/144893144.py:362: RuntimeWarning: divide by zero encountered in log\n",
      "  loss = (1/X.shape[0])*np.sum(-y*np.log(predictions)-(1-y)*np.log(1-predictions))\n",
      "C:\\Users\\Ryan\\AppData\\Local\\Temp/ipykernel_11256/144893144.py:362: RuntimeWarning: invalid value encountered in multiply\n",
      "  loss = (1/X.shape[0])*np.sum(-y*np.log(predictions)-(1-y)*np.log(1-predictions))\n"
     ]
    },
    {
     "name": "stdout",
     "output_type": "stream",
     "text": [
      "[INFO] epoch = 92, loss = nan, validation loss = 0.239 training accuracy = 0.999, validation accuracy = 0.976\n"
     ]
    },
    {
     "name": "stderr",
     "output_type": "stream",
     "text": [
      "C:\\Users\\Ryan\\AppData\\Local\\Temp/ipykernel_11256/144893144.py:362: RuntimeWarning: divide by zero encountered in log\n",
      "  loss = (1/X.shape[0])*np.sum(-y*np.log(predictions)-(1-y)*np.log(1-predictions))\n",
      "C:\\Users\\Ryan\\AppData\\Local\\Temp/ipykernel_11256/144893144.py:362: RuntimeWarning: invalid value encountered in multiply\n",
      "  loss = (1/X.shape[0])*np.sum(-y*np.log(predictions)-(1-y)*np.log(1-predictions))\n"
     ]
    },
    {
     "name": "stdout",
     "output_type": "stream",
     "text": [
      "[INFO] epoch = 93, loss = nan, validation loss = 0.242 training accuracy = 0.999, validation accuracy = 0.977\n"
     ]
    },
    {
     "name": "stderr",
     "output_type": "stream",
     "text": [
      "C:\\Users\\Ryan\\AppData\\Local\\Temp/ipykernel_11256/144893144.py:362: RuntimeWarning: divide by zero encountered in log\n",
      "  loss = (1/X.shape[0])*np.sum(-y*np.log(predictions)-(1-y)*np.log(1-predictions))\n",
      "C:\\Users\\Ryan\\AppData\\Local\\Temp/ipykernel_11256/144893144.py:362: RuntimeWarning: invalid value encountered in multiply\n",
      "  loss = (1/X.shape[0])*np.sum(-y*np.log(predictions)-(1-y)*np.log(1-predictions))\n"
     ]
    },
    {
     "name": "stdout",
     "output_type": "stream",
     "text": [
      "[INFO] epoch = 94, loss = nan, validation loss = 0.242 training accuracy = 0.999, validation accuracy = 0.976\n"
     ]
    },
    {
     "name": "stderr",
     "output_type": "stream",
     "text": [
      "C:\\Users\\Ryan\\AppData\\Local\\Temp/ipykernel_11256/144893144.py:362: RuntimeWarning: divide by zero encountered in log\n",
      "  loss = (1/X.shape[0])*np.sum(-y*np.log(predictions)-(1-y)*np.log(1-predictions))\n",
      "C:\\Users\\Ryan\\AppData\\Local\\Temp/ipykernel_11256/144893144.py:362: RuntimeWarning: invalid value encountered in multiply\n",
      "  loss = (1/X.shape[0])*np.sum(-y*np.log(predictions)-(1-y)*np.log(1-predictions))\n"
     ]
    },
    {
     "name": "stdout",
     "output_type": "stream",
     "text": [
      "[INFO] epoch = 95, loss = nan, validation loss = 0.243 training accuracy = 0.999, validation accuracy = 0.977\n"
     ]
    },
    {
     "name": "stderr",
     "output_type": "stream",
     "text": [
      "C:\\Users\\Ryan\\AppData\\Local\\Temp/ipykernel_11256/144893144.py:362: RuntimeWarning: divide by zero encountered in log\n",
      "  loss = (1/X.shape[0])*np.sum(-y*np.log(predictions)-(1-y)*np.log(1-predictions))\n",
      "C:\\Users\\Ryan\\AppData\\Local\\Temp/ipykernel_11256/144893144.py:362: RuntimeWarning: invalid value encountered in multiply\n",
      "  loss = (1/X.shape[0])*np.sum(-y*np.log(predictions)-(1-y)*np.log(1-predictions))\n"
     ]
    },
    {
     "name": "stdout",
     "output_type": "stream",
     "text": [
      "[INFO] epoch = 96, loss = nan, validation loss = 0.244 training accuracy = 0.999, validation accuracy = 0.976\n"
     ]
    },
    {
     "name": "stderr",
     "output_type": "stream",
     "text": [
      "C:\\Users\\Ryan\\AppData\\Local\\Temp/ipykernel_11256/144893144.py:362: RuntimeWarning: divide by zero encountered in log\n",
      "  loss = (1/X.shape[0])*np.sum(-y*np.log(predictions)-(1-y)*np.log(1-predictions))\n",
      "C:\\Users\\Ryan\\AppData\\Local\\Temp/ipykernel_11256/144893144.py:362: RuntimeWarning: invalid value encountered in multiply\n",
      "  loss = (1/X.shape[0])*np.sum(-y*np.log(predictions)-(1-y)*np.log(1-predictions))\n"
     ]
    },
    {
     "name": "stdout",
     "output_type": "stream",
     "text": [
      "[INFO] epoch = 97, loss = nan, validation loss = 0.249 training accuracy = 0.999, validation accuracy = 0.976\n"
     ]
    },
    {
     "name": "stderr",
     "output_type": "stream",
     "text": [
      "C:\\Users\\Ryan\\AppData\\Local\\Temp/ipykernel_11256/144893144.py:362: RuntimeWarning: divide by zero encountered in log\n",
      "  loss = (1/X.shape[0])*np.sum(-y*np.log(predictions)-(1-y)*np.log(1-predictions))\n",
      "C:\\Users\\Ryan\\AppData\\Local\\Temp/ipykernel_11256/144893144.py:362: RuntimeWarning: invalid value encountered in multiply\n",
      "  loss = (1/X.shape[0])*np.sum(-y*np.log(predictions)-(1-y)*np.log(1-predictions))\n"
     ]
    },
    {
     "name": "stdout",
     "output_type": "stream",
     "text": [
      "[INFO] epoch = 98, loss = nan, validation loss = 0.243 training accuracy = 0.999, validation accuracy = 0.977\n"
     ]
    },
    {
     "name": "stderr",
     "output_type": "stream",
     "text": [
      "C:\\Users\\Ryan\\AppData\\Local\\Temp/ipykernel_11256/144893144.py:362: RuntimeWarning: divide by zero encountered in log\n",
      "  loss = (1/X.shape[0])*np.sum(-y*np.log(predictions)-(1-y)*np.log(1-predictions))\n",
      "C:\\Users\\Ryan\\AppData\\Local\\Temp/ipykernel_11256/144893144.py:362: RuntimeWarning: invalid value encountered in multiply\n",
      "  loss = (1/X.shape[0])*np.sum(-y*np.log(predictions)-(1-y)*np.log(1-predictions))\n"
     ]
    },
    {
     "name": "stdout",
     "output_type": "stream",
     "text": [
      "[INFO] epoch = 99, loss = nan, validation loss = 0.243 training accuracy = 0.999, validation accuracy = 0.977\n"
     ]
    },
    {
     "name": "stderr",
     "output_type": "stream",
     "text": [
      "C:\\Users\\Ryan\\AppData\\Local\\Temp/ipykernel_11256/144893144.py:362: RuntimeWarning: divide by zero encountered in log\n",
      "  loss = (1/X.shape[0])*np.sum(-y*np.log(predictions)-(1-y)*np.log(1-predictions))\n",
      "C:\\Users\\Ryan\\AppData\\Local\\Temp/ipykernel_11256/144893144.py:362: RuntimeWarning: invalid value encountered in multiply\n",
      "  loss = (1/X.shape[0])*np.sum(-y*np.log(predictions)-(1-y)*np.log(1-predictions))\n"
     ]
    },
    {
     "name": "stdout",
     "output_type": "stream",
     "text": [
      "[INFO] epoch = 100, loss = nan, validation loss = 0.247 training accuracy = 0.999, validation accuracy = 0.976\n",
      "Test set accuracy\n",
      "              precision    recall  f1-score   support\n",
      "\n",
      "           0       0.99      0.99      0.99       488\n",
      "           1       0.99      0.99      0.99       565\n",
      "           2       0.99      0.97      0.98       521\n",
      "           3       0.98      0.98      0.98       500\n",
      "           4       0.97      0.97      0.97       473\n",
      "           5       0.98      0.97      0.98       442\n",
      "           6       0.97      0.98      0.97       473\n",
      "           7       0.98      0.98      0.98       525\n",
      "           8       0.97      0.98      0.97       510\n",
      "           9       0.97      0.97      0.97       503\n",
      "\n",
      "    accuracy                           0.98      5000\n",
      "   macro avg       0.98      0.98      0.98      5000\n",
      "weighted avg       0.98      0.98      0.98      5000\n",
      "\n"
     ]
    },
    {
     "data": {
      "image/png": "[encoded data removed]",
      "text/plain": [
       "<Figure size 432x288 with 2 Axes>"
      ]
     },
     "metadata": {
      "needs_background": "light"
     },
     "output_type": "display_data"
    }
   ],
   "source": [
    "# load mnist data\n",
    "((trainX, trainY), (testX, testY)) = mnist.load_data()\n",
    "\n",
    "# scale the data to values in [0,1]\n",
    "trainX = trainX/255.0\n",
    "testX = testX/255.0\n",
    "\n",
    "# reshape the data to a vector\n",
    "trainX = trainX.reshape([60000, 28*28])\n",
    "testX = testX.reshape([10000, 28*28])\n",
    "\n",
    "# split test data into validation and test sets\n",
    "valX, testX, valY, testY = train_test_split(testX, testY, test_size = 0.5)\n",
    "\n",
    "# create a model\n",
    "model = FeedforwardNeuralNetwork([784, 64, 10], 0.001, activations = 'ReLU', initialization = ['Glorot', 'normal'], loss = 'cross-entropy')\n",
    "\n",
    "# fit the model to the training data\n",
    "model.fit(trainX, trainY, valX, valY, 100, 1)\n",
    "\n",
    "print(\"Test set accuracy\")\n",
    "testY = to_categorical(testY)\n",
    "predictedY = model.predict(testX)\n",
    "predictedY = predictedY.argmax(axis=1)\n",
    "\n",
    "testY = testY.argmax(axis=1)\n",
    "print(classification_report(testY, predictedY))"
   ]
  },
  {
   "cell_type": "code",
   "execution_count": 7,
   "id": "e7385705-3b13-48b0-85a1-8ac5ca8e0ff4",
   "metadata": {},
   "outputs": [
    {
     "name": "stdout",
     "output_type": "stream",
     "text": [
      "[INFO] epoch = 1, loss = 0.492, validation loss = 0.494 training accuracy = 0.928, validation accuracy = 0.926\n",
      "[INFO] epoch = 2, loss = 0.370, validation loss = 0.367 training accuracy = 0.946, validation accuracy = 0.943\n",
      "[INFO] epoch = 3, loss = 0.314, validation loss = 0.330 training accuracy = 0.953, validation accuracy = 0.948\n",
      "[INFO] epoch = 4, loss = 0.272, validation loss = 0.292 training accuracy = 0.962, validation accuracy = 0.958\n",
      "[INFO] epoch = 5, loss = 0.243, validation loss = 0.272 training accuracy = 0.966, validation accuracy = 0.962\n",
      "[INFO] epoch = 6, loss = 0.221, validation loss = 0.255 training accuracy = 0.970, validation accuracy = 0.964\n",
      "[INFO] epoch = 7, loss = 0.198, validation loss = 0.234 training accuracy = 0.973, validation accuracy = 0.968\n",
      "[INFO] epoch = 8, loss = 0.206, validation loss = 0.247 training accuracy = 0.971, validation accuracy = 0.965\n",
      "[INFO] epoch = 9, loss = 0.182, validation loss = 0.234 training accuracy = 0.976, validation accuracy = 0.967\n",
      "[INFO] epoch = 10, loss = 0.178, validation loss = 0.234 training accuracy = 0.976, validation accuracy = 0.968\n",
      "[INFO] epoch = 11, loss = 0.168, validation loss = 0.232 training accuracy = 0.978, validation accuracy = 0.967\n",
      "[INFO] epoch = 12, loss = 0.159, validation loss = 0.225 training accuracy = 0.979, validation accuracy = 0.967\n",
      "[INFO] epoch = 13, loss = 0.149, validation loss = 0.219 training accuracy = 0.980, validation accuracy = 0.969\n",
      "[INFO] epoch = 14, loss = 0.160, validation loss = 0.237 training accuracy = 0.979, validation accuracy = 0.966\n",
      "[INFO] epoch = 15, loss = 0.143, validation loss = 0.225 training accuracy = 0.982, validation accuracy = 0.968\n",
      "[INFO] epoch = 16, loss = 0.138, validation loss = 0.228 training accuracy = 0.983, validation accuracy = 0.966\n",
      "[INFO] epoch = 17, loss = 0.134, validation loss = 0.223 training accuracy = 0.983, validation accuracy = 0.973\n",
      "[INFO] epoch = 18, loss = 0.129, validation loss = 0.222 training accuracy = 0.984, validation accuracy = 0.968\n",
      "[INFO] epoch = 19, loss = 0.144, validation loss = 0.235 training accuracy = 0.982, validation accuracy = 0.968\n",
      "[INFO] epoch = 20, loss = 0.120, validation loss = 0.218 training accuracy = 0.985, validation accuracy = 0.968\n",
      "[INFO] epoch = 21, loss = 0.115, validation loss = 0.217 training accuracy = 0.985, validation accuracy = 0.970\n",
      "[INFO] epoch = 22, loss = 0.111, validation loss = 0.221 training accuracy = 0.986, validation accuracy = 0.971\n",
      "[INFO] epoch = 23, loss = 0.114, validation loss = 0.224 training accuracy = 0.986, validation accuracy = 0.969\n",
      "[INFO] epoch = 24, loss = 0.121, validation loss = 0.247 training accuracy = 0.985, validation accuracy = 0.968\n",
      "[INFO] epoch = 25, loss = 0.102, validation loss = 0.219 training accuracy = 0.988, validation accuracy = 0.972\n",
      "[INFO] epoch = 26, loss = 0.118, validation loss = 0.242 training accuracy = 0.985, validation accuracy = 0.968\n",
      "[INFO] epoch = 27, loss = 0.091, validation loss = 0.223 training accuracy = 0.990, validation accuracy = 0.972\n",
      "[INFO] epoch = 28, loss = 0.097, validation loss = 0.235 training accuracy = 0.989, validation accuracy = 0.968\n",
      "[INFO] epoch = 29, loss = 0.100, validation loss = 0.238 training accuracy = 0.988, validation accuracy = 0.969\n",
      "[INFO] epoch = 30, loss = 0.088, validation loss = 0.228 training accuracy = 0.990, validation accuracy = 0.973\n"
     ]
    },
    {
     "name": "stderr",
     "output_type": "stream",
     "text": [
      "C:\\Users\\Ryan\\AppData\\Local\\Temp/ipykernel_11256/144893144.py:362: RuntimeWarning: divide by zero encountered in log\n",
      "  loss = (1/X.shape[0])*np.sum(-y*np.log(predictions)-(1-y)*np.log(1-predictions))\n",
      "C:\\Users\\Ryan\\AppData\\Local\\Temp/ipykernel_11256/144893144.py:362: RuntimeWarning: invalid value encountered in multiply\n",
      "  loss = (1/X.shape[0])*np.sum(-y*np.log(predictions)-(1-y)*np.log(1-predictions))\n"
     ]
    },
    {
     "name": "stdout",
     "output_type": "stream",
     "text": [
      "[INFO] epoch = 31, loss = nan, validation loss = 0.239 training accuracy = 0.990, validation accuracy = 0.968\n"
     ]
    },
    {
     "name": "stderr",
     "output_type": "stream",
     "text": [
      "C:\\Users\\Ryan\\AppData\\Local\\Temp/ipykernel_11256/144893144.py:362: RuntimeWarning: divide by zero encountered in log\n",
      "  loss = (1/X.shape[0])*np.sum(-y*np.log(predictions)-(1-y)*np.log(1-predictions))\n",
      "C:\\Users\\Ryan\\AppData\\Local\\Temp/ipykernel_11256/144893144.py:362: RuntimeWarning: invalid value encountered in multiply\n",
      "  loss = (1/X.shape[0])*np.sum(-y*np.log(predictions)-(1-y)*np.log(1-predictions))\n"
     ]
    },
    {
     "name": "stdout",
     "output_type": "stream",
     "text": [
      "[INFO] epoch = 32, loss = nan, validation loss = 0.243 training accuracy = 0.989, validation accuracy = 0.971\n"
     ]
    },
    {
     "name": "stderr",
     "output_type": "stream",
     "text": [
      "C:\\Users\\Ryan\\AppData\\Local\\Temp/ipykernel_11256/144893144.py:362: RuntimeWarning: divide by zero encountered in log\n",
      "  loss = (1/X.shape[0])*np.sum(-y*np.log(predictions)-(1-y)*np.log(1-predictions))\n",
      "C:\\Users\\Ryan\\AppData\\Local\\Temp/ipykernel_11256/144893144.py:362: RuntimeWarning: invalid value encountered in multiply\n",
      "  loss = (1/X.shape[0])*np.sum(-y*np.log(predictions)-(1-y)*np.log(1-predictions))\n"
     ]
    },
    {
     "name": "stdout",
     "output_type": "stream",
     "text": [
      "[INFO] epoch = 33, loss = nan, validation loss = 0.244 training accuracy = 0.989, validation accuracy = 0.969\n"
     ]
    },
    {
     "name": "stderr",
     "output_type": "stream",
     "text": [
      "C:\\Users\\Ryan\\AppData\\Local\\Temp/ipykernel_11256/144893144.py:362: RuntimeWarning: divide by zero encountered in log\n",
      "  loss = (1/X.shape[0])*np.sum(-y*np.log(predictions)-(1-y)*np.log(1-predictions))\n",
      "C:\\Users\\Ryan\\AppData\\Local\\Temp/ipykernel_11256/144893144.py:362: RuntimeWarning: invalid value encountered in multiply\n",
      "  loss = (1/X.shape[0])*np.sum(-y*np.log(predictions)-(1-y)*np.log(1-predictions))\n"
     ]
    },
    {
     "name": "stdout",
     "output_type": "stream",
     "text": [
      "[INFO] epoch = 34, loss = nan, validation loss = 0.244 training accuracy = 0.991, validation accuracy = 0.970\n"
     ]
    },
    {
     "name": "stderr",
     "output_type": "stream",
     "text": [
      "C:\\Users\\Ryan\\AppData\\Local\\Temp/ipykernel_11256/144893144.py:362: RuntimeWarning: divide by zero encountered in log\n",
      "  loss = (1/X.shape[0])*np.sum(-y*np.log(predictions)-(1-y)*np.log(1-predictions))\n",
      "C:\\Users\\Ryan\\AppData\\Local\\Temp/ipykernel_11256/144893144.py:362: RuntimeWarning: invalid value encountered in multiply\n",
      "  loss = (1/X.shape[0])*np.sum(-y*np.log(predictions)-(1-y)*np.log(1-predictions))\n"
     ]
    },
    {
     "name": "stdout",
     "output_type": "stream",
     "text": [
      "[INFO] epoch = 35, loss = nan, validation loss = 0.241 training accuracy = 0.990, validation accuracy = 0.970\n"
     ]
    },
    {
     "name": "stderr",
     "output_type": "stream",
     "text": [
      "C:\\Users\\Ryan\\AppData\\Local\\Temp/ipykernel_11256/144893144.py:362: RuntimeWarning: divide by zero encountered in log\n",
      "  loss = (1/X.shape[0])*np.sum(-y*np.log(predictions)-(1-y)*np.log(1-predictions))\n",
      "C:\\Users\\Ryan\\AppData\\Local\\Temp/ipykernel_11256/144893144.py:362: RuntimeWarning: invalid value encountered in multiply\n",
      "  loss = (1/X.shape[0])*np.sum(-y*np.log(predictions)-(1-y)*np.log(1-predictions))\n"
     ]
    },
    {
     "name": "stdout",
     "output_type": "stream",
     "text": [
      "[INFO] epoch = 36, loss = nan, validation loss = 0.239 training accuracy = 0.991, validation accuracy = 0.969\n"
     ]
    },
    {
     "name": "stderr",
     "output_type": "stream",
     "text": [
      "C:\\Users\\Ryan\\AppData\\Local\\Temp/ipykernel_11256/144893144.py:362: RuntimeWarning: divide by zero encountered in log\n",
      "  loss = (1/X.shape[0])*np.sum(-y*np.log(predictions)-(1-y)*np.log(1-predictions))\n",
      "C:\\Users\\Ryan\\AppData\\Local\\Temp/ipykernel_11256/144893144.py:362: RuntimeWarning: invalid value encountered in multiply\n",
      "  loss = (1/X.shape[0])*np.sum(-y*np.log(predictions)-(1-y)*np.log(1-predictions))\n"
     ]
    },
    {
     "name": "stdout",
     "output_type": "stream",
     "text": [
      "[INFO] epoch = 37, loss = nan, validation loss = 0.249 training accuracy = 0.992, validation accuracy = 0.968\n"
     ]
    },
    {
     "name": "stderr",
     "output_type": "stream",
     "text": [
      "C:\\Users\\Ryan\\AppData\\Local\\Temp/ipykernel_11256/144893144.py:362: RuntimeWarning: divide by zero encountered in log\n",
      "  loss = (1/X.shape[0])*np.sum(-y*np.log(predictions)-(1-y)*np.log(1-predictions))\n",
      "C:\\Users\\Ryan\\AppData\\Local\\Temp/ipykernel_11256/144893144.py:362: RuntimeWarning: invalid value encountered in multiply\n",
      "  loss = (1/X.shape[0])*np.sum(-y*np.log(predictions)-(1-y)*np.log(1-predictions))\n"
     ]
    },
    {
     "name": "stdout",
     "output_type": "stream",
     "text": [
      "[INFO] epoch = 38, loss = nan, validation loss = nan training accuracy = 0.990, validation accuracy = 0.968\n"
     ]
    },
    {
     "name": "stderr",
     "output_type": "stream",
     "text": [
      "C:\\Users\\Ryan\\AppData\\Local\\Temp/ipykernel_11256/144893144.py:362: RuntimeWarning: divide by zero encountered in log\n",
      "  loss = (1/X.shape[0])*np.sum(-y*np.log(predictions)-(1-y)*np.log(1-predictions))\n",
      "C:\\Users\\Ryan\\AppData\\Local\\Temp/ipykernel_11256/144893144.py:362: RuntimeWarning: invalid value encountered in multiply\n",
      "  loss = (1/X.shape[0])*np.sum(-y*np.log(predictions)-(1-y)*np.log(1-predictions))\n"
     ]
    },
    {
     "name": "stdout",
     "output_type": "stream",
     "text": [
      "[INFO] epoch = 39, loss = nan, validation loss = nan training accuracy = 0.990, validation accuracy = 0.968\n"
     ]
    },
    {
     "name": "stderr",
     "output_type": "stream",
     "text": [
      "C:\\Users\\Ryan\\AppData\\Local\\Temp/ipykernel_11256/144893144.py:362: RuntimeWarning: divide by zero encountered in log\n",
      "  loss = (1/X.shape[0])*np.sum(-y*np.log(predictions)-(1-y)*np.log(1-predictions))\n",
      "C:\\Users\\Ryan\\AppData\\Local\\Temp/ipykernel_11256/144893144.py:362: RuntimeWarning: invalid value encountered in multiply\n",
      "  loss = (1/X.shape[0])*np.sum(-y*np.log(predictions)-(1-y)*np.log(1-predictions))\n"
     ]
    },
    {
     "name": "stdout",
     "output_type": "stream",
     "text": [
      "[INFO] epoch = 40, loss = nan, validation loss = nan training accuracy = 0.992, validation accuracy = 0.968\n"
     ]
    },
    {
     "name": "stderr",
     "output_type": "stream",
     "text": [
      "C:\\Users\\Ryan\\AppData\\Local\\Temp/ipykernel_11256/144893144.py:362: RuntimeWarning: divide by zero encountered in log\n",
      "  loss = (1/X.shape[0])*np.sum(-y*np.log(predictions)-(1-y)*np.log(1-predictions))\n",
      "C:\\Users\\Ryan\\AppData\\Local\\Temp/ipykernel_11256/144893144.py:362: RuntimeWarning: invalid value encountered in multiply\n",
      "  loss = (1/X.shape[0])*np.sum(-y*np.log(predictions)-(1-y)*np.log(1-predictions))\n"
     ]
    },
    {
     "name": "stdout",
     "output_type": "stream",
     "text": [
      "[INFO] epoch = 41, loss = nan, validation loss = nan training accuracy = 0.992, validation accuracy = 0.967\n"
     ]
    },
    {
     "name": "stderr",
     "output_type": "stream",
     "text": [
      "C:\\Users\\Ryan\\AppData\\Local\\Temp/ipykernel_11256/144893144.py:362: RuntimeWarning: divide by zero encountered in log\n",
      "  loss = (1/X.shape[0])*np.sum(-y*np.log(predictions)-(1-y)*np.log(1-predictions))\n",
      "C:\\Users\\Ryan\\AppData\\Local\\Temp/ipykernel_11256/144893144.py:362: RuntimeWarning: invalid value encountered in multiply\n",
      "  loss = (1/X.shape[0])*np.sum(-y*np.log(predictions)-(1-y)*np.log(1-predictions))\n"
     ]
    },
    {
     "name": "stdout",
     "output_type": "stream",
     "text": [
      "[INFO] epoch = 42, loss = nan, validation loss = nan training accuracy = 0.991, validation accuracy = 0.967\n"
     ]
    },
    {
     "name": "stderr",
     "output_type": "stream",
     "text": [
      "C:\\Users\\Ryan\\AppData\\Local\\Temp/ipykernel_11256/144893144.py:362: RuntimeWarning: divide by zero encountered in log\n",
      "  loss = (1/X.shape[0])*np.sum(-y*np.log(predictions)-(1-y)*np.log(1-predictions))\n",
      "C:\\Users\\Ryan\\AppData\\Local\\Temp/ipykernel_11256/144893144.py:362: RuntimeWarning: invalid value encountered in multiply\n",
      "  loss = (1/X.shape[0])*np.sum(-y*np.log(predictions)-(1-y)*np.log(1-predictions))\n"
     ]
    },
    {
     "name": "stdout",
     "output_type": "stream",
     "text": [
      "[INFO] epoch = 43, loss = nan, validation loss = nan training accuracy = 0.993, validation accuracy = 0.969\n"
     ]
    },
    {
     "name": "stderr",
     "output_type": "stream",
     "text": [
      "C:\\Users\\Ryan\\AppData\\Local\\Temp/ipykernel_11256/144893144.py:362: RuntimeWarning: divide by zero encountered in log\n",
      "  loss = (1/X.shape[0])*np.sum(-y*np.log(predictions)-(1-y)*np.log(1-predictions))\n",
      "C:\\Users\\Ryan\\AppData\\Local\\Temp/ipykernel_11256/144893144.py:362: RuntimeWarning: invalid value encountered in multiply\n",
      "  loss = (1/X.shape[0])*np.sum(-y*np.log(predictions)-(1-y)*np.log(1-predictions))\n"
     ]
    },
    {
     "name": "stdout",
     "output_type": "stream",
     "text": [
      "[INFO] epoch = 44, loss = nan, validation loss = nan training accuracy = 0.993, validation accuracy = 0.970\n"
     ]
    },
    {
     "name": "stderr",
     "output_type": "stream",
     "text": [
      "C:\\Users\\Ryan\\AppData\\Local\\Temp/ipykernel_11256/144893144.py:362: RuntimeWarning: divide by zero encountered in log\n",
      "  loss = (1/X.shape[0])*np.sum(-y*np.log(predictions)-(1-y)*np.log(1-predictions))\n",
      "C:\\Users\\Ryan\\AppData\\Local\\Temp/ipykernel_11256/144893144.py:362: RuntimeWarning: invalid value encountered in multiply\n",
      "  loss = (1/X.shape[0])*np.sum(-y*np.log(predictions)-(1-y)*np.log(1-predictions))\n"
     ]
    },
    {
     "name": "stdout",
     "output_type": "stream",
     "text": [
      "[INFO] epoch = 45, loss = nan, validation loss = 0.263 training accuracy = 0.993, validation accuracy = 0.968\n"
     ]
    },
    {
     "name": "stderr",
     "output_type": "stream",
     "text": [
      "C:\\Users\\Ryan\\AppData\\Local\\Temp/ipykernel_11256/144893144.py:362: RuntimeWarning: divide by zero encountered in log\n",
      "  loss = (1/X.shape[0])*np.sum(-y*np.log(predictions)-(1-y)*np.log(1-predictions))\n",
      "C:\\Users\\Ryan\\AppData\\Local\\Temp/ipykernel_11256/144893144.py:362: RuntimeWarning: invalid value encountered in multiply\n",
      "  loss = (1/X.shape[0])*np.sum(-y*np.log(predictions)-(1-y)*np.log(1-predictions))\n"
     ]
    },
    {
     "name": "stdout",
     "output_type": "stream",
     "text": [
      "[INFO] epoch = 46, loss = nan, validation loss = nan training accuracy = 0.994, validation accuracy = 0.970\n"
     ]
    },
    {
     "name": "stderr",
     "output_type": "stream",
     "text": [
      "C:\\Users\\Ryan\\AppData\\Local\\Temp/ipykernel_11256/144893144.py:362: RuntimeWarning: divide by zero encountered in log\n",
      "  loss = (1/X.shape[0])*np.sum(-y*np.log(predictions)-(1-y)*np.log(1-predictions))\n",
      "C:\\Users\\Ryan\\AppData\\Local\\Temp/ipykernel_11256/144893144.py:362: RuntimeWarning: invalid value encountered in multiply\n",
      "  loss = (1/X.shape[0])*np.sum(-y*np.log(predictions)-(1-y)*np.log(1-predictions))\n"
     ]
    },
    {
     "name": "stdout",
     "output_type": "stream",
     "text": [
      "[INFO] epoch = 47, loss = nan, validation loss = nan training accuracy = 0.994, validation accuracy = 0.968\n"
     ]
    },
    {
     "name": "stderr",
     "output_type": "stream",
     "text": [
      "C:\\Users\\Ryan\\AppData\\Local\\Temp/ipykernel_11256/144893144.py:362: RuntimeWarning: divide by zero encountered in log\n",
      "  loss = (1/X.shape[0])*np.sum(-y*np.log(predictions)-(1-y)*np.log(1-predictions))\n",
      "C:\\Users\\Ryan\\AppData\\Local\\Temp/ipykernel_11256/144893144.py:362: RuntimeWarning: invalid value encountered in multiply\n",
      "  loss = (1/X.shape[0])*np.sum(-y*np.log(predictions)-(1-y)*np.log(1-predictions))\n"
     ]
    },
    {
     "name": "stdout",
     "output_type": "stream",
     "text": [
      "[INFO] epoch = 48, loss = nan, validation loss = nan training accuracy = 0.994, validation accuracy = 0.969\n"
     ]
    },
    {
     "name": "stderr",
     "output_type": "stream",
     "text": [
      "C:\\Users\\Ryan\\AppData\\Local\\Temp/ipykernel_11256/144893144.py:362: RuntimeWarning: divide by zero encountered in log\n",
      "  loss = (1/X.shape[0])*np.sum(-y*np.log(predictions)-(1-y)*np.log(1-predictions))\n",
      "C:\\Users\\Ryan\\AppData\\Local\\Temp/ipykernel_11256/144893144.py:362: RuntimeWarning: invalid value encountered in multiply\n",
      "  loss = (1/X.shape[0])*np.sum(-y*np.log(predictions)-(1-y)*np.log(1-predictions))\n"
     ]
    },
    {
     "name": "stdout",
     "output_type": "stream",
     "text": [
      "[INFO] epoch = 49, loss = nan, validation loss = nan training accuracy = 0.992, validation accuracy = 0.967\n"
     ]
    },
    {
     "name": "stderr",
     "output_type": "stream",
     "text": [
      "C:\\Users\\Ryan\\AppData\\Local\\Temp/ipykernel_11256/144893144.py:362: RuntimeWarning: divide by zero encountered in log\n",
      "  loss = (1/X.shape[0])*np.sum(-y*np.log(predictions)-(1-y)*np.log(1-predictions))\n",
      "C:\\Users\\Ryan\\AppData\\Local\\Temp/ipykernel_11256/144893144.py:362: RuntimeWarning: invalid value encountered in multiply\n",
      "  loss = (1/X.shape[0])*np.sum(-y*np.log(predictions)-(1-y)*np.log(1-predictions))\n"
     ]
    },
    {
     "name": "stdout",
     "output_type": "stream",
     "text": [
      "[INFO] epoch = 50, loss = nan, validation loss = nan training accuracy = 0.995, validation accuracy = 0.967\n"
     ]
    },
    {
     "name": "stderr",
     "output_type": "stream",
     "text": [
      "C:\\Users\\Ryan\\AppData\\Local\\Temp/ipykernel_11256/144893144.py:362: RuntimeWarning: divide by zero encountered in log\n",
      "  loss = (1/X.shape[0])*np.sum(-y*np.log(predictions)-(1-y)*np.log(1-predictions))\n",
      "C:\\Users\\Ryan\\AppData\\Local\\Temp/ipykernel_11256/144893144.py:362: RuntimeWarning: invalid value encountered in multiply\n",
      "  loss = (1/X.shape[0])*np.sum(-y*np.log(predictions)-(1-y)*np.log(1-predictions))\n"
     ]
    },
    {
     "name": "stdout",
     "output_type": "stream",
     "text": [
      "[INFO] epoch = 51, loss = nan, validation loss = nan training accuracy = 0.995, validation accuracy = 0.970\n"
     ]
    },
    {
     "name": "stderr",
     "output_type": "stream",
     "text": [
      "C:\\Users\\Ryan\\AppData\\Local\\Temp/ipykernel_11256/144893144.py:362: RuntimeWarning: divide by zero encountered in log\n",
      "  loss = (1/X.shape[0])*np.sum(-y*np.log(predictions)-(1-y)*np.log(1-predictions))\n",
      "C:\\Users\\Ryan\\AppData\\Local\\Temp/ipykernel_11256/144893144.py:362: RuntimeWarning: invalid value encountered in multiply\n",
      "  loss = (1/X.shape[0])*np.sum(-y*np.log(predictions)-(1-y)*np.log(1-predictions))\n"
     ]
    },
    {
     "name": "stdout",
     "output_type": "stream",
     "text": [
      "[INFO] epoch = 52, loss = nan, validation loss = nan training accuracy = 0.993, validation accuracy = 0.967\n"
     ]
    },
    {
     "name": "stderr",
     "output_type": "stream",
     "text": [
      "C:\\Users\\Ryan\\AppData\\Local\\Temp/ipykernel_11256/144893144.py:362: RuntimeWarning: divide by zero encountered in log\n",
      "  loss = (1/X.shape[0])*np.sum(-y*np.log(predictions)-(1-y)*np.log(1-predictions))\n",
      "C:\\Users\\Ryan\\AppData\\Local\\Temp/ipykernel_11256/144893144.py:362: RuntimeWarning: invalid value encountered in multiply\n",
      "  loss = (1/X.shape[0])*np.sum(-y*np.log(predictions)-(1-y)*np.log(1-predictions))\n"
     ]
    },
    {
     "name": "stdout",
     "output_type": "stream",
     "text": [
      "[INFO] epoch = 53, loss = nan, validation loss = nan training accuracy = 0.995, validation accuracy = 0.967\n"
     ]
    },
    {
     "name": "stderr",
     "output_type": "stream",
     "text": [
      "C:\\Users\\Ryan\\AppData\\Local\\Temp/ipykernel_11256/144893144.py:362: RuntimeWarning: divide by zero encountered in log\n",
      "  loss = (1/X.shape[0])*np.sum(-y*np.log(predictions)-(1-y)*np.log(1-predictions))\n",
      "C:\\Users\\Ryan\\AppData\\Local\\Temp/ipykernel_11256/144893144.py:362: RuntimeWarning: invalid value encountered in multiply\n",
      "  loss = (1/X.shape[0])*np.sum(-y*np.log(predictions)-(1-y)*np.log(1-predictions))\n"
     ]
    },
    {
     "name": "stdout",
     "output_type": "stream",
     "text": [
      "[INFO] epoch = 54, loss = nan, validation loss = nan training accuracy = 0.995, validation accuracy = 0.967\n"
     ]
    },
    {
     "name": "stderr",
     "output_type": "stream",
     "text": [
      "C:\\Users\\Ryan\\AppData\\Local\\Temp/ipykernel_11256/144893144.py:362: RuntimeWarning: divide by zero encountered in log\n",
      "  loss = (1/X.shape[0])*np.sum(-y*np.log(predictions)-(1-y)*np.log(1-predictions))\n",
      "C:\\Users\\Ryan\\AppData\\Local\\Temp/ipykernel_11256/144893144.py:362: RuntimeWarning: invalid value encountered in multiply\n",
      "  loss = (1/X.shape[0])*np.sum(-y*np.log(predictions)-(1-y)*np.log(1-predictions))\n"
     ]
    },
    {
     "name": "stdout",
     "output_type": "stream",
     "text": [
      "[INFO] epoch = 55, loss = nan, validation loss = nan training accuracy = 0.995, validation accuracy = 0.968\n"
     ]
    },
    {
     "name": "stderr",
     "output_type": "stream",
     "text": [
      "C:\\Users\\Ryan\\AppData\\Local\\Temp/ipykernel_11256/144893144.py:362: RuntimeWarning: divide by zero encountered in log\n",
      "  loss = (1/X.shape[0])*np.sum(-y*np.log(predictions)-(1-y)*np.log(1-predictions))\n",
      "C:\\Users\\Ryan\\AppData\\Local\\Temp/ipykernel_11256/144893144.py:362: RuntimeWarning: invalid value encountered in multiply\n",
      "  loss = (1/X.shape[0])*np.sum(-y*np.log(predictions)-(1-y)*np.log(1-predictions))\n"
     ]
    },
    {
     "name": "stdout",
     "output_type": "stream",
     "text": [
      "[INFO] epoch = 56, loss = nan, validation loss = nan training accuracy = 0.995, validation accuracy = 0.968\n"
     ]
    },
    {
     "name": "stderr",
     "output_type": "stream",
     "text": [
      "C:\\Users\\Ryan\\AppData\\Local\\Temp/ipykernel_11256/144893144.py:362: RuntimeWarning: divide by zero encountered in log\n",
      "  loss = (1/X.shape[0])*np.sum(-y*np.log(predictions)-(1-y)*np.log(1-predictions))\n",
      "C:\\Users\\Ryan\\AppData\\Local\\Temp/ipykernel_11256/144893144.py:362: RuntimeWarning: invalid value encountered in multiply\n",
      "  loss = (1/X.shape[0])*np.sum(-y*np.log(predictions)-(1-y)*np.log(1-predictions))\n"
     ]
    },
    {
     "name": "stdout",
     "output_type": "stream",
     "text": [
      "[INFO] epoch = 57, loss = nan, validation loss = nan training accuracy = 0.995, validation accuracy = 0.968\n"
     ]
    },
    {
     "name": "stderr",
     "output_type": "stream",
     "text": [
      "C:\\Users\\Ryan\\AppData\\Local\\Temp/ipykernel_11256/144893144.py:362: RuntimeWarning: divide by zero encountered in log\n",
      "  loss = (1/X.shape[0])*np.sum(-y*np.log(predictions)-(1-y)*np.log(1-predictions))\n",
      "C:\\Users\\Ryan\\AppData\\Local\\Temp/ipykernel_11256/144893144.py:362: RuntimeWarning: invalid value encountered in multiply\n",
      "  loss = (1/X.shape[0])*np.sum(-y*np.log(predictions)-(1-y)*np.log(1-predictions))\n"
     ]
    },
    {
     "name": "stdout",
     "output_type": "stream",
     "text": [
      "[INFO] epoch = 58, loss = nan, validation loss = nan training accuracy = 0.994, validation accuracy = 0.966\n"
     ]
    },
    {
     "name": "stderr",
     "output_type": "stream",
     "text": [
      "C:\\Users\\Ryan\\AppData\\Local\\Temp/ipykernel_11256/144893144.py:362: RuntimeWarning: divide by zero encountered in log\n",
      "  loss = (1/X.shape[0])*np.sum(-y*np.log(predictions)-(1-y)*np.log(1-predictions))\n",
      "C:\\Users\\Ryan\\AppData\\Local\\Temp/ipykernel_11256/144893144.py:362: RuntimeWarning: invalid value encountered in multiply\n",
      "  loss = (1/X.shape[0])*np.sum(-y*np.log(predictions)-(1-y)*np.log(1-predictions))\n"
     ]
    },
    {
     "name": "stdout",
     "output_type": "stream",
     "text": [
      "[INFO] epoch = 59, loss = nan, validation loss = nan training accuracy = 0.996, validation accuracy = 0.966\n"
     ]
    },
    {
     "name": "stderr",
     "output_type": "stream",
     "text": [
      "C:\\Users\\Ryan\\AppData\\Local\\Temp/ipykernel_11256/144893144.py:362: RuntimeWarning: divide by zero encountered in log\n",
      "  loss = (1/X.shape[0])*np.sum(-y*np.log(predictions)-(1-y)*np.log(1-predictions))\n",
      "C:\\Users\\Ryan\\AppData\\Local\\Temp/ipykernel_11256/144893144.py:362: RuntimeWarning: invalid value encountered in multiply\n",
      "  loss = (1/X.shape[0])*np.sum(-y*np.log(predictions)-(1-y)*np.log(1-predictions))\n"
     ]
    },
    {
     "name": "stdout",
     "output_type": "stream",
     "text": [
      "[INFO] epoch = 60, loss = nan, validation loss = nan training accuracy = 0.995, validation accuracy = 0.964\n"
     ]
    },
    {
     "name": "stderr",
     "output_type": "stream",
     "text": [
      "C:\\Users\\Ryan\\AppData\\Local\\Temp/ipykernel_11256/144893144.py:362: RuntimeWarning: divide by zero encountered in log\n",
      "  loss = (1/X.shape[0])*np.sum(-y*np.log(predictions)-(1-y)*np.log(1-predictions))\n",
      "C:\\Users\\Ryan\\AppData\\Local\\Temp/ipykernel_11256/144893144.py:362: RuntimeWarning: invalid value encountered in multiply\n",
      "  loss = (1/X.shape[0])*np.sum(-y*np.log(predictions)-(1-y)*np.log(1-predictions))\n"
     ]
    },
    {
     "name": "stdout",
     "output_type": "stream",
     "text": [
      "[INFO] epoch = 61, loss = nan, validation loss = nan training accuracy = 0.995, validation accuracy = 0.966\n"
     ]
    },
    {
     "name": "stderr",
     "output_type": "stream",
     "text": [
      "C:\\Users\\Ryan\\AppData\\Local\\Temp/ipykernel_11256/144893144.py:362: RuntimeWarning: divide by zero encountered in log\n",
      "  loss = (1/X.shape[0])*np.sum(-y*np.log(predictions)-(1-y)*np.log(1-predictions))\n",
      "C:\\Users\\Ryan\\AppData\\Local\\Temp/ipykernel_11256/144893144.py:362: RuntimeWarning: invalid value encountered in multiply\n",
      "  loss = (1/X.shape[0])*np.sum(-y*np.log(predictions)-(1-y)*np.log(1-predictions))\n"
     ]
    },
    {
     "name": "stdout",
     "output_type": "stream",
     "text": [
      "[INFO] epoch = 62, loss = nan, validation loss = nan training accuracy = 0.996, validation accuracy = 0.966\n"
     ]
    },
    {
     "name": "stderr",
     "output_type": "stream",
     "text": [
      "C:\\Users\\Ryan\\AppData\\Local\\Temp/ipykernel_11256/144893144.py:362: RuntimeWarning: divide by zero encountered in log\n",
      "  loss = (1/X.shape[0])*np.sum(-y*np.log(predictions)-(1-y)*np.log(1-predictions))\n",
      "C:\\Users\\Ryan\\AppData\\Local\\Temp/ipykernel_11256/144893144.py:362: RuntimeWarning: invalid value encountered in multiply\n",
      "  loss = (1/X.shape[0])*np.sum(-y*np.log(predictions)-(1-y)*np.log(1-predictions))\n"
     ]
    },
    {
     "name": "stdout",
     "output_type": "stream",
     "text": [
      "[INFO] epoch = 63, loss = nan, validation loss = nan training accuracy = 0.996, validation accuracy = 0.968\n"
     ]
    },
    {
     "name": "stderr",
     "output_type": "stream",
     "text": [
      "C:\\Users\\Ryan\\AppData\\Local\\Temp/ipykernel_11256/144893144.py:362: RuntimeWarning: divide by zero encountered in log\n",
      "  loss = (1/X.shape[0])*np.sum(-y*np.log(predictions)-(1-y)*np.log(1-predictions))\n",
      "C:\\Users\\Ryan\\AppData\\Local\\Temp/ipykernel_11256/144893144.py:362: RuntimeWarning: invalid value encountered in multiply\n",
      "  loss = (1/X.shape[0])*np.sum(-y*np.log(predictions)-(1-y)*np.log(1-predictions))\n"
     ]
    },
    {
     "name": "stdout",
     "output_type": "stream",
     "text": [
      "[INFO] epoch = 64, loss = nan, validation loss = nan training accuracy = 0.996, validation accuracy = 0.965\n"
     ]
    },
    {
     "name": "stderr",
     "output_type": "stream",
     "text": [
      "C:\\Users\\Ryan\\AppData\\Local\\Temp/ipykernel_11256/144893144.py:362: RuntimeWarning: divide by zero encountered in log\n",
      "  loss = (1/X.shape[0])*np.sum(-y*np.log(predictions)-(1-y)*np.log(1-predictions))\n",
      "C:\\Users\\Ryan\\AppData\\Local\\Temp/ipykernel_11256/144893144.py:362: RuntimeWarning: invalid value encountered in multiply\n",
      "  loss = (1/X.shape[0])*np.sum(-y*np.log(predictions)-(1-y)*np.log(1-predictions))\n"
     ]
    },
    {
     "name": "stdout",
     "output_type": "stream",
     "text": [
      "[INFO] epoch = 65, loss = nan, validation loss = nan training accuracy = 0.996, validation accuracy = 0.967\n"
     ]
    },
    {
     "name": "stderr",
     "output_type": "stream",
     "text": [
      "C:\\Users\\Ryan\\AppData\\Local\\Temp/ipykernel_11256/144893144.py:362: RuntimeWarning: divide by zero encountered in log\n",
      "  loss = (1/X.shape[0])*np.sum(-y*np.log(predictions)-(1-y)*np.log(1-predictions))\n",
      "C:\\Users\\Ryan\\AppData\\Local\\Temp/ipykernel_11256/144893144.py:362: RuntimeWarning: invalid value encountered in multiply\n",
      "  loss = (1/X.shape[0])*np.sum(-y*np.log(predictions)-(1-y)*np.log(1-predictions))\n"
     ]
    },
    {
     "name": "stdout",
     "output_type": "stream",
     "text": [
      "[INFO] epoch = 66, loss = nan, validation loss = nan training accuracy = 0.996, validation accuracy = 0.966\n"
     ]
    },
    {
     "name": "stderr",
     "output_type": "stream",
     "text": [
      "C:\\Users\\Ryan\\AppData\\Local\\Temp/ipykernel_11256/144893144.py:362: RuntimeWarning: divide by zero encountered in log\n",
      "  loss = (1/X.shape[0])*np.sum(-y*np.log(predictions)-(1-y)*np.log(1-predictions))\n",
      "C:\\Users\\Ryan\\AppData\\Local\\Temp/ipykernel_11256/144893144.py:362: RuntimeWarning: invalid value encountered in multiply\n",
      "  loss = (1/X.shape[0])*np.sum(-y*np.log(predictions)-(1-y)*np.log(1-predictions))\n"
     ]
    },
    {
     "name": "stdout",
     "output_type": "stream",
     "text": [
      "[INFO] epoch = 67, loss = nan, validation loss = nan training accuracy = 0.997, validation accuracy = 0.968\n"
     ]
    },
    {
     "name": "stderr",
     "output_type": "stream",
     "text": [
      "C:\\Users\\Ryan\\AppData\\Local\\Temp/ipykernel_11256/144893144.py:362: RuntimeWarning: divide by zero encountered in log\n",
      "  loss = (1/X.shape[0])*np.sum(-y*np.log(predictions)-(1-y)*np.log(1-predictions))\n",
      "C:\\Users\\Ryan\\AppData\\Local\\Temp/ipykernel_11256/144893144.py:362: RuntimeWarning: invalid value encountered in multiply\n",
      "  loss = (1/X.shape[0])*np.sum(-y*np.log(predictions)-(1-y)*np.log(1-predictions))\n"
     ]
    },
    {
     "name": "stdout",
     "output_type": "stream",
     "text": [
      "[INFO] epoch = 68, loss = nan, validation loss = nan training accuracy = 0.997, validation accuracy = 0.969\n"
     ]
    },
    {
     "name": "stderr",
     "output_type": "stream",
     "text": [
      "C:\\Users\\Ryan\\AppData\\Local\\Temp/ipykernel_11256/144893144.py:362: RuntimeWarning: divide by zero encountered in log\n",
      "  loss = (1/X.shape[0])*np.sum(-y*np.log(predictions)-(1-y)*np.log(1-predictions))\n",
      "C:\\Users\\Ryan\\AppData\\Local\\Temp/ipykernel_11256/144893144.py:362: RuntimeWarning: invalid value encountered in multiply\n",
      "  loss = (1/X.shape[0])*np.sum(-y*np.log(predictions)-(1-y)*np.log(1-predictions))\n"
     ]
    },
    {
     "name": "stdout",
     "output_type": "stream",
     "text": [
      "[INFO] epoch = 69, loss = nan, validation loss = nan training accuracy = 0.995, validation accuracy = 0.964\n"
     ]
    },
    {
     "name": "stderr",
     "output_type": "stream",
     "text": [
      "C:\\Users\\Ryan\\AppData\\Local\\Temp/ipykernel_11256/144893144.py:362: RuntimeWarning: divide by zero encountered in log\n",
      "  loss = (1/X.shape[0])*np.sum(-y*np.log(predictions)-(1-y)*np.log(1-predictions))\n",
      "C:\\Users\\Ryan\\AppData\\Local\\Temp/ipykernel_11256/144893144.py:362: RuntimeWarning: invalid value encountered in multiply\n",
      "  loss = (1/X.shape[0])*np.sum(-y*np.log(predictions)-(1-y)*np.log(1-predictions))\n"
     ]
    },
    {
     "name": "stdout",
     "output_type": "stream",
     "text": [
      "[INFO] epoch = 70, loss = nan, validation loss = nan training accuracy = 0.997, validation accuracy = 0.968\n"
     ]
    },
    {
     "name": "stderr",
     "output_type": "stream",
     "text": [
      "C:\\Users\\Ryan\\AppData\\Local\\Temp/ipykernel_11256/144893144.py:362: RuntimeWarning: divide by zero encountered in log\n",
      "  loss = (1/X.shape[0])*np.sum(-y*np.log(predictions)-(1-y)*np.log(1-predictions))\n",
      "C:\\Users\\Ryan\\AppData\\Local\\Temp/ipykernel_11256/144893144.py:362: RuntimeWarning: invalid value encountered in multiply\n",
      "  loss = (1/X.shape[0])*np.sum(-y*np.log(predictions)-(1-y)*np.log(1-predictions))\n"
     ]
    },
    {
     "name": "stdout",
     "output_type": "stream",
     "text": [
      "[INFO] epoch = 71, loss = nan, validation loss = nan training accuracy = 0.997, validation accuracy = 0.967\n"
     ]
    },
    {
     "name": "stderr",
     "output_type": "stream",
     "text": [
      "C:\\Users\\Ryan\\AppData\\Local\\Temp/ipykernel_11256/144893144.py:362: RuntimeWarning: divide by zero encountered in log\n",
      "  loss = (1/X.shape[0])*np.sum(-y*np.log(predictions)-(1-y)*np.log(1-predictions))\n",
      "C:\\Users\\Ryan\\AppData\\Local\\Temp/ipykernel_11256/144893144.py:362: RuntimeWarning: invalid value encountered in multiply\n",
      "  loss = (1/X.shape[0])*np.sum(-y*np.log(predictions)-(1-y)*np.log(1-predictions))\n"
     ]
    },
    {
     "name": "stdout",
     "output_type": "stream",
     "text": [
      "[INFO] epoch = 72, loss = nan, validation loss = nan training accuracy = 0.997, validation accuracy = 0.966\n"
     ]
    },
    {
     "name": "stderr",
     "output_type": "stream",
     "text": [
      "C:\\Users\\Ryan\\AppData\\Local\\Temp/ipykernel_11256/144893144.py:362: RuntimeWarning: divide by zero encountered in log\n",
      "  loss = (1/X.shape[0])*np.sum(-y*np.log(predictions)-(1-y)*np.log(1-predictions))\n",
      "C:\\Users\\Ryan\\AppData\\Local\\Temp/ipykernel_11256/144893144.py:362: RuntimeWarning: invalid value encountered in multiply\n",
      "  loss = (1/X.shape[0])*np.sum(-y*np.log(predictions)-(1-y)*np.log(1-predictions))\n"
     ]
    },
    {
     "name": "stdout",
     "output_type": "stream",
     "text": [
      "[INFO] epoch = 73, loss = nan, validation loss = nan training accuracy = 0.997, validation accuracy = 0.966\n"
     ]
    },
    {
     "name": "stderr",
     "output_type": "stream",
     "text": [
      "C:\\Users\\Ryan\\AppData\\Local\\Temp/ipykernel_11256/144893144.py:362: RuntimeWarning: divide by zero encountered in log\n",
      "  loss = (1/X.shape[0])*np.sum(-y*np.log(predictions)-(1-y)*np.log(1-predictions))\n",
      "C:\\Users\\Ryan\\AppData\\Local\\Temp/ipykernel_11256/144893144.py:362: RuntimeWarning: invalid value encountered in multiply\n",
      "  loss = (1/X.shape[0])*np.sum(-y*np.log(predictions)-(1-y)*np.log(1-predictions))\n"
     ]
    },
    {
     "name": "stdout",
     "output_type": "stream",
     "text": [
      "[INFO] epoch = 74, loss = nan, validation loss = nan training accuracy = 0.997, validation accuracy = 0.966\n"
     ]
    },
    {
     "name": "stderr",
     "output_type": "stream",
     "text": [
      "C:\\Users\\Ryan\\AppData\\Local\\Temp/ipykernel_11256/144893144.py:362: RuntimeWarning: divide by zero encountered in log\n",
      "  loss = (1/X.shape[0])*np.sum(-y*np.log(predictions)-(1-y)*np.log(1-predictions))\n",
      "C:\\Users\\Ryan\\AppData\\Local\\Temp/ipykernel_11256/144893144.py:362: RuntimeWarning: invalid value encountered in multiply\n",
      "  loss = (1/X.shape[0])*np.sum(-y*np.log(predictions)-(1-y)*np.log(1-predictions))\n"
     ]
    },
    {
     "name": "stdout",
     "output_type": "stream",
     "text": [
      "[INFO] epoch = 75, loss = nan, validation loss = nan training accuracy = 0.997, validation accuracy = 0.967\n"
     ]
    },
    {
     "name": "stderr",
     "output_type": "stream",
     "text": [
      "C:\\Users\\Ryan\\AppData\\Local\\Temp/ipykernel_11256/144893144.py:362: RuntimeWarning: divide by zero encountered in log\n",
      "  loss = (1/X.shape[0])*np.sum(-y*np.log(predictions)-(1-y)*np.log(1-predictions))\n",
      "C:\\Users\\Ryan\\AppData\\Local\\Temp/ipykernel_11256/144893144.py:362: RuntimeWarning: invalid value encountered in multiply\n",
      "  loss = (1/X.shape[0])*np.sum(-y*np.log(predictions)-(1-y)*np.log(1-predictions))\n"
     ]
    },
    {
     "name": "stdout",
     "output_type": "stream",
     "text": [
      "[INFO] epoch = 76, loss = nan, validation loss = nan training accuracy = 0.997, validation accuracy = 0.967\n"
     ]
    },
    {
     "name": "stderr",
     "output_type": "stream",
     "text": [
      "C:\\Users\\Ryan\\AppData\\Local\\Temp/ipykernel_11256/144893144.py:362: RuntimeWarning: divide by zero encountered in log\n",
      "  loss = (1/X.shape[0])*np.sum(-y*np.log(predictions)-(1-y)*np.log(1-predictions))\n",
      "C:\\Users\\Ryan\\AppData\\Local\\Temp/ipykernel_11256/144893144.py:362: RuntimeWarning: invalid value encountered in multiply\n",
      "  loss = (1/X.shape[0])*np.sum(-y*np.log(predictions)-(1-y)*np.log(1-predictions))\n"
     ]
    },
    {
     "name": "stdout",
     "output_type": "stream",
     "text": [
      "[INFO] epoch = 77, loss = nan, validation loss = nan training accuracy = 0.995, validation accuracy = 0.964\n"
     ]
    },
    {
     "name": "stderr",
     "output_type": "stream",
     "text": [
      "C:\\Users\\Ryan\\AppData\\Local\\Temp/ipykernel_11256/144893144.py:362: RuntimeWarning: divide by zero encountered in log\n",
      "  loss = (1/X.shape[0])*np.sum(-y*np.log(predictions)-(1-y)*np.log(1-predictions))\n",
      "C:\\Users\\Ryan\\AppData\\Local\\Temp/ipykernel_11256/144893144.py:362: RuntimeWarning: invalid value encountered in multiply\n",
      "  loss = (1/X.shape[0])*np.sum(-y*np.log(predictions)-(1-y)*np.log(1-predictions))\n"
     ]
    },
    {
     "name": "stdout",
     "output_type": "stream",
     "text": [
      "[INFO] epoch = 78, loss = nan, validation loss = nan training accuracy = 0.997, validation accuracy = 0.965\n"
     ]
    },
    {
     "name": "stderr",
     "output_type": "stream",
     "text": [
      "C:\\Users\\Ryan\\AppData\\Local\\Temp/ipykernel_11256/144893144.py:362: RuntimeWarning: divide by zero encountered in log\n",
      "  loss = (1/X.shape[0])*np.sum(-y*np.log(predictions)-(1-y)*np.log(1-predictions))\n",
      "C:\\Users\\Ryan\\AppData\\Local\\Temp/ipykernel_11256/144893144.py:362: RuntimeWarning: invalid value encountered in multiply\n",
      "  loss = (1/X.shape[0])*np.sum(-y*np.log(predictions)-(1-y)*np.log(1-predictions))\n"
     ]
    },
    {
     "name": "stdout",
     "output_type": "stream",
     "text": [
      "[INFO] epoch = 79, loss = nan, validation loss = nan training accuracy = 0.995, validation accuracy = 0.966\n"
     ]
    },
    {
     "name": "stderr",
     "output_type": "stream",
     "text": [
      "C:\\Users\\Ryan\\AppData\\Local\\Temp/ipykernel_11256/144893144.py:362: RuntimeWarning: divide by zero encountered in log\n",
      "  loss = (1/X.shape[0])*np.sum(-y*np.log(predictions)-(1-y)*np.log(1-predictions))\n",
      "C:\\Users\\Ryan\\AppData\\Local\\Temp/ipykernel_11256/144893144.py:362: RuntimeWarning: invalid value encountered in multiply\n",
      "  loss = (1/X.shape[0])*np.sum(-y*np.log(predictions)-(1-y)*np.log(1-predictions))\n"
     ]
    },
    {
     "name": "stdout",
     "output_type": "stream",
     "text": [
      "[INFO] epoch = 80, loss = nan, validation loss = nan training accuracy = 0.997, validation accuracy = 0.968\n"
     ]
    },
    {
     "name": "stderr",
     "output_type": "stream",
     "text": [
      "C:\\Users\\Ryan\\AppData\\Local\\Temp/ipykernel_11256/144893144.py:362: RuntimeWarning: divide by zero encountered in log\n",
      "  loss = (1/X.shape[0])*np.sum(-y*np.log(predictions)-(1-y)*np.log(1-predictions))\n",
      "C:\\Users\\Ryan\\AppData\\Local\\Temp/ipykernel_11256/144893144.py:362: RuntimeWarning: invalid value encountered in multiply\n",
      "  loss = (1/X.shape[0])*np.sum(-y*np.log(predictions)-(1-y)*np.log(1-predictions))\n"
     ]
    },
    {
     "name": "stdout",
     "output_type": "stream",
     "text": [
      "[INFO] epoch = 81, loss = nan, validation loss = nan training accuracy = 0.996, validation accuracy = 0.967\n"
     ]
    },
    {
     "name": "stderr",
     "output_type": "stream",
     "text": [
      "C:\\Users\\Ryan\\AppData\\Local\\Temp/ipykernel_11256/144893144.py:362: RuntimeWarning: divide by zero encountered in log\n",
      "  loss = (1/X.shape[0])*np.sum(-y*np.log(predictions)-(1-y)*np.log(1-predictions))\n",
      "C:\\Users\\Ryan\\AppData\\Local\\Temp/ipykernel_11256/144893144.py:362: RuntimeWarning: invalid value encountered in multiply\n",
      "  loss = (1/X.shape[0])*np.sum(-y*np.log(predictions)-(1-y)*np.log(1-predictions))\n"
     ]
    },
    {
     "name": "stdout",
     "output_type": "stream",
     "text": [
      "[INFO] epoch = 82, loss = nan, validation loss = nan training accuracy = 0.997, validation accuracy = 0.965\n"
     ]
    },
    {
     "name": "stderr",
     "output_type": "stream",
     "text": [
      "C:\\Users\\Ryan\\AppData\\Local\\Temp/ipykernel_11256/144893144.py:362: RuntimeWarning: divide by zero encountered in log\n",
      "  loss = (1/X.shape[0])*np.sum(-y*np.log(predictions)-(1-y)*np.log(1-predictions))\n",
      "C:\\Users\\Ryan\\AppData\\Local\\Temp/ipykernel_11256/144893144.py:362: RuntimeWarning: invalid value encountered in multiply\n",
      "  loss = (1/X.shape[0])*np.sum(-y*np.log(predictions)-(1-y)*np.log(1-predictions))\n"
     ]
    },
    {
     "name": "stdout",
     "output_type": "stream",
     "text": [
      "[INFO] epoch = 83, loss = nan, validation loss = nan training accuracy = 0.997, validation accuracy = 0.967\n"
     ]
    },
    {
     "name": "stderr",
     "output_type": "stream",
     "text": [
      "C:\\Users\\Ryan\\AppData\\Local\\Temp/ipykernel_11256/144893144.py:362: RuntimeWarning: divide by zero encountered in log\n",
      "  loss = (1/X.shape[0])*np.sum(-y*np.log(predictions)-(1-y)*np.log(1-predictions))\n",
      "C:\\Users\\Ryan\\AppData\\Local\\Temp/ipykernel_11256/144893144.py:362: RuntimeWarning: invalid value encountered in multiply\n",
      "  loss = (1/X.shape[0])*np.sum(-y*np.log(predictions)-(1-y)*np.log(1-predictions))\n"
     ]
    },
    {
     "name": "stdout",
     "output_type": "stream",
     "text": [
      "[INFO] epoch = 84, loss = nan, validation loss = nan training accuracy = 0.997, validation accuracy = 0.966\n"
     ]
    },
    {
     "name": "stderr",
     "output_type": "stream",
     "text": [
      "C:\\Users\\Ryan\\AppData\\Local\\Temp/ipykernel_11256/144893144.py:362: RuntimeWarning: divide by zero encountered in log\n",
      "  loss = (1/X.shape[0])*np.sum(-y*np.log(predictions)-(1-y)*np.log(1-predictions))\n",
      "C:\\Users\\Ryan\\AppData\\Local\\Temp/ipykernel_11256/144893144.py:362: RuntimeWarning: invalid value encountered in multiply\n",
      "  loss = (1/X.shape[0])*np.sum(-y*np.log(predictions)-(1-y)*np.log(1-predictions))\n"
     ]
    },
    {
     "name": "stdout",
     "output_type": "stream",
     "text": [
      "[INFO] epoch = 85, loss = nan, validation loss = nan training accuracy = 0.997, validation accuracy = 0.967\n"
     ]
    },
    {
     "name": "stderr",
     "output_type": "stream",
     "text": [
      "C:\\Users\\Ryan\\AppData\\Local\\Temp/ipykernel_11256/144893144.py:362: RuntimeWarning: divide by zero encountered in log\n",
      "  loss = (1/X.shape[0])*np.sum(-y*np.log(predictions)-(1-y)*np.log(1-predictions))\n",
      "C:\\Users\\Ryan\\AppData\\Local\\Temp/ipykernel_11256/144893144.py:362: RuntimeWarning: invalid value encountered in multiply\n",
      "  loss = (1/X.shape[0])*np.sum(-y*np.log(predictions)-(1-y)*np.log(1-predictions))\n"
     ]
    },
    {
     "name": "stdout",
     "output_type": "stream",
     "text": [
      "[INFO] epoch = 86, loss = nan, validation loss = nan training accuracy = 0.998, validation accuracy = 0.966\n"
     ]
    },
    {
     "name": "stderr",
     "output_type": "stream",
     "text": [
      "C:\\Users\\Ryan\\AppData\\Local\\Temp/ipykernel_11256/144893144.py:362: RuntimeWarning: divide by zero encountered in log\n",
      "  loss = (1/X.shape[0])*np.sum(-y*np.log(predictions)-(1-y)*np.log(1-predictions))\n",
      "C:\\Users\\Ryan\\AppData\\Local\\Temp/ipykernel_11256/144893144.py:362: RuntimeWarning: invalid value encountered in multiply\n",
      "  loss = (1/X.shape[0])*np.sum(-y*np.log(predictions)-(1-y)*np.log(1-predictions))\n"
     ]
    },
    {
     "name": "stdout",
     "output_type": "stream",
     "text": [
      "[INFO] epoch = 87, loss = nan, validation loss = nan training accuracy = 0.998, validation accuracy = 0.967\n"
     ]
    },
    {
     "name": "stderr",
     "output_type": "stream",
     "text": [
      "C:\\Users\\Ryan\\AppData\\Local\\Temp/ipykernel_11256/144893144.py:362: RuntimeWarning: divide by zero encountered in log\n",
      "  loss = (1/X.shape[0])*np.sum(-y*np.log(predictions)-(1-y)*np.log(1-predictions))\n",
      "C:\\Users\\Ryan\\AppData\\Local\\Temp/ipykernel_11256/144893144.py:362: RuntimeWarning: invalid value encountered in multiply\n",
      "  loss = (1/X.shape[0])*np.sum(-y*np.log(predictions)-(1-y)*np.log(1-predictions))\n"
     ]
    },
    {
     "name": "stdout",
     "output_type": "stream",
     "text": [
      "[INFO] epoch = 88, loss = nan, validation loss = nan training accuracy = 0.998, validation accuracy = 0.967\n"
     ]
    },
    {
     "name": "stderr",
     "output_type": "stream",
     "text": [
      "C:\\Users\\Ryan\\AppData\\Local\\Temp/ipykernel_11256/144893144.py:362: RuntimeWarning: divide by zero encountered in log\n",
      "  loss = (1/X.shape[0])*np.sum(-y*np.log(predictions)-(1-y)*np.log(1-predictions))\n",
      "C:\\Users\\Ryan\\AppData\\Local\\Temp/ipykernel_11256/144893144.py:362: RuntimeWarning: invalid value encountered in multiply\n",
      "  loss = (1/X.shape[0])*np.sum(-y*np.log(predictions)-(1-y)*np.log(1-predictions))\n"
     ]
    },
    {
     "name": "stdout",
     "output_type": "stream",
     "text": [
      "[INFO] epoch = 89, loss = nan, validation loss = nan training accuracy = 0.998, validation accuracy = 0.966\n"
     ]
    },
    {
     "name": "stderr",
     "output_type": "stream",
     "text": [
      "C:\\Users\\Ryan\\AppData\\Local\\Temp/ipykernel_11256/144893144.py:362: RuntimeWarning: divide by zero encountered in log\n",
      "  loss = (1/X.shape[0])*np.sum(-y*np.log(predictions)-(1-y)*np.log(1-predictions))\n",
      "C:\\Users\\Ryan\\AppData\\Local\\Temp/ipykernel_11256/144893144.py:362: RuntimeWarning: invalid value encountered in multiply\n",
      "  loss = (1/X.shape[0])*np.sum(-y*np.log(predictions)-(1-y)*np.log(1-predictions))\n"
     ]
    },
    {
     "name": "stdout",
     "output_type": "stream",
     "text": [
      "[INFO] epoch = 90, loss = nan, validation loss = nan training accuracy = 0.998, validation accuracy = 0.966\n"
     ]
    },
    {
     "name": "stderr",
     "output_type": "stream",
     "text": [
      "C:\\Users\\Ryan\\AppData\\Local\\Temp/ipykernel_11256/144893144.py:362: RuntimeWarning: divide by zero encountered in log\n",
      "  loss = (1/X.shape[0])*np.sum(-y*np.log(predictions)-(1-y)*np.log(1-predictions))\n",
      "C:\\Users\\Ryan\\AppData\\Local\\Temp/ipykernel_11256/144893144.py:362: RuntimeWarning: invalid value encountered in multiply\n",
      "  loss = (1/X.shape[0])*np.sum(-y*np.log(predictions)-(1-y)*np.log(1-predictions))\n"
     ]
    },
    {
     "name": "stdout",
     "output_type": "stream",
     "text": [
      "[INFO] epoch = 91, loss = nan, validation loss = nan training accuracy = 0.997, validation accuracy = 0.967\n"
     ]
    },
    {
     "name": "stderr",
     "output_type": "stream",
     "text": [
      "C:\\Users\\Ryan\\AppData\\Local\\Temp/ipykernel_11256/144893144.py:362: RuntimeWarning: divide by zero encountered in log\n",
      "  loss = (1/X.shape[0])*np.sum(-y*np.log(predictions)-(1-y)*np.log(1-predictions))\n",
      "C:\\Users\\Ryan\\AppData\\Local\\Temp/ipykernel_11256/144893144.py:362: RuntimeWarning: invalid value encountered in multiply\n",
      "  loss = (1/X.shape[0])*np.sum(-y*np.log(predictions)-(1-y)*np.log(1-predictions))\n"
     ]
    },
    {
     "name": "stdout",
     "output_type": "stream",
     "text": [
      "[INFO] epoch = 92, loss = nan, validation loss = nan training accuracy = 0.996, validation accuracy = 0.964\n"
     ]
    },
    {
     "name": "stderr",
     "output_type": "stream",
     "text": [
      "C:\\Users\\Ryan\\AppData\\Local\\Temp/ipykernel_11256/144893144.py:362: RuntimeWarning: divide by zero encountered in log\n",
      "  loss = (1/X.shape[0])*np.sum(-y*np.log(predictions)-(1-y)*np.log(1-predictions))\n",
      "C:\\Users\\Ryan\\AppData\\Local\\Temp/ipykernel_11256/144893144.py:362: RuntimeWarning: invalid value encountered in multiply\n",
      "  loss = (1/X.shape[0])*np.sum(-y*np.log(predictions)-(1-y)*np.log(1-predictions))\n"
     ]
    },
    {
     "name": "stdout",
     "output_type": "stream",
     "text": [
      "[INFO] epoch = 93, loss = nan, validation loss = nan training accuracy = 0.998, validation accuracy = 0.967\n"
     ]
    },
    {
     "name": "stderr",
     "output_type": "stream",
     "text": [
      "C:\\Users\\Ryan\\AppData\\Local\\Temp/ipykernel_11256/144893144.py:362: RuntimeWarning: divide by zero encountered in log\n",
      "  loss = (1/X.shape[0])*np.sum(-y*np.log(predictions)-(1-y)*np.log(1-predictions))\n",
      "C:\\Users\\Ryan\\AppData\\Local\\Temp/ipykernel_11256/144893144.py:362: RuntimeWarning: invalid value encountered in multiply\n",
      "  loss = (1/X.shape[0])*np.sum(-y*np.log(predictions)-(1-y)*np.log(1-predictions))\n"
     ]
    },
    {
     "name": "stdout",
     "output_type": "stream",
     "text": [
      "[INFO] epoch = 94, loss = nan, validation loss = nan training accuracy = 0.998, validation accuracy = 0.969\n"
     ]
    },
    {
     "name": "stderr",
     "output_type": "stream",
     "text": [
      "C:\\Users\\Ryan\\AppData\\Local\\Temp/ipykernel_11256/144893144.py:362: RuntimeWarning: divide by zero encountered in log\n",
      "  loss = (1/X.shape[0])*np.sum(-y*np.log(predictions)-(1-y)*np.log(1-predictions))\n",
      "C:\\Users\\Ryan\\AppData\\Local\\Temp/ipykernel_11256/144893144.py:362: RuntimeWarning: invalid value encountered in multiply\n",
      "  loss = (1/X.shape[0])*np.sum(-y*np.log(predictions)-(1-y)*np.log(1-predictions))\n"
     ]
    },
    {
     "name": "stdout",
     "output_type": "stream",
     "text": [
      "[INFO] epoch = 95, loss = nan, validation loss = nan training accuracy = 0.998, validation accuracy = 0.965\n"
     ]
    },
    {
     "name": "stderr",
     "output_type": "stream",
     "text": [
      "C:\\Users\\Ryan\\AppData\\Local\\Temp/ipykernel_11256/144893144.py:362: RuntimeWarning: divide by zero encountered in log\n",
      "  loss = (1/X.shape[0])*np.sum(-y*np.log(predictions)-(1-y)*np.log(1-predictions))\n",
      "C:\\Users\\Ryan\\AppData\\Local\\Temp/ipykernel_11256/144893144.py:362: RuntimeWarning: invalid value encountered in multiply\n",
      "  loss = (1/X.shape[0])*np.sum(-y*np.log(predictions)-(1-y)*np.log(1-predictions))\n"
     ]
    },
    {
     "name": "stdout",
     "output_type": "stream",
     "text": [
      "[INFO] epoch = 96, loss = nan, validation loss = nan training accuracy = 0.999, validation accuracy = 0.965\n"
     ]
    },
    {
     "name": "stderr",
     "output_type": "stream",
     "text": [
      "C:\\Users\\Ryan\\AppData\\Local\\Temp/ipykernel_11256/144893144.py:362: RuntimeWarning: divide by zero encountered in log\n",
      "  loss = (1/X.shape[0])*np.sum(-y*np.log(predictions)-(1-y)*np.log(1-predictions))\n",
      "C:\\Users\\Ryan\\AppData\\Local\\Temp/ipykernel_11256/144893144.py:362: RuntimeWarning: invalid value encountered in multiply\n",
      "  loss = (1/X.shape[0])*np.sum(-y*np.log(predictions)-(1-y)*np.log(1-predictions))\n"
     ]
    },
    {
     "name": "stdout",
     "output_type": "stream",
     "text": [
      "[INFO] epoch = 97, loss = nan, validation loss = nan training accuracy = 0.999, validation accuracy = 0.967\n"
     ]
    },
    {
     "name": "stderr",
     "output_type": "stream",
     "text": [
      "C:\\Users\\Ryan\\AppData\\Local\\Temp/ipykernel_11256/144893144.py:362: RuntimeWarning: divide by zero encountered in log\n",
      "  loss = (1/X.shape[0])*np.sum(-y*np.log(predictions)-(1-y)*np.log(1-predictions))\n",
      "C:\\Users\\Ryan\\AppData\\Local\\Temp/ipykernel_11256/144893144.py:362: RuntimeWarning: invalid value encountered in multiply\n",
      "  loss = (1/X.shape[0])*np.sum(-y*np.log(predictions)-(1-y)*np.log(1-predictions))\n"
     ]
    },
    {
     "name": "stdout",
     "output_type": "stream",
     "text": [
      "[INFO] epoch = 98, loss = nan, validation loss = nan training accuracy = 0.999, validation accuracy = 0.966\n"
     ]
    },
    {
     "name": "stderr",
     "output_type": "stream",
     "text": [
      "C:\\Users\\Ryan\\AppData\\Local\\Temp/ipykernel_11256/144893144.py:362: RuntimeWarning: divide by zero encountered in log\n",
      "  loss = (1/X.shape[0])*np.sum(-y*np.log(predictions)-(1-y)*np.log(1-predictions))\n",
      "C:\\Users\\Ryan\\AppData\\Local\\Temp/ipykernel_11256/144893144.py:362: RuntimeWarning: invalid value encountered in multiply\n",
      "  loss = (1/X.shape[0])*np.sum(-y*np.log(predictions)-(1-y)*np.log(1-predictions))\n"
     ]
    },
    {
     "name": "stdout",
     "output_type": "stream",
     "text": [
      "[INFO] epoch = 99, loss = nan, validation loss = nan training accuracy = 0.999, validation accuracy = 0.966\n"
     ]
    },
    {
     "name": "stderr",
     "output_type": "stream",
     "text": [
      "C:\\Users\\Ryan\\AppData\\Local\\Temp/ipykernel_11256/144893144.py:362: RuntimeWarning: divide by zero encountered in log\n",
      "  loss = (1/X.shape[0])*np.sum(-y*np.log(predictions)-(1-y)*np.log(1-predictions))\n",
      "C:\\Users\\Ryan\\AppData\\Local\\Temp/ipykernel_11256/144893144.py:362: RuntimeWarning: invalid value encountered in multiply\n",
      "  loss = (1/X.shape[0])*np.sum(-y*np.log(predictions)-(1-y)*np.log(1-predictions))\n"
     ]
    },
    {
     "name": "stdout",
     "output_type": "stream",
     "text": [
      "[INFO] epoch = 100, loss = nan, validation loss = nan training accuracy = 0.999, validation accuracy = 0.966\n",
      "Test set accuracy\n",
      "              precision    recall  f1-score   support\n",
      "\n",
      "           0       0.97      1.00      0.98       481\n",
      "           1       0.99      0.99      0.99       585\n",
      "           2       0.98      0.95      0.96       500\n",
      "           3       0.94      0.98      0.96       505\n",
      "           4       0.96      0.96      0.96       485\n",
      "           5       0.97      0.95      0.96       473\n",
      "           6       0.97      0.96      0.97       481\n",
      "           7       0.97      0.96      0.96       515\n",
      "           8       0.97      0.96      0.96       477\n",
      "           9       0.96      0.96      0.96       498\n",
      "\n",
      "    accuracy                           0.97      5000\n",
      "   macro avg       0.97      0.97      0.97      5000\n",
      "weighted avg       0.97      0.97      0.97      5000\n",
      "\n"
     ]
    },
    {
     "data": {
      "image/png": "[encoded data removed]",
      "text/plain": [
       "<Figure size 432x288 with 2 Axes>"
      ]
     },
     "metadata": {
      "needs_background": "light"
     },
     "output_type": "display_data"
    }
   ],
   "source": [
    "# load mnist data\n",
    "((trainX, trainY), (testX, testY)) = mnist.load_data()\n",
    "\n",
    "# scale the data to values in [0,1]\n",
    "trainX = trainX/255.0\n",
    "testX = testX/255.0\n",
    "\n",
    "# reshape the data to a vector\n",
    "trainX = trainX.reshape([60000, 28*28])\n",
    "testX = testX.reshape([10000, 28*28])\n",
    "\n",
    "# split test data into validation and test sets\n",
    "valX, testX, valY, testY = train_test_split(testX, testY, test_size = 0.5)\n",
    "\n",
    "# create a model\n",
    "model = FeedforwardNeuralNetwork([784, 32, 16, 10], 0.001, activations = 'ReLU', initialization = ['Glorot', 'normal'], loss = 'cross-entropy')\n",
    "\n",
    "# fit the model to the training data\n",
    "model.fit(trainX, trainY, valX, valY, 100, 1)\n",
    "\n",
    "print(\"Test set accuracy\")\n",
    "testY = to_categorical(testY)\n",
    "predictedY = model.predict(testX)\n",
    "predictedY = predictedY.argmax(axis=1)\n",
    "\n",
    "testY = testY.argmax(axis=1)\n",
    "print(classification_report(testY, predictedY))"
   ]
  },
  {
   "cell_type": "code",
   "execution_count": 8,
   "id": "e1c09478-d784-4c15-9ba8-4cc6b4466eec",
   "metadata": {},
   "outputs": [
    {
     "name": "stdout",
     "output_type": "stream",
     "text": [
      "[INFO] epoch = 1, loss = 0.449, validation loss = 0.455 training accuracy = 0.935, validation accuracy = 0.934\n",
      "[INFO] epoch = 2, loss = 0.318, validation loss = 0.343 training accuracy = 0.954, validation accuracy = 0.947\n",
      "[INFO] epoch = 3, loss = 0.293, validation loss = 0.325 training accuracy = 0.958, validation accuracy = 0.949\n",
      "[INFO] epoch = 4, loss = 0.221, validation loss = 0.260 training accuracy = 0.969, validation accuracy = 0.961\n",
      "[INFO] epoch = 5, loss = 0.189, validation loss = 0.238 training accuracy = 0.974, validation accuracy = 0.964\n",
      "[INFO] epoch = 6, loss = 0.166, validation loss = 0.224 training accuracy = 0.978, validation accuracy = 0.964\n",
      "[INFO] epoch = 7, loss = 0.148, validation loss = 0.213 training accuracy = 0.980, validation accuracy = 0.968\n",
      "[INFO] epoch = 8, loss = 0.141, validation loss = 0.210 training accuracy = 0.982, validation accuracy = 0.968\n",
      "[INFO] epoch = 9, loss = 0.121, validation loss = 0.203 training accuracy = 0.985, validation accuracy = 0.966\n",
      "[INFO] epoch = 10, loss = 0.109, validation loss = 0.186 training accuracy = 0.986, validation accuracy = 0.971\n",
      "[INFO] epoch = 11, loss = 0.103, validation loss = 0.190 training accuracy = 0.987, validation accuracy = 0.970\n",
      "[INFO] epoch = 12, loss = 0.108, validation loss = 0.195 training accuracy = 0.987, validation accuracy = 0.970\n",
      "[INFO] epoch = 13, loss = 0.091, validation loss = 0.186 training accuracy = 0.989, validation accuracy = 0.973\n",
      "[INFO] epoch = 14, loss = 0.085, validation loss = 0.192 training accuracy = 0.990, validation accuracy = 0.971\n",
      "[INFO] epoch = 15, loss = 0.086, validation loss = 0.193 training accuracy = 0.990, validation accuracy = 0.971\n",
      "[INFO] epoch = 16, loss = 0.076, validation loss = 0.183 training accuracy = 0.992, validation accuracy = 0.972\n",
      "[INFO] epoch = 17, loss = 0.069, validation loss = 0.178 training accuracy = 0.993, validation accuracy = 0.974\n",
      "[INFO] epoch = 18, loss = 0.065, validation loss = 0.187 training accuracy = 0.993, validation accuracy = 0.973\n",
      "[INFO] epoch = 19, loss = 0.063, validation loss = 0.190 training accuracy = 0.993, validation accuracy = 0.975\n",
      "[INFO] epoch = 20, loss = 0.056, validation loss = 0.180 training accuracy = 0.994, validation accuracy = 0.974\n",
      "[INFO] epoch = 21, loss = 0.049, validation loss = 0.176 training accuracy = 0.995, validation accuracy = 0.976\n",
      "[INFO] epoch = 22, loss = 0.057, validation loss = 0.187 training accuracy = 0.994, validation accuracy = 0.974\n",
      "[INFO] epoch = 23, loss = 0.044, validation loss = 0.182 training accuracy = 0.996, validation accuracy = 0.976\n",
      "[INFO] epoch = 24, loss = 0.039, validation loss = 0.181 training accuracy = 0.997, validation accuracy = 0.977\n"
     ]
    },
    {
     "name": "stderr",
     "output_type": "stream",
     "text": [
      "C:\\Users\\Ryan\\AppData\\Local\\Temp/ipykernel_11256/144893144.py:362: RuntimeWarning: divide by zero encountered in log\n",
      "  loss = (1/X.shape[0])*np.sum(-y*np.log(predictions)-(1-y)*np.log(1-predictions))\n",
      "C:\\Users\\Ryan\\AppData\\Local\\Temp/ipykernel_11256/144893144.py:362: RuntimeWarning: invalid value encountered in multiply\n",
      "  loss = (1/X.shape[0])*np.sum(-y*np.log(predictions)-(1-y)*np.log(1-predictions))\n"
     ]
    },
    {
     "name": "stdout",
     "output_type": "stream",
     "text": [
      "[INFO] epoch = 25, loss = nan, validation loss = 0.190 training accuracy = 0.996, validation accuracy = 0.975\n"
     ]
    },
    {
     "name": "stderr",
     "output_type": "stream",
     "text": [
      "C:\\Users\\Ryan\\AppData\\Local\\Temp/ipykernel_11256/144893144.py:362: RuntimeWarning: divide by zero encountered in log\n",
      "  loss = (1/X.shape[0])*np.sum(-y*np.log(predictions)-(1-y)*np.log(1-predictions))\n",
      "C:\\Users\\Ryan\\AppData\\Local\\Temp/ipykernel_11256/144893144.py:362: RuntimeWarning: invalid value encountered in multiply\n",
      "  loss = (1/X.shape[0])*np.sum(-y*np.log(predictions)-(1-y)*np.log(1-predictions))\n"
     ]
    },
    {
     "name": "stdout",
     "output_type": "stream",
     "text": [
      "[INFO] epoch = 26, loss = nan, validation loss = 0.195 training accuracy = 0.998, validation accuracy = 0.975\n",
      "[INFO] epoch = 27, loss = 0.035, validation loss = 0.189 training accuracy = 0.997, validation accuracy = 0.975\n"
     ]
    },
    {
     "name": "stderr",
     "output_type": "stream",
     "text": [
      "C:\\Users\\Ryan\\AppData\\Local\\Temp/ipykernel_11256/144893144.py:362: RuntimeWarning: divide by zero encountered in log\n",
      "  loss = (1/X.shape[0])*np.sum(-y*np.log(predictions)-(1-y)*np.log(1-predictions))\n",
      "C:\\Users\\Ryan\\AppData\\Local\\Temp/ipykernel_11256/144893144.py:362: RuntimeWarning: invalid value encountered in multiply\n",
      "  loss = (1/X.shape[0])*np.sum(-y*np.log(predictions)-(1-y)*np.log(1-predictions))\n"
     ]
    },
    {
     "name": "stdout",
     "output_type": "stream",
     "text": [
      "[INFO] epoch = 28, loss = nan, validation loss = 0.188 training accuracy = 0.998, validation accuracy = 0.976\n"
     ]
    },
    {
     "name": "stderr",
     "output_type": "stream",
     "text": [
      "C:\\Users\\Ryan\\AppData\\Local\\Temp/ipykernel_11256/144893144.py:362: RuntimeWarning: divide by zero encountered in log\n",
      "  loss = (1/X.shape[0])*np.sum(-y*np.log(predictions)-(1-y)*np.log(1-predictions))\n",
      "C:\\Users\\Ryan\\AppData\\Local\\Temp/ipykernel_11256/144893144.py:362: RuntimeWarning: invalid value encountered in multiply\n",
      "  loss = (1/X.shape[0])*np.sum(-y*np.log(predictions)-(1-y)*np.log(1-predictions))\n"
     ]
    },
    {
     "name": "stdout",
     "output_type": "stream",
     "text": [
      "[INFO] epoch = 29, loss = nan, validation loss = 0.185 training accuracy = 0.998, validation accuracy = 0.977\n"
     ]
    },
    {
     "name": "stderr",
     "output_type": "stream",
     "text": [
      "C:\\Users\\Ryan\\AppData\\Local\\Temp/ipykernel_11256/144893144.py:362: RuntimeWarning: divide by zero encountered in log\n",
      "  loss = (1/X.shape[0])*np.sum(-y*np.log(predictions)-(1-y)*np.log(1-predictions))\n",
      "C:\\Users\\Ryan\\AppData\\Local\\Temp/ipykernel_11256/144893144.py:362: RuntimeWarning: invalid value encountered in multiply\n",
      "  loss = (1/X.shape[0])*np.sum(-y*np.log(predictions)-(1-y)*np.log(1-predictions))\n"
     ]
    },
    {
     "name": "stdout",
     "output_type": "stream",
     "text": [
      "[INFO] epoch = 30, loss = nan, validation loss = nan training accuracy = 0.998, validation accuracy = 0.977\n"
     ]
    },
    {
     "name": "stderr",
     "output_type": "stream",
     "text": [
      "C:\\Users\\Ryan\\AppData\\Local\\Temp/ipykernel_11256/144893144.py:362: RuntimeWarning: divide by zero encountered in log\n",
      "  loss = (1/X.shape[0])*np.sum(-y*np.log(predictions)-(1-y)*np.log(1-predictions))\n",
      "C:\\Users\\Ryan\\AppData\\Local\\Temp/ipykernel_11256/144893144.py:362: RuntimeWarning: invalid value encountered in multiply\n",
      "  loss = (1/X.shape[0])*np.sum(-y*np.log(predictions)-(1-y)*np.log(1-predictions))\n"
     ]
    },
    {
     "name": "stdout",
     "output_type": "stream",
     "text": [
      "[INFO] epoch = 31, loss = nan, validation loss = nan training accuracy = 0.998, validation accuracy = 0.976\n"
     ]
    },
    {
     "name": "stderr",
     "output_type": "stream",
     "text": [
      "C:\\Users\\Ryan\\AppData\\Local\\Temp/ipykernel_11256/144893144.py:362: RuntimeWarning: divide by zero encountered in log\n",
      "  loss = (1/X.shape[0])*np.sum(-y*np.log(predictions)-(1-y)*np.log(1-predictions))\n",
      "C:\\Users\\Ryan\\AppData\\Local\\Temp/ipykernel_11256/144893144.py:362: RuntimeWarning: invalid value encountered in multiply\n",
      "  loss = (1/X.shape[0])*np.sum(-y*np.log(predictions)-(1-y)*np.log(1-predictions))\n"
     ]
    },
    {
     "name": "stdout",
     "output_type": "stream",
     "text": [
      "[INFO] epoch = 32, loss = nan, validation loss = nan training accuracy = 0.998, validation accuracy = 0.975\n"
     ]
    },
    {
     "name": "stderr",
     "output_type": "stream",
     "text": [
      "C:\\Users\\Ryan\\AppData\\Local\\Temp/ipykernel_11256/144893144.py:362: RuntimeWarning: divide by zero encountered in log\n",
      "  loss = (1/X.shape[0])*np.sum(-y*np.log(predictions)-(1-y)*np.log(1-predictions))\n",
      "C:\\Users\\Ryan\\AppData\\Local\\Temp/ipykernel_11256/144893144.py:362: RuntimeWarning: invalid value encountered in multiply\n",
      "  loss = (1/X.shape[0])*np.sum(-y*np.log(predictions)-(1-y)*np.log(1-predictions))\n"
     ]
    },
    {
     "name": "stdout",
     "output_type": "stream",
     "text": [
      "[INFO] epoch = 33, loss = nan, validation loss = nan training accuracy = 0.999, validation accuracy = 0.977\n"
     ]
    },
    {
     "name": "stderr",
     "output_type": "stream",
     "text": [
      "C:\\Users\\Ryan\\AppData\\Local\\Temp/ipykernel_11256/144893144.py:362: RuntimeWarning: divide by zero encountered in log\n",
      "  loss = (1/X.shape[0])*np.sum(-y*np.log(predictions)-(1-y)*np.log(1-predictions))\n",
      "C:\\Users\\Ryan\\AppData\\Local\\Temp/ipykernel_11256/144893144.py:362: RuntimeWarning: invalid value encountered in multiply\n",
      "  loss = (1/X.shape[0])*np.sum(-y*np.log(predictions)-(1-y)*np.log(1-predictions))\n"
     ]
    },
    {
     "name": "stdout",
     "output_type": "stream",
     "text": [
      "[INFO] epoch = 34, loss = nan, validation loss = nan training accuracy = 0.999, validation accuracy = 0.976\n"
     ]
    },
    {
     "name": "stderr",
     "output_type": "stream",
     "text": [
      "C:\\Users\\Ryan\\AppData\\Local\\Temp/ipykernel_11256/144893144.py:362: RuntimeWarning: divide by zero encountered in log\n",
      "  loss = (1/X.shape[0])*np.sum(-y*np.log(predictions)-(1-y)*np.log(1-predictions))\n",
      "C:\\Users\\Ryan\\AppData\\Local\\Temp/ipykernel_11256/144893144.py:362: RuntimeWarning: invalid value encountered in multiply\n",
      "  loss = (1/X.shape[0])*np.sum(-y*np.log(predictions)-(1-y)*np.log(1-predictions))\n"
     ]
    },
    {
     "name": "stdout",
     "output_type": "stream",
     "text": [
      "[INFO] epoch = 35, loss = nan, validation loss = nan training accuracy = 0.999, validation accuracy = 0.977\n"
     ]
    },
    {
     "name": "stderr",
     "output_type": "stream",
     "text": [
      "C:\\Users\\Ryan\\AppData\\Local\\Temp/ipykernel_11256/144893144.py:362: RuntimeWarning: divide by zero encountered in log\n",
      "  loss = (1/X.shape[0])*np.sum(-y*np.log(predictions)-(1-y)*np.log(1-predictions))\n",
      "C:\\Users\\Ryan\\AppData\\Local\\Temp/ipykernel_11256/144893144.py:362: RuntimeWarning: invalid value encountered in multiply\n",
      "  loss = (1/X.shape[0])*np.sum(-y*np.log(predictions)-(1-y)*np.log(1-predictions))\n"
     ]
    },
    {
     "name": "stdout",
     "output_type": "stream",
     "text": [
      "[INFO] epoch = 36, loss = nan, validation loss = nan training accuracy = 1.000, validation accuracy = 0.976\n"
     ]
    },
    {
     "name": "stderr",
     "output_type": "stream",
     "text": [
      "C:\\Users\\Ryan\\AppData\\Local\\Temp/ipykernel_11256/144893144.py:362: RuntimeWarning: divide by zero encountered in log\n",
      "  loss = (1/X.shape[0])*np.sum(-y*np.log(predictions)-(1-y)*np.log(1-predictions))\n",
      "C:\\Users\\Ryan\\AppData\\Local\\Temp/ipykernel_11256/144893144.py:362: RuntimeWarning: invalid value encountered in multiply\n",
      "  loss = (1/X.shape[0])*np.sum(-y*np.log(predictions)-(1-y)*np.log(1-predictions))\n"
     ]
    },
    {
     "name": "stdout",
     "output_type": "stream",
     "text": [
      "[INFO] epoch = 37, loss = nan, validation loss = nan training accuracy = 0.999, validation accuracy = 0.977\n"
     ]
    },
    {
     "name": "stderr",
     "output_type": "stream",
     "text": [
      "C:\\Users\\Ryan\\AppData\\Local\\Temp/ipykernel_11256/144893144.py:362: RuntimeWarning: divide by zero encountered in log\n",
      "  loss = (1/X.shape[0])*np.sum(-y*np.log(predictions)-(1-y)*np.log(1-predictions))\n",
      "C:\\Users\\Ryan\\AppData\\Local\\Temp/ipykernel_11256/144893144.py:362: RuntimeWarning: invalid value encountered in multiply\n",
      "  loss = (1/X.shape[0])*np.sum(-y*np.log(predictions)-(1-y)*np.log(1-predictions))\n"
     ]
    },
    {
     "name": "stdout",
     "output_type": "stream",
     "text": [
      "[INFO] epoch = 38, loss = nan, validation loss = nan training accuracy = 1.000, validation accuracy = 0.977\n"
     ]
    },
    {
     "name": "stderr",
     "output_type": "stream",
     "text": [
      "C:\\Users\\Ryan\\AppData\\Local\\Temp/ipykernel_11256/144893144.py:362: RuntimeWarning: divide by zero encountered in log\n",
      "  loss = (1/X.shape[0])*np.sum(-y*np.log(predictions)-(1-y)*np.log(1-predictions))\n",
      "C:\\Users\\Ryan\\AppData\\Local\\Temp/ipykernel_11256/144893144.py:362: RuntimeWarning: invalid value encountered in multiply\n",
      "  loss = (1/X.shape[0])*np.sum(-y*np.log(predictions)-(1-y)*np.log(1-predictions))\n"
     ]
    },
    {
     "name": "stdout",
     "output_type": "stream",
     "text": [
      "[INFO] epoch = 39, loss = nan, validation loss = nan training accuracy = 1.000, validation accuracy = 0.977\n"
     ]
    },
    {
     "name": "stderr",
     "output_type": "stream",
     "text": [
      "C:\\Users\\Ryan\\AppData\\Local\\Temp/ipykernel_11256/144893144.py:362: RuntimeWarning: divide by zero encountered in log\n",
      "  loss = (1/X.shape[0])*np.sum(-y*np.log(predictions)-(1-y)*np.log(1-predictions))\n",
      "C:\\Users\\Ryan\\AppData\\Local\\Temp/ipykernel_11256/144893144.py:362: RuntimeWarning: invalid value encountered in multiply\n",
      "  loss = (1/X.shape[0])*np.sum(-y*np.log(predictions)-(1-y)*np.log(1-predictions))\n"
     ]
    },
    {
     "name": "stdout",
     "output_type": "stream",
     "text": [
      "[INFO] epoch = 40, loss = nan, validation loss = nan training accuracy = 1.000, validation accuracy = 0.978\n"
     ]
    },
    {
     "name": "stderr",
     "output_type": "stream",
     "text": [
      "C:\\Users\\Ryan\\AppData\\Local\\Temp/ipykernel_11256/144893144.py:362: RuntimeWarning: divide by zero encountered in log\n",
      "  loss = (1/X.shape[0])*np.sum(-y*np.log(predictions)-(1-y)*np.log(1-predictions))\n",
      "C:\\Users\\Ryan\\AppData\\Local\\Temp/ipykernel_11256/144893144.py:362: RuntimeWarning: invalid value encountered in multiply\n",
      "  loss = (1/X.shape[0])*np.sum(-y*np.log(predictions)-(1-y)*np.log(1-predictions))\n"
     ]
    },
    {
     "name": "stdout",
     "output_type": "stream",
     "text": [
      "[INFO] epoch = 41, loss = nan, validation loss = nan training accuracy = 1.000, validation accuracy = 0.976\n"
     ]
    },
    {
     "name": "stderr",
     "output_type": "stream",
     "text": [
      "C:\\Users\\Ryan\\AppData\\Local\\Temp/ipykernel_11256/144893144.py:362: RuntimeWarning: divide by zero encountered in log\n",
      "  loss = (1/X.shape[0])*np.sum(-y*np.log(predictions)-(1-y)*np.log(1-predictions))\n",
      "C:\\Users\\Ryan\\AppData\\Local\\Temp/ipykernel_11256/144893144.py:362: RuntimeWarning: invalid value encountered in multiply\n",
      "  loss = (1/X.shape[0])*np.sum(-y*np.log(predictions)-(1-y)*np.log(1-predictions))\n"
     ]
    },
    {
     "name": "stdout",
     "output_type": "stream",
     "text": [
      "[INFO] epoch = 42, loss = nan, validation loss = nan training accuracy = 1.000, validation accuracy = 0.977\n"
     ]
    },
    {
     "name": "stderr",
     "output_type": "stream",
     "text": [
      "C:\\Users\\Ryan\\AppData\\Local\\Temp/ipykernel_11256/144893144.py:362: RuntimeWarning: divide by zero encountered in log\n",
      "  loss = (1/X.shape[0])*np.sum(-y*np.log(predictions)-(1-y)*np.log(1-predictions))\n",
      "C:\\Users\\Ryan\\AppData\\Local\\Temp/ipykernel_11256/144893144.py:362: RuntimeWarning: invalid value encountered in multiply\n",
      "  loss = (1/X.shape[0])*np.sum(-y*np.log(predictions)-(1-y)*np.log(1-predictions))\n"
     ]
    },
    {
     "name": "stdout",
     "output_type": "stream",
     "text": [
      "[INFO] epoch = 43, loss = nan, validation loss = nan training accuracy = 1.000, validation accuracy = 0.977\n"
     ]
    },
    {
     "name": "stderr",
     "output_type": "stream",
     "text": [
      "C:\\Users\\Ryan\\AppData\\Local\\Temp/ipykernel_11256/144893144.py:362: RuntimeWarning: divide by zero encountered in log\n",
      "  loss = (1/X.shape[0])*np.sum(-y*np.log(predictions)-(1-y)*np.log(1-predictions))\n",
      "C:\\Users\\Ryan\\AppData\\Local\\Temp/ipykernel_11256/144893144.py:362: RuntimeWarning: invalid value encountered in multiply\n",
      "  loss = (1/X.shape[0])*np.sum(-y*np.log(predictions)-(1-y)*np.log(1-predictions))\n"
     ]
    },
    {
     "name": "stdout",
     "output_type": "stream",
     "text": [
      "[INFO] epoch = 44, loss = nan, validation loss = nan training accuracy = 1.000, validation accuracy = 0.976\n"
     ]
    },
    {
     "name": "stderr",
     "output_type": "stream",
     "text": [
      "C:\\Users\\Ryan\\AppData\\Local\\Temp/ipykernel_11256/144893144.py:362: RuntimeWarning: divide by zero encountered in log\n",
      "  loss = (1/X.shape[0])*np.sum(-y*np.log(predictions)-(1-y)*np.log(1-predictions))\n",
      "C:\\Users\\Ryan\\AppData\\Local\\Temp/ipykernel_11256/144893144.py:362: RuntimeWarning: invalid value encountered in multiply\n",
      "  loss = (1/X.shape[0])*np.sum(-y*np.log(predictions)-(1-y)*np.log(1-predictions))\n"
     ]
    },
    {
     "name": "stdout",
     "output_type": "stream",
     "text": [
      "[INFO] epoch = 45, loss = nan, validation loss = nan training accuracy = 1.000, validation accuracy = 0.977\n"
     ]
    },
    {
     "name": "stderr",
     "output_type": "stream",
     "text": [
      "C:\\Users\\Ryan\\AppData\\Local\\Temp/ipykernel_11256/144893144.py:362: RuntimeWarning: divide by zero encountered in log\n",
      "  loss = (1/X.shape[0])*np.sum(-y*np.log(predictions)-(1-y)*np.log(1-predictions))\n",
      "C:\\Users\\Ryan\\AppData\\Local\\Temp/ipykernel_11256/144893144.py:362: RuntimeWarning: invalid value encountered in multiply\n",
      "  loss = (1/X.shape[0])*np.sum(-y*np.log(predictions)-(1-y)*np.log(1-predictions))\n"
     ]
    },
    {
     "name": "stdout",
     "output_type": "stream",
     "text": [
      "[INFO] epoch = 46, loss = nan, validation loss = nan training accuracy = 1.000, validation accuracy = 0.977\n"
     ]
    },
    {
     "name": "stderr",
     "output_type": "stream",
     "text": [
      "C:\\Users\\Ryan\\AppData\\Local\\Temp/ipykernel_11256/144893144.py:362: RuntimeWarning: divide by zero encountered in log\n",
      "  loss = (1/X.shape[0])*np.sum(-y*np.log(predictions)-(1-y)*np.log(1-predictions))\n",
      "C:\\Users\\Ryan\\AppData\\Local\\Temp/ipykernel_11256/144893144.py:362: RuntimeWarning: invalid value encountered in multiply\n",
      "  loss = (1/X.shape[0])*np.sum(-y*np.log(predictions)-(1-y)*np.log(1-predictions))\n"
     ]
    },
    {
     "name": "stdout",
     "output_type": "stream",
     "text": [
      "[INFO] epoch = 47, loss = nan, validation loss = nan training accuracy = 1.000, validation accuracy = 0.977\n"
     ]
    },
    {
     "name": "stderr",
     "output_type": "stream",
     "text": [
      "C:\\Users\\Ryan\\AppData\\Local\\Temp/ipykernel_11256/144893144.py:362: RuntimeWarning: divide by zero encountered in log\n",
      "  loss = (1/X.shape[0])*np.sum(-y*np.log(predictions)-(1-y)*np.log(1-predictions))\n",
      "C:\\Users\\Ryan\\AppData\\Local\\Temp/ipykernel_11256/144893144.py:362: RuntimeWarning: invalid value encountered in multiply\n",
      "  loss = (1/X.shape[0])*np.sum(-y*np.log(predictions)-(1-y)*np.log(1-predictions))\n"
     ]
    },
    {
     "name": "stdout",
     "output_type": "stream",
     "text": [
      "[INFO] epoch = 48, loss = nan, validation loss = nan training accuracy = 1.000, validation accuracy = 0.977\n"
     ]
    },
    {
     "name": "stderr",
     "output_type": "stream",
     "text": [
      "C:\\Users\\Ryan\\AppData\\Local\\Temp/ipykernel_11256/144893144.py:362: RuntimeWarning: divide by zero encountered in log\n",
      "  loss = (1/X.shape[0])*np.sum(-y*np.log(predictions)-(1-y)*np.log(1-predictions))\n",
      "C:\\Users\\Ryan\\AppData\\Local\\Temp/ipykernel_11256/144893144.py:362: RuntimeWarning: invalid value encountered in multiply\n",
      "  loss = (1/X.shape[0])*np.sum(-y*np.log(predictions)-(1-y)*np.log(1-predictions))\n"
     ]
    },
    {
     "name": "stdout",
     "output_type": "stream",
     "text": [
      "[INFO] epoch = 49, loss = nan, validation loss = nan training accuracy = 1.000, validation accuracy = 0.978\n"
     ]
    },
    {
     "name": "stderr",
     "output_type": "stream",
     "text": [
      "C:\\Users\\Ryan\\AppData\\Local\\Temp/ipykernel_11256/144893144.py:362: RuntimeWarning: divide by zero encountered in log\n",
      "  loss = (1/X.shape[0])*np.sum(-y*np.log(predictions)-(1-y)*np.log(1-predictions))\n",
      "C:\\Users\\Ryan\\AppData\\Local\\Temp/ipykernel_11256/144893144.py:362: RuntimeWarning: invalid value encountered in multiply\n",
      "  loss = (1/X.shape[0])*np.sum(-y*np.log(predictions)-(1-y)*np.log(1-predictions))\n"
     ]
    },
    {
     "name": "stdout",
     "output_type": "stream",
     "text": [
      "[INFO] epoch = 50, loss = nan, validation loss = nan training accuracy = 1.000, validation accuracy = 0.976\n"
     ]
    },
    {
     "name": "stderr",
     "output_type": "stream",
     "text": [
      "C:\\Users\\Ryan\\AppData\\Local\\Temp/ipykernel_11256/144893144.py:362: RuntimeWarning: divide by zero encountered in log\n",
      "  loss = (1/X.shape[0])*np.sum(-y*np.log(predictions)-(1-y)*np.log(1-predictions))\n",
      "C:\\Users\\Ryan\\AppData\\Local\\Temp/ipykernel_11256/144893144.py:362: RuntimeWarning: invalid value encountered in multiply\n",
      "  loss = (1/X.shape[0])*np.sum(-y*np.log(predictions)-(1-y)*np.log(1-predictions))\n"
     ]
    },
    {
     "name": "stdout",
     "output_type": "stream",
     "text": [
      "[INFO] epoch = 51, loss = nan, validation loss = nan training accuracy = 1.000, validation accuracy = 0.977\n"
     ]
    },
    {
     "name": "stderr",
     "output_type": "stream",
     "text": [
      "C:\\Users\\Ryan\\AppData\\Local\\Temp/ipykernel_11256/144893144.py:362: RuntimeWarning: divide by zero encountered in log\n",
      "  loss = (1/X.shape[0])*np.sum(-y*np.log(predictions)-(1-y)*np.log(1-predictions))\n",
      "C:\\Users\\Ryan\\AppData\\Local\\Temp/ipykernel_11256/144893144.py:362: RuntimeWarning: invalid value encountered in multiply\n",
      "  loss = (1/X.shape[0])*np.sum(-y*np.log(predictions)-(1-y)*np.log(1-predictions))\n"
     ]
    },
    {
     "name": "stdout",
     "output_type": "stream",
     "text": [
      "[INFO] epoch = 52, loss = nan, validation loss = nan training accuracy = 1.000, validation accuracy = 0.977\n"
     ]
    },
    {
     "name": "stderr",
     "output_type": "stream",
     "text": [
      "C:\\Users\\Ryan\\AppData\\Local\\Temp/ipykernel_11256/144893144.py:362: RuntimeWarning: divide by zero encountered in log\n",
      "  loss = (1/X.shape[0])*np.sum(-y*np.log(predictions)-(1-y)*np.log(1-predictions))\n",
      "C:\\Users\\Ryan\\AppData\\Local\\Temp/ipykernel_11256/144893144.py:362: RuntimeWarning: invalid value encountered in multiply\n",
      "  loss = (1/X.shape[0])*np.sum(-y*np.log(predictions)-(1-y)*np.log(1-predictions))\n"
     ]
    },
    {
     "name": "stdout",
     "output_type": "stream",
     "text": [
      "[INFO] epoch = 53, loss = nan, validation loss = nan training accuracy = 1.000, validation accuracy = 0.977\n"
     ]
    },
    {
     "name": "stderr",
     "output_type": "stream",
     "text": [
      "C:\\Users\\Ryan\\AppData\\Local\\Temp/ipykernel_11256/144893144.py:362: RuntimeWarning: divide by zero encountered in log\n",
      "  loss = (1/X.shape[0])*np.sum(-y*np.log(predictions)-(1-y)*np.log(1-predictions))\n",
      "C:\\Users\\Ryan\\AppData\\Local\\Temp/ipykernel_11256/144893144.py:362: RuntimeWarning: invalid value encountered in multiply\n",
      "  loss = (1/X.shape[0])*np.sum(-y*np.log(predictions)-(1-y)*np.log(1-predictions))\n"
     ]
    },
    {
     "name": "stdout",
     "output_type": "stream",
     "text": [
      "[INFO] epoch = 54, loss = nan, validation loss = nan training accuracy = 1.000, validation accuracy = 0.977\n"
     ]
    },
    {
     "name": "stderr",
     "output_type": "stream",
     "text": [
      "C:\\Users\\Ryan\\AppData\\Local\\Temp/ipykernel_11256/144893144.py:362: RuntimeWarning: divide by zero encountered in log\n",
      "  loss = (1/X.shape[0])*np.sum(-y*np.log(predictions)-(1-y)*np.log(1-predictions))\n",
      "C:\\Users\\Ryan\\AppData\\Local\\Temp/ipykernel_11256/144893144.py:362: RuntimeWarning: invalid value encountered in multiply\n",
      "  loss = (1/X.shape[0])*np.sum(-y*np.log(predictions)-(1-y)*np.log(1-predictions))\n"
     ]
    },
    {
     "name": "stdout",
     "output_type": "stream",
     "text": [
      "[INFO] epoch = 55, loss = nan, validation loss = nan training accuracy = 1.000, validation accuracy = 0.977\n"
     ]
    },
    {
     "name": "stderr",
     "output_type": "stream",
     "text": [
      "C:\\Users\\Ryan\\AppData\\Local\\Temp/ipykernel_11256/144893144.py:362: RuntimeWarning: divide by zero encountered in log\n",
      "  loss = (1/X.shape[0])*np.sum(-y*np.log(predictions)-(1-y)*np.log(1-predictions))\n",
      "C:\\Users\\Ryan\\AppData\\Local\\Temp/ipykernel_11256/144893144.py:362: RuntimeWarning: invalid value encountered in multiply\n",
      "  loss = (1/X.shape[0])*np.sum(-y*np.log(predictions)-(1-y)*np.log(1-predictions))\n"
     ]
    },
    {
     "name": "stdout",
     "output_type": "stream",
     "text": [
      "[INFO] epoch = 56, loss = nan, validation loss = nan training accuracy = 1.000, validation accuracy = 0.978\n"
     ]
    },
    {
     "name": "stderr",
     "output_type": "stream",
     "text": [
      "C:\\Users\\Ryan\\AppData\\Local\\Temp/ipykernel_11256/144893144.py:362: RuntimeWarning: divide by zero encountered in log\n",
      "  loss = (1/X.shape[0])*np.sum(-y*np.log(predictions)-(1-y)*np.log(1-predictions))\n",
      "C:\\Users\\Ryan\\AppData\\Local\\Temp/ipykernel_11256/144893144.py:362: RuntimeWarning: invalid value encountered in multiply\n",
      "  loss = (1/X.shape[0])*np.sum(-y*np.log(predictions)-(1-y)*np.log(1-predictions))\n"
     ]
    },
    {
     "name": "stdout",
     "output_type": "stream",
     "text": [
      "[INFO] epoch = 57, loss = nan, validation loss = nan training accuracy = 1.000, validation accuracy = 0.976\n"
     ]
    },
    {
     "name": "stderr",
     "output_type": "stream",
     "text": [
      "C:\\Users\\Ryan\\AppData\\Local\\Temp/ipykernel_11256/144893144.py:362: RuntimeWarning: divide by zero encountered in log\n",
      "  loss = (1/X.shape[0])*np.sum(-y*np.log(predictions)-(1-y)*np.log(1-predictions))\n",
      "C:\\Users\\Ryan\\AppData\\Local\\Temp/ipykernel_11256/144893144.py:362: RuntimeWarning: invalid value encountered in multiply\n",
      "  loss = (1/X.shape[0])*np.sum(-y*np.log(predictions)-(1-y)*np.log(1-predictions))\n"
     ]
    },
    {
     "name": "stdout",
     "output_type": "stream",
     "text": [
      "[INFO] epoch = 58, loss = nan, validation loss = nan training accuracy = 1.000, validation accuracy = 0.977\n"
     ]
    },
    {
     "name": "stderr",
     "output_type": "stream",
     "text": [
      "C:\\Users\\Ryan\\AppData\\Local\\Temp/ipykernel_11256/144893144.py:362: RuntimeWarning: divide by zero encountered in log\n",
      "  loss = (1/X.shape[0])*np.sum(-y*np.log(predictions)-(1-y)*np.log(1-predictions))\n",
      "C:\\Users\\Ryan\\AppData\\Local\\Temp/ipykernel_11256/144893144.py:362: RuntimeWarning: invalid value encountered in multiply\n",
      "  loss = (1/X.shape[0])*np.sum(-y*np.log(predictions)-(1-y)*np.log(1-predictions))\n"
     ]
    },
    {
     "name": "stdout",
     "output_type": "stream",
     "text": [
      "[INFO] epoch = 59, loss = nan, validation loss = nan training accuracy = 1.000, validation accuracy = 0.977\n"
     ]
    },
    {
     "name": "stderr",
     "output_type": "stream",
     "text": [
      "C:\\Users\\Ryan\\AppData\\Local\\Temp/ipykernel_11256/144893144.py:362: RuntimeWarning: divide by zero encountered in log\n",
      "  loss = (1/X.shape[0])*np.sum(-y*np.log(predictions)-(1-y)*np.log(1-predictions))\n",
      "C:\\Users\\Ryan\\AppData\\Local\\Temp/ipykernel_11256/144893144.py:362: RuntimeWarning: invalid value encountered in multiply\n",
      "  loss = (1/X.shape[0])*np.sum(-y*np.log(predictions)-(1-y)*np.log(1-predictions))\n"
     ]
    },
    {
     "name": "stdout",
     "output_type": "stream",
     "text": [
      "[INFO] epoch = 60, loss = nan, validation loss = nan training accuracy = 1.000, validation accuracy = 0.977\n"
     ]
    },
    {
     "name": "stderr",
     "output_type": "stream",
     "text": [
      "C:\\Users\\Ryan\\AppData\\Local\\Temp/ipykernel_11256/144893144.py:362: RuntimeWarning: divide by zero encountered in log\n",
      "  loss = (1/X.shape[0])*np.sum(-y*np.log(predictions)-(1-y)*np.log(1-predictions))\n",
      "C:\\Users\\Ryan\\AppData\\Local\\Temp/ipykernel_11256/144893144.py:362: RuntimeWarning: invalid value encountered in multiply\n",
      "  loss = (1/X.shape[0])*np.sum(-y*np.log(predictions)-(1-y)*np.log(1-predictions))\n"
     ]
    },
    {
     "name": "stdout",
     "output_type": "stream",
     "text": [
      "[INFO] epoch = 61, loss = nan, validation loss = nan training accuracy = 1.000, validation accuracy = 0.978\n"
     ]
    },
    {
     "name": "stderr",
     "output_type": "stream",
     "text": [
      "C:\\Users\\Ryan\\AppData\\Local\\Temp/ipykernel_11256/144893144.py:362: RuntimeWarning: divide by zero encountered in log\n",
      "  loss = (1/X.shape[0])*np.sum(-y*np.log(predictions)-(1-y)*np.log(1-predictions))\n",
      "C:\\Users\\Ryan\\AppData\\Local\\Temp/ipykernel_11256/144893144.py:362: RuntimeWarning: invalid value encountered in multiply\n",
      "  loss = (1/X.shape[0])*np.sum(-y*np.log(predictions)-(1-y)*np.log(1-predictions))\n"
     ]
    },
    {
     "name": "stdout",
     "output_type": "stream",
     "text": [
      "[INFO] epoch = 62, loss = nan, validation loss = nan training accuracy = 1.000, validation accuracy = 0.977\n"
     ]
    },
    {
     "name": "stderr",
     "output_type": "stream",
     "text": [
      "C:\\Users\\Ryan\\AppData\\Local\\Temp/ipykernel_11256/144893144.py:362: RuntimeWarning: divide by zero encountered in log\n",
      "  loss = (1/X.shape[0])*np.sum(-y*np.log(predictions)-(1-y)*np.log(1-predictions))\n",
      "C:\\Users\\Ryan\\AppData\\Local\\Temp/ipykernel_11256/144893144.py:362: RuntimeWarning: invalid value encountered in multiply\n",
      "  loss = (1/X.shape[0])*np.sum(-y*np.log(predictions)-(1-y)*np.log(1-predictions))\n"
     ]
    },
    {
     "name": "stdout",
     "output_type": "stream",
     "text": [
      "[INFO] epoch = 63, loss = nan, validation loss = nan training accuracy = 1.000, validation accuracy = 0.977\n"
     ]
    },
    {
     "name": "stderr",
     "output_type": "stream",
     "text": [
      "C:\\Users\\Ryan\\AppData\\Local\\Temp/ipykernel_11256/144893144.py:362: RuntimeWarning: divide by zero encountered in log\n",
      "  loss = (1/X.shape[0])*np.sum(-y*np.log(predictions)-(1-y)*np.log(1-predictions))\n",
      "C:\\Users\\Ryan\\AppData\\Local\\Temp/ipykernel_11256/144893144.py:362: RuntimeWarning: invalid value encountered in multiply\n",
      "  loss = (1/X.shape[0])*np.sum(-y*np.log(predictions)-(1-y)*np.log(1-predictions))\n"
     ]
    },
    {
     "name": "stdout",
     "output_type": "stream",
     "text": [
      "[INFO] epoch = 64, loss = nan, validation loss = nan training accuracy = 1.000, validation accuracy = 0.977\n"
     ]
    },
    {
     "name": "stderr",
     "output_type": "stream",
     "text": [
      "C:\\Users\\Ryan\\AppData\\Local\\Temp/ipykernel_11256/144893144.py:362: RuntimeWarning: divide by zero encountered in log\n",
      "  loss = (1/X.shape[0])*np.sum(-y*np.log(predictions)-(1-y)*np.log(1-predictions))\n",
      "C:\\Users\\Ryan\\AppData\\Local\\Temp/ipykernel_11256/144893144.py:362: RuntimeWarning: invalid value encountered in multiply\n",
      "  loss = (1/X.shape[0])*np.sum(-y*np.log(predictions)-(1-y)*np.log(1-predictions))\n"
     ]
    },
    {
     "name": "stdout",
     "output_type": "stream",
     "text": [
      "[INFO] epoch = 65, loss = nan, validation loss = nan training accuracy = 1.000, validation accuracy = 0.977\n"
     ]
    },
    {
     "name": "stderr",
     "output_type": "stream",
     "text": [
      "C:\\Users\\Ryan\\AppData\\Local\\Temp/ipykernel_11256/144893144.py:362: RuntimeWarning: divide by zero encountered in log\n",
      "  loss = (1/X.shape[0])*np.sum(-y*np.log(predictions)-(1-y)*np.log(1-predictions))\n",
      "C:\\Users\\Ryan\\AppData\\Local\\Temp/ipykernel_11256/144893144.py:362: RuntimeWarning: invalid value encountered in multiply\n",
      "  loss = (1/X.shape[0])*np.sum(-y*np.log(predictions)-(1-y)*np.log(1-predictions))\n"
     ]
    },
    {
     "name": "stdout",
     "output_type": "stream",
     "text": [
      "[INFO] epoch = 66, loss = nan, validation loss = nan training accuracy = 1.000, validation accuracy = 0.977\n"
     ]
    },
    {
     "name": "stderr",
     "output_type": "stream",
     "text": [
      "C:\\Users\\Ryan\\AppData\\Local\\Temp/ipykernel_11256/144893144.py:362: RuntimeWarning: divide by zero encountered in log\n",
      "  loss = (1/X.shape[0])*np.sum(-y*np.log(predictions)-(1-y)*np.log(1-predictions))\n",
      "C:\\Users\\Ryan\\AppData\\Local\\Temp/ipykernel_11256/144893144.py:362: RuntimeWarning: invalid value encountered in multiply\n",
      "  loss = (1/X.shape[0])*np.sum(-y*np.log(predictions)-(1-y)*np.log(1-predictions))\n"
     ]
    },
    {
     "name": "stdout",
     "output_type": "stream",
     "text": [
      "[INFO] epoch = 67, loss = nan, validation loss = nan training accuracy = 1.000, validation accuracy = 0.977\n"
     ]
    },
    {
     "name": "stderr",
     "output_type": "stream",
     "text": [
      "C:\\Users\\Ryan\\AppData\\Local\\Temp/ipykernel_11256/144893144.py:362: RuntimeWarning: divide by zero encountered in log\n",
      "  loss = (1/X.shape[0])*np.sum(-y*np.log(predictions)-(1-y)*np.log(1-predictions))\n",
      "C:\\Users\\Ryan\\AppData\\Local\\Temp/ipykernel_11256/144893144.py:362: RuntimeWarning: invalid value encountered in multiply\n",
      "  loss = (1/X.shape[0])*np.sum(-y*np.log(predictions)-(1-y)*np.log(1-predictions))\n"
     ]
    },
    {
     "name": "stdout",
     "output_type": "stream",
     "text": [
      "[INFO] epoch = 68, loss = nan, validation loss = nan training accuracy = 1.000, validation accuracy = 0.978\n"
     ]
    },
    {
     "name": "stderr",
     "output_type": "stream",
     "text": [
      "C:\\Users\\Ryan\\AppData\\Local\\Temp/ipykernel_11256/144893144.py:362: RuntimeWarning: divide by zero encountered in log\n",
      "  loss = (1/X.shape[0])*np.sum(-y*np.log(predictions)-(1-y)*np.log(1-predictions))\n",
      "C:\\Users\\Ryan\\AppData\\Local\\Temp/ipykernel_11256/144893144.py:362: RuntimeWarning: invalid value encountered in multiply\n",
      "  loss = (1/X.shape[0])*np.sum(-y*np.log(predictions)-(1-y)*np.log(1-predictions))\n"
     ]
    },
    {
     "name": "stdout",
     "output_type": "stream",
     "text": [
      "[INFO] epoch = 69, loss = nan, validation loss = nan training accuracy = 1.000, validation accuracy = 0.978\n"
     ]
    },
    {
     "name": "stderr",
     "output_type": "stream",
     "text": [
      "C:\\Users\\Ryan\\AppData\\Local\\Temp/ipykernel_11256/144893144.py:362: RuntimeWarning: divide by zero encountered in log\n",
      "  loss = (1/X.shape[0])*np.sum(-y*np.log(predictions)-(1-y)*np.log(1-predictions))\n",
      "C:\\Users\\Ryan\\AppData\\Local\\Temp/ipykernel_11256/144893144.py:362: RuntimeWarning: invalid value encountered in multiply\n",
      "  loss = (1/X.shape[0])*np.sum(-y*np.log(predictions)-(1-y)*np.log(1-predictions))\n"
     ]
    },
    {
     "name": "stdout",
     "output_type": "stream",
     "text": [
      "[INFO] epoch = 70, loss = nan, validation loss = nan training accuracy = 1.000, validation accuracy = 0.977\n"
     ]
    },
    {
     "name": "stderr",
     "output_type": "stream",
     "text": [
      "C:\\Users\\Ryan\\AppData\\Local\\Temp/ipykernel_11256/144893144.py:362: RuntimeWarning: divide by zero encountered in log\n",
      "  loss = (1/X.shape[0])*np.sum(-y*np.log(predictions)-(1-y)*np.log(1-predictions))\n",
      "C:\\Users\\Ryan\\AppData\\Local\\Temp/ipykernel_11256/144893144.py:362: RuntimeWarning: invalid value encountered in multiply\n",
      "  loss = (1/X.shape[0])*np.sum(-y*np.log(predictions)-(1-y)*np.log(1-predictions))\n"
     ]
    },
    {
     "name": "stdout",
     "output_type": "stream",
     "text": [
      "[INFO] epoch = 71, loss = nan, validation loss = nan training accuracy = 1.000, validation accuracy = 0.977\n"
     ]
    },
    {
     "name": "stderr",
     "output_type": "stream",
     "text": [
      "C:\\Users\\Ryan\\AppData\\Local\\Temp/ipykernel_11256/144893144.py:362: RuntimeWarning: divide by zero encountered in log\n",
      "  loss = (1/X.shape[0])*np.sum(-y*np.log(predictions)-(1-y)*np.log(1-predictions))\n",
      "C:\\Users\\Ryan\\AppData\\Local\\Temp/ipykernel_11256/144893144.py:362: RuntimeWarning: invalid value encountered in multiply\n",
      "  loss = (1/X.shape[0])*np.sum(-y*np.log(predictions)-(1-y)*np.log(1-predictions))\n"
     ]
    },
    {
     "name": "stdout",
     "output_type": "stream",
     "text": [
      "[INFO] epoch = 72, loss = nan, validation loss = nan training accuracy = 1.000, validation accuracy = 0.978\n"
     ]
    },
    {
     "name": "stderr",
     "output_type": "stream",
     "text": [
      "C:\\Users\\Ryan\\AppData\\Local\\Temp/ipykernel_11256/144893144.py:362: RuntimeWarning: divide by zero encountered in log\n",
      "  loss = (1/X.shape[0])*np.sum(-y*np.log(predictions)-(1-y)*np.log(1-predictions))\n",
      "C:\\Users\\Ryan\\AppData\\Local\\Temp/ipykernel_11256/144893144.py:362: RuntimeWarning: invalid value encountered in multiply\n",
      "  loss = (1/X.shape[0])*np.sum(-y*np.log(predictions)-(1-y)*np.log(1-predictions))\n"
     ]
    },
    {
     "name": "stdout",
     "output_type": "stream",
     "text": [
      "[INFO] epoch = 73, loss = nan, validation loss = nan training accuracy = 1.000, validation accuracy = 0.978\n"
     ]
    },
    {
     "name": "stderr",
     "output_type": "stream",
     "text": [
      "C:\\Users\\Ryan\\AppData\\Local\\Temp/ipykernel_11256/144893144.py:362: RuntimeWarning: divide by zero encountered in log\n",
      "  loss = (1/X.shape[0])*np.sum(-y*np.log(predictions)-(1-y)*np.log(1-predictions))\n",
      "C:\\Users\\Ryan\\AppData\\Local\\Temp/ipykernel_11256/144893144.py:362: RuntimeWarning: invalid value encountered in multiply\n",
      "  loss = (1/X.shape[0])*np.sum(-y*np.log(predictions)-(1-y)*np.log(1-predictions))\n"
     ]
    },
    {
     "name": "stdout",
     "output_type": "stream",
     "text": [
      "[INFO] epoch = 74, loss = nan, validation loss = nan training accuracy = 1.000, validation accuracy = 0.977\n"
     ]
    },
    {
     "name": "stderr",
     "output_type": "stream",
     "text": [
      "C:\\Users\\Ryan\\AppData\\Local\\Temp/ipykernel_11256/144893144.py:362: RuntimeWarning: divide by zero encountered in log\n",
      "  loss = (1/X.shape[0])*np.sum(-y*np.log(predictions)-(1-y)*np.log(1-predictions))\n",
      "C:\\Users\\Ryan\\AppData\\Local\\Temp/ipykernel_11256/144893144.py:362: RuntimeWarning: invalid value encountered in multiply\n",
      "  loss = (1/X.shape[0])*np.sum(-y*np.log(predictions)-(1-y)*np.log(1-predictions))\n"
     ]
    },
    {
     "name": "stdout",
     "output_type": "stream",
     "text": [
      "[INFO] epoch = 75, loss = nan, validation loss = nan training accuracy = 1.000, validation accuracy = 0.977\n"
     ]
    },
    {
     "name": "stderr",
     "output_type": "stream",
     "text": [
      "C:\\Users\\Ryan\\AppData\\Local\\Temp/ipykernel_11256/144893144.py:362: RuntimeWarning: divide by zero encountered in log\n",
      "  loss = (1/X.shape[0])*np.sum(-y*np.log(predictions)-(1-y)*np.log(1-predictions))\n",
      "C:\\Users\\Ryan\\AppData\\Local\\Temp/ipykernel_11256/144893144.py:362: RuntimeWarning: invalid value encountered in multiply\n",
      "  loss = (1/X.shape[0])*np.sum(-y*np.log(predictions)-(1-y)*np.log(1-predictions))\n"
     ]
    },
    {
     "name": "stdout",
     "output_type": "stream",
     "text": [
      "[INFO] epoch = 76, loss = nan, validation loss = nan training accuracy = 1.000, validation accuracy = 0.978\n"
     ]
    },
    {
     "name": "stderr",
     "output_type": "stream",
     "text": [
      "C:\\Users\\Ryan\\AppData\\Local\\Temp/ipykernel_11256/144893144.py:362: RuntimeWarning: divide by zero encountered in log\n",
      "  loss = (1/X.shape[0])*np.sum(-y*np.log(predictions)-(1-y)*np.log(1-predictions))\n",
      "C:\\Users\\Ryan\\AppData\\Local\\Temp/ipykernel_11256/144893144.py:362: RuntimeWarning: invalid value encountered in multiply\n",
      "  loss = (1/X.shape[0])*np.sum(-y*np.log(predictions)-(1-y)*np.log(1-predictions))\n"
     ]
    },
    {
     "name": "stdout",
     "output_type": "stream",
     "text": [
      "[INFO] epoch = 77, loss = nan, validation loss = nan training accuracy = 1.000, validation accuracy = 0.977\n"
     ]
    },
    {
     "name": "stderr",
     "output_type": "stream",
     "text": [
      "C:\\Users\\Ryan\\AppData\\Local\\Temp/ipykernel_11256/144893144.py:362: RuntimeWarning: divide by zero encountered in log\n",
      "  loss = (1/X.shape[0])*np.sum(-y*np.log(predictions)-(1-y)*np.log(1-predictions))\n",
      "C:\\Users\\Ryan\\AppData\\Local\\Temp/ipykernel_11256/144893144.py:362: RuntimeWarning: invalid value encountered in multiply\n",
      "  loss = (1/X.shape[0])*np.sum(-y*np.log(predictions)-(1-y)*np.log(1-predictions))\n"
     ]
    },
    {
     "name": "stdout",
     "output_type": "stream",
     "text": [
      "[INFO] epoch = 78, loss = nan, validation loss = nan training accuracy = 1.000, validation accuracy = 0.978\n"
     ]
    },
    {
     "name": "stderr",
     "output_type": "stream",
     "text": [
      "C:\\Users\\Ryan\\AppData\\Local\\Temp/ipykernel_11256/144893144.py:362: RuntimeWarning: divide by zero encountered in log\n",
      "  loss = (1/X.shape[0])*np.sum(-y*np.log(predictions)-(1-y)*np.log(1-predictions))\n",
      "C:\\Users\\Ryan\\AppData\\Local\\Temp/ipykernel_11256/144893144.py:362: RuntimeWarning: invalid value encountered in multiply\n",
      "  loss = (1/X.shape[0])*np.sum(-y*np.log(predictions)-(1-y)*np.log(1-predictions))\n"
     ]
    },
    {
     "name": "stdout",
     "output_type": "stream",
     "text": [
      "[INFO] epoch = 79, loss = nan, validation loss = nan training accuracy = 1.000, validation accuracy = 0.977\n"
     ]
    },
    {
     "name": "stderr",
     "output_type": "stream",
     "text": [
      "C:\\Users\\Ryan\\AppData\\Local\\Temp/ipykernel_11256/144893144.py:362: RuntimeWarning: divide by zero encountered in log\n",
      "  loss = (1/X.shape[0])*np.sum(-y*np.log(predictions)-(1-y)*np.log(1-predictions))\n",
      "C:\\Users\\Ryan\\AppData\\Local\\Temp/ipykernel_11256/144893144.py:362: RuntimeWarning: invalid value encountered in multiply\n",
      "  loss = (1/X.shape[0])*np.sum(-y*np.log(predictions)-(1-y)*np.log(1-predictions))\n"
     ]
    },
    {
     "name": "stdout",
     "output_type": "stream",
     "text": [
      "[INFO] epoch = 80, loss = nan, validation loss = nan training accuracy = 1.000, validation accuracy = 0.977\n"
     ]
    },
    {
     "name": "stderr",
     "output_type": "stream",
     "text": [
      "C:\\Users\\Ryan\\AppData\\Local\\Temp/ipykernel_11256/144893144.py:362: RuntimeWarning: divide by zero encountered in log\n",
      "  loss = (1/X.shape[0])*np.sum(-y*np.log(predictions)-(1-y)*np.log(1-predictions))\n",
      "C:\\Users\\Ryan\\AppData\\Local\\Temp/ipykernel_11256/144893144.py:362: RuntimeWarning: invalid value encountered in multiply\n",
      "  loss = (1/X.shape[0])*np.sum(-y*np.log(predictions)-(1-y)*np.log(1-predictions))\n"
     ]
    },
    {
     "name": "stdout",
     "output_type": "stream",
     "text": [
      "[INFO] epoch = 81, loss = nan, validation loss = nan training accuracy = 1.000, validation accuracy = 0.978\n"
     ]
    },
    {
     "name": "stderr",
     "output_type": "stream",
     "text": [
      "C:\\Users\\Ryan\\AppData\\Local\\Temp/ipykernel_11256/144893144.py:362: RuntimeWarning: divide by zero encountered in log\n",
      "  loss = (1/X.shape[0])*np.sum(-y*np.log(predictions)-(1-y)*np.log(1-predictions))\n",
      "C:\\Users\\Ryan\\AppData\\Local\\Temp/ipykernel_11256/144893144.py:362: RuntimeWarning: invalid value encountered in multiply\n",
      "  loss = (1/X.shape[0])*np.sum(-y*np.log(predictions)-(1-y)*np.log(1-predictions))\n"
     ]
    },
    {
     "name": "stdout",
     "output_type": "stream",
     "text": [
      "[INFO] epoch = 82, loss = nan, validation loss = nan training accuracy = 1.000, validation accuracy = 0.978\n"
     ]
    },
    {
     "name": "stderr",
     "output_type": "stream",
     "text": [
      "C:\\Users\\Ryan\\AppData\\Local\\Temp/ipykernel_11256/144893144.py:362: RuntimeWarning: divide by zero encountered in log\n",
      "  loss = (1/X.shape[0])*np.sum(-y*np.log(predictions)-(1-y)*np.log(1-predictions))\n",
      "C:\\Users\\Ryan\\AppData\\Local\\Temp/ipykernel_11256/144893144.py:362: RuntimeWarning: invalid value encountered in multiply\n",
      "  loss = (1/X.shape[0])*np.sum(-y*np.log(predictions)-(1-y)*np.log(1-predictions))\n"
     ]
    },
    {
     "name": "stdout",
     "output_type": "stream",
     "text": [
      "[INFO] epoch = 83, loss = nan, validation loss = nan training accuracy = 1.000, validation accuracy = 0.978\n"
     ]
    },
    {
     "name": "stderr",
     "output_type": "stream",
     "text": [
      "C:\\Users\\Ryan\\AppData\\Local\\Temp/ipykernel_11256/144893144.py:362: RuntimeWarning: divide by zero encountered in log\n",
      "  loss = (1/X.shape[0])*np.sum(-y*np.log(predictions)-(1-y)*np.log(1-predictions))\n",
      "C:\\Users\\Ryan\\AppData\\Local\\Temp/ipykernel_11256/144893144.py:362: RuntimeWarning: invalid value encountered in multiply\n",
      "  loss = (1/X.shape[0])*np.sum(-y*np.log(predictions)-(1-y)*np.log(1-predictions))\n"
     ]
    },
    {
     "name": "stdout",
     "output_type": "stream",
     "text": [
      "[INFO] epoch = 84, loss = nan, validation loss = nan training accuracy = 1.000, validation accuracy = 0.977\n"
     ]
    },
    {
     "name": "stderr",
     "output_type": "stream",
     "text": [
      "C:\\Users\\Ryan\\AppData\\Local\\Temp/ipykernel_11256/144893144.py:362: RuntimeWarning: divide by zero encountered in log\n",
      "  loss = (1/X.shape[0])*np.sum(-y*np.log(predictions)-(1-y)*np.log(1-predictions))\n",
      "C:\\Users\\Ryan\\AppData\\Local\\Temp/ipykernel_11256/144893144.py:362: RuntimeWarning: invalid value encountered in multiply\n",
      "  loss = (1/X.shape[0])*np.sum(-y*np.log(predictions)-(1-y)*np.log(1-predictions))\n"
     ]
    },
    {
     "name": "stdout",
     "output_type": "stream",
     "text": [
      "[INFO] epoch = 85, loss = nan, validation loss = nan training accuracy = 1.000, validation accuracy = 0.978\n"
     ]
    },
    {
     "name": "stderr",
     "output_type": "stream",
     "text": [
      "C:\\Users\\Ryan\\AppData\\Local\\Temp/ipykernel_11256/144893144.py:362: RuntimeWarning: divide by zero encountered in log\n",
      "  loss = (1/X.shape[0])*np.sum(-y*np.log(predictions)-(1-y)*np.log(1-predictions))\n",
      "C:\\Users\\Ryan\\AppData\\Local\\Temp/ipykernel_11256/144893144.py:362: RuntimeWarning: invalid value encountered in multiply\n",
      "  loss = (1/X.shape[0])*np.sum(-y*np.log(predictions)-(1-y)*np.log(1-predictions))\n"
     ]
    },
    {
     "name": "stdout",
     "output_type": "stream",
     "text": [
      "[INFO] epoch = 86, loss = nan, validation loss = nan training accuracy = 1.000, validation accuracy = 0.978\n"
     ]
    },
    {
     "name": "stderr",
     "output_type": "stream",
     "text": [
      "C:\\Users\\Ryan\\AppData\\Local\\Temp/ipykernel_11256/144893144.py:362: RuntimeWarning: divide by zero encountered in log\n",
      "  loss = (1/X.shape[0])*np.sum(-y*np.log(predictions)-(1-y)*np.log(1-predictions))\n",
      "C:\\Users\\Ryan\\AppData\\Local\\Temp/ipykernel_11256/144893144.py:362: RuntimeWarning: invalid value encountered in multiply\n",
      "  loss = (1/X.shape[0])*np.sum(-y*np.log(predictions)-(1-y)*np.log(1-predictions))\n"
     ]
    },
    {
     "name": "stdout",
     "output_type": "stream",
     "text": [
      "[INFO] epoch = 87, loss = nan, validation loss = nan training accuracy = 1.000, validation accuracy = 0.977\n"
     ]
    },
    {
     "name": "stderr",
     "output_type": "stream",
     "text": [
      "C:\\Users\\Ryan\\AppData\\Local\\Temp/ipykernel_11256/144893144.py:362: RuntimeWarning: divide by zero encountered in log\n",
      "  loss = (1/X.shape[0])*np.sum(-y*np.log(predictions)-(1-y)*np.log(1-predictions))\n",
      "C:\\Users\\Ryan\\AppData\\Local\\Temp/ipykernel_11256/144893144.py:362: RuntimeWarning: invalid value encountered in multiply\n",
      "  loss = (1/X.shape[0])*np.sum(-y*np.log(predictions)-(1-y)*np.log(1-predictions))\n"
     ]
    },
    {
     "name": "stdout",
     "output_type": "stream",
     "text": [
      "[INFO] epoch = 88, loss = nan, validation loss = nan training accuracy = 1.000, validation accuracy = 0.977\n"
     ]
    },
    {
     "name": "stderr",
     "output_type": "stream",
     "text": [
      "C:\\Users\\Ryan\\AppData\\Local\\Temp/ipykernel_11256/144893144.py:362: RuntimeWarning: divide by zero encountered in log\n",
      "  loss = (1/X.shape[0])*np.sum(-y*np.log(predictions)-(1-y)*np.log(1-predictions))\n",
      "C:\\Users\\Ryan\\AppData\\Local\\Temp/ipykernel_11256/144893144.py:362: RuntimeWarning: invalid value encountered in multiply\n",
      "  loss = (1/X.shape[0])*np.sum(-y*np.log(predictions)-(1-y)*np.log(1-predictions))\n"
     ]
    },
    {
     "name": "stdout",
     "output_type": "stream",
     "text": [
      "[INFO] epoch = 89, loss = nan, validation loss = nan training accuracy = 1.000, validation accuracy = 0.977\n"
     ]
    },
    {
     "name": "stderr",
     "output_type": "stream",
     "text": [
      "C:\\Users\\Ryan\\AppData\\Local\\Temp/ipykernel_11256/144893144.py:362: RuntimeWarning: divide by zero encountered in log\n",
      "  loss = (1/X.shape[0])*np.sum(-y*np.log(predictions)-(1-y)*np.log(1-predictions))\n",
      "C:\\Users\\Ryan\\AppData\\Local\\Temp/ipykernel_11256/144893144.py:362: RuntimeWarning: invalid value encountered in multiply\n",
      "  loss = (1/X.shape[0])*np.sum(-y*np.log(predictions)-(1-y)*np.log(1-predictions))\n"
     ]
    },
    {
     "name": "stdout",
     "output_type": "stream",
     "text": [
      "[INFO] epoch = 90, loss = nan, validation loss = nan training accuracy = 1.000, validation accuracy = 0.978\n"
     ]
    },
    {
     "name": "stderr",
     "output_type": "stream",
     "text": [
      "C:\\Users\\Ryan\\AppData\\Local\\Temp/ipykernel_11256/144893144.py:362: RuntimeWarning: divide by zero encountered in log\n",
      "  loss = (1/X.shape[0])*np.sum(-y*np.log(predictions)-(1-y)*np.log(1-predictions))\n",
      "C:\\Users\\Ryan\\AppData\\Local\\Temp/ipykernel_11256/144893144.py:362: RuntimeWarning: invalid value encountered in multiply\n",
      "  loss = (1/X.shape[0])*np.sum(-y*np.log(predictions)-(1-y)*np.log(1-predictions))\n"
     ]
    },
    {
     "name": "stdout",
     "output_type": "stream",
     "text": [
      "[INFO] epoch = 91, loss = nan, validation loss = nan training accuracy = 1.000, validation accuracy = 0.977\n"
     ]
    },
    {
     "name": "stderr",
     "output_type": "stream",
     "text": [
      "C:\\Users\\Ryan\\AppData\\Local\\Temp/ipykernel_11256/144893144.py:362: RuntimeWarning: divide by zero encountered in log\n",
      "  loss = (1/X.shape[0])*np.sum(-y*np.log(predictions)-(1-y)*np.log(1-predictions))\n",
      "C:\\Users\\Ryan\\AppData\\Local\\Temp/ipykernel_11256/144893144.py:362: RuntimeWarning: invalid value encountered in multiply\n",
      "  loss = (1/X.shape[0])*np.sum(-y*np.log(predictions)-(1-y)*np.log(1-predictions))\n"
     ]
    },
    {
     "name": "stdout",
     "output_type": "stream",
     "text": [
      "[INFO] epoch = 92, loss = nan, validation loss = nan training accuracy = 1.000, validation accuracy = 0.978\n"
     ]
    },
    {
     "name": "stderr",
     "output_type": "stream",
     "text": [
      "C:\\Users\\Ryan\\AppData\\Local\\Temp/ipykernel_11256/144893144.py:362: RuntimeWarning: divide by zero encountered in log\n",
      "  loss = (1/X.shape[0])*np.sum(-y*np.log(predictions)-(1-y)*np.log(1-predictions))\n",
      "C:\\Users\\Ryan\\AppData\\Local\\Temp/ipykernel_11256/144893144.py:362: RuntimeWarning: invalid value encountered in multiply\n",
      "  loss = (1/X.shape[0])*np.sum(-y*np.log(predictions)-(1-y)*np.log(1-predictions))\n"
     ]
    },
    {
     "name": "stdout",
     "output_type": "stream",
     "text": [
      "[INFO] epoch = 93, loss = nan, validation loss = nan training accuracy = 1.000, validation accuracy = 0.978\n"
     ]
    },
    {
     "name": "stderr",
     "output_type": "stream",
     "text": [
      "C:\\Users\\Ryan\\AppData\\Local\\Temp/ipykernel_11256/144893144.py:362: RuntimeWarning: divide by zero encountered in log\n",
      "  loss = (1/X.shape[0])*np.sum(-y*np.log(predictions)-(1-y)*np.log(1-predictions))\n",
      "C:\\Users\\Ryan\\AppData\\Local\\Temp/ipykernel_11256/144893144.py:362: RuntimeWarning: invalid value encountered in multiply\n",
      "  loss = (1/X.shape[0])*np.sum(-y*np.log(predictions)-(1-y)*np.log(1-predictions))\n"
     ]
    },
    {
     "name": "stdout",
     "output_type": "stream",
     "text": [
      "[INFO] epoch = 94, loss = nan, validation loss = nan training accuracy = 1.000, validation accuracy = 0.978\n"
     ]
    },
    {
     "name": "stderr",
     "output_type": "stream",
     "text": [
      "C:\\Users\\Ryan\\AppData\\Local\\Temp/ipykernel_11256/144893144.py:362: RuntimeWarning: divide by zero encountered in log\n",
      "  loss = (1/X.shape[0])*np.sum(-y*np.log(predictions)-(1-y)*np.log(1-predictions))\n",
      "C:\\Users\\Ryan\\AppData\\Local\\Temp/ipykernel_11256/144893144.py:362: RuntimeWarning: invalid value encountered in multiply\n",
      "  loss = (1/X.shape[0])*np.sum(-y*np.log(predictions)-(1-y)*np.log(1-predictions))\n"
     ]
    },
    {
     "name": "stdout",
     "output_type": "stream",
     "text": [
      "[INFO] epoch = 95, loss = nan, validation loss = nan training accuracy = 1.000, validation accuracy = 0.977\n"
     ]
    },
    {
     "name": "stderr",
     "output_type": "stream",
     "text": [
      "C:\\Users\\Ryan\\AppData\\Local\\Temp/ipykernel_11256/144893144.py:362: RuntimeWarning: divide by zero encountered in log\n",
      "  loss = (1/X.shape[0])*np.sum(-y*np.log(predictions)-(1-y)*np.log(1-predictions))\n",
      "C:\\Users\\Ryan\\AppData\\Local\\Temp/ipykernel_11256/144893144.py:362: RuntimeWarning: invalid value encountered in multiply\n",
      "  loss = (1/X.shape[0])*np.sum(-y*np.log(predictions)-(1-y)*np.log(1-predictions))\n"
     ]
    },
    {
     "name": "stdout",
     "output_type": "stream",
     "text": [
      "[INFO] epoch = 96, loss = nan, validation loss = nan training accuracy = 1.000, validation accuracy = 0.978\n"
     ]
    },
    {
     "name": "stderr",
     "output_type": "stream",
     "text": [
      "C:\\Users\\Ryan\\AppData\\Local\\Temp/ipykernel_11256/144893144.py:362: RuntimeWarning: divide by zero encountered in log\n",
      "  loss = (1/X.shape[0])*np.sum(-y*np.log(predictions)-(1-y)*np.log(1-predictions))\n",
      "C:\\Users\\Ryan\\AppData\\Local\\Temp/ipykernel_11256/144893144.py:362: RuntimeWarning: invalid value encountered in multiply\n",
      "  loss = (1/X.shape[0])*np.sum(-y*np.log(predictions)-(1-y)*np.log(1-predictions))\n"
     ]
    },
    {
     "name": "stdout",
     "output_type": "stream",
     "text": [
      "[INFO] epoch = 97, loss = nan, validation loss = nan training accuracy = 1.000, validation accuracy = 0.978\n"
     ]
    },
    {
     "name": "stderr",
     "output_type": "stream",
     "text": [
      "C:\\Users\\Ryan\\AppData\\Local\\Temp/ipykernel_11256/144893144.py:362: RuntimeWarning: divide by zero encountered in log\n",
      "  loss = (1/X.shape[0])*np.sum(-y*np.log(predictions)-(1-y)*np.log(1-predictions))\n",
      "C:\\Users\\Ryan\\AppData\\Local\\Temp/ipykernel_11256/144893144.py:362: RuntimeWarning: invalid value encountered in multiply\n",
      "  loss = (1/X.shape[0])*np.sum(-y*np.log(predictions)-(1-y)*np.log(1-predictions))\n"
     ]
    },
    {
     "name": "stdout",
     "output_type": "stream",
     "text": [
      "[INFO] epoch = 98, loss = nan, validation loss = nan training accuracy = 1.000, validation accuracy = 0.977\n"
     ]
    },
    {
     "name": "stderr",
     "output_type": "stream",
     "text": [
      "C:\\Users\\Ryan\\AppData\\Local\\Temp/ipykernel_11256/144893144.py:362: RuntimeWarning: divide by zero encountered in log\n",
      "  loss = (1/X.shape[0])*np.sum(-y*np.log(predictions)-(1-y)*np.log(1-predictions))\n",
      "C:\\Users\\Ryan\\AppData\\Local\\Temp/ipykernel_11256/144893144.py:362: RuntimeWarning: invalid value encountered in multiply\n",
      "  loss = (1/X.shape[0])*np.sum(-y*np.log(predictions)-(1-y)*np.log(1-predictions))\n"
     ]
    },
    {
     "name": "stdout",
     "output_type": "stream",
     "text": [
      "[INFO] epoch = 99, loss = nan, validation loss = nan training accuracy = 1.000, validation accuracy = 0.977\n"
     ]
    },
    {
     "name": "stderr",
     "output_type": "stream",
     "text": [
      "C:\\Users\\Ryan\\AppData\\Local\\Temp/ipykernel_11256/144893144.py:362: RuntimeWarning: divide by zero encountered in log\n",
      "  loss = (1/X.shape[0])*np.sum(-y*np.log(predictions)-(1-y)*np.log(1-predictions))\n",
      "C:\\Users\\Ryan\\AppData\\Local\\Temp/ipykernel_11256/144893144.py:362: RuntimeWarning: invalid value encountered in multiply\n",
      "  loss = (1/X.shape[0])*np.sum(-y*np.log(predictions)-(1-y)*np.log(1-predictions))\n"
     ]
    },
    {
     "name": "stdout",
     "output_type": "stream",
     "text": [
      "[INFO] epoch = 100, loss = nan, validation loss = nan training accuracy = 1.000, validation accuracy = 0.978\n",
      "Test set accuracy\n",
      "              precision    recall  f1-score   support\n",
      "\n",
      "           0       1.00      0.99      0.99       495\n",
      "           1       0.99      0.99      0.99       575\n",
      "           2       0.97      0.98      0.98       537\n",
      "           3       0.97      0.98      0.97       481\n",
      "           4       0.97      0.98      0.97       512\n",
      "           5       0.99      0.98      0.98       442\n",
      "           6       1.00      0.98      0.99       491\n",
      "           7       0.98      0.98      0.98       506\n",
      "           8       0.98      0.97      0.97       489\n",
      "           9       0.96      0.98      0.97       472\n",
      "\n",
      "    accuracy                           0.98      5000\n",
      "   macro avg       0.98      0.98      0.98      5000\n",
      "weighted avg       0.98      0.98      0.98      5000\n",
      "\n"
     ]
    },
    {
     "data": {
      "image/png": "[encoded data removed]",
      "text/plain": [
       "<Figure size 432x288 with 2 Axes>"
      ]
     },
     "metadata": {
      "needs_background": "light"
     },
     "output_type": "display_data"
    }
   ],
   "source": [
    "# load mnist data\n",
    "((trainX, trainY), (testX, testY)) = mnist.load_data()\n",
    "\n",
    "# scale the data to values in [0,1]\n",
    "trainX = trainX/255.0\n",
    "testX = testX/255.0\n",
    "\n",
    "# reshape the data to a vector\n",
    "trainX = trainX.reshape([60000, 28*28])\n",
    "testX = testX.reshape([10000, 28*28])\n",
    "\n",
    "# split test data into validation and test sets\n",
    "valX, testX, valY, testY = train_test_split(testX, testY, test_size = 0.5)\n",
    "\n",
    "# create a model\n",
    "model = FeedforwardNeuralNetwork([784, 64, 32, 10], 0.001, activations = 'ReLU', initialization = ['Glorot', 'normal'], loss = 'cross-entropy')\n",
    "\n",
    "# fit the model to the training data\n",
    "model.fit(trainX, trainY, valX, valY, 100, 1)\n",
    "\n",
    "print(\"Test set accuracy\")\n",
    "testY = to_categorical(testY)\n",
    "predictedY = model.predict(testX)\n",
    "predictedY = predictedY.argmax(axis=1)\n",
    "\n",
    "testY = testY.argmax(axis=1)\n",
    "print(classification_report(testY, predictedY))"
   ]
  },
  {
   "cell_type": "markdown",
   "id": "b6e82590-8823-4372-87a2-bd5adc06d91b",
   "metadata": {},
   "source": [
    "Note the numpy implementation of the logarithm runs into errors sometimes when the predicted y values are very near 0 or very near 1 since this results in the log of a tiny value, which causes an overflow. However, it will be an expression like $y\\log y$ with $y\\to 0$ or $(1-y)\\log(1-y)$ with $y\\to 1$, each of which is 0 in the limit.\n",
    "\n",
    "The best test accuracy occurs with the [784, 64, 10] and [784, 64, 32, 10] networks. They have nearly the same accuracy, so the smaller [784, 64, 10] network would be preferred since it fits and predicts faster."
   ]
  }
 ],
 "metadata": {
  "kernelspec": {
   "display_name": "Python 3 (ipykernel)",
   "language": "python",
   "name": "python3"
  },
  "language_info": {
   "codemirror_mode": {
    "name": "ipython",
    "version": 3
   },
   "file_extension": ".py",
   "mimetype": "text/x-python",
   "name": "python",
   "nbconvert_exporter": "python",
   "pygments_lexer": "ipython3",
   "version": "3.10.1"
  }
 },
 "nbformat": 4,
 "nbformat_minor": 5
}
