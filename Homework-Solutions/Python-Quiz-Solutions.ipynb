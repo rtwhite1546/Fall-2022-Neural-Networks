{
 "cells": [
  {
   "cell_type": "markdown",
   "metadata": {
    "id": "R9cPpBDMtZhK",
    "tags": []
   },
   "source": [
    "# MTH 4320/5320 Python Quiz"
   ]
  },
  {
   "cell_type": "markdown",
   "metadata": {
    "id": "tb4gSaIPtfNo"
   },
   "source": [
    "## Problem 1\n",
    "\n",
    "\n",
    "(a) Write a function that takes one input, which can be an integer or a string, checks if the input integer or string is a palindrome, prints a message stating the datetype and whether or not it is a palindrome, returns True if it is a palindrome, and returns False if not.\n",
    "\n",
    "If a different datatype is input to the function, it should print a descriptive failure message, but it should **not** return anything."
   ]
  },
  {
   "cell_type": "code",
   "execution_count": 1,
   "metadata": {
    "id": "j2-YofTstOG3"
   },
   "outputs": [],
   "source": [
    "def is_palindrome(input, verbose = True):\n",
    "    \n",
    "    input_type = type(input)\n",
    "    \n",
    "    if verbose: print('The input is of type', input_type)\n",
    "\n",
    "    if input_type is not int and input_type is not str:\n",
    "        print('is_palindrome failed: the inputmust be a string or integer')\n",
    "\n",
    "    else:\n",
    "        if input_type is int:\n",
    "            input = str(input)\n",
    "\n",
    "        if input == input[::-1]:\n",
    "            if verbose: print(input, 'is a palindrome')\n",
    "            return True\n",
    "\n",
    "        else:\n",
    "            if verbose: print(input, 'is not a palindrome')\n",
    "            return False"
   ]
  },
  {
   "cell_type": "markdown",
   "metadata": {
    "id": "wHv6hHaNvyR0"
   },
   "source": [
    "(b) Run it for some examples of strings and integers that are and are not palindromes and examples of other datatypes to demonstrate it works.\n",
    "\n",
    "We will run it for\n",
    "\n",
    "* 2 integers that are palindromes\n",
    "* 2 integers that are not palindromes\n",
    "* 2 strings that are palindromes\n",
    "* 2 strings that are not palindromes\n",
    "* 2 non-integer, non-string inputs to demonstrate failure behavior"
   ]
  },
  {
   "cell_type": "code",
   "execution_count": 2,
   "metadata": {
    "colab": {
     "base_uri": "https://localhost:8080/"
    },
    "id": "himGIwAcvDsk",
    "outputId": "a54bf434-35ad-4943-abe1-9db6332d72c1"
   },
   "outputs": [
    {
     "name": "stdout",
     "output_type": "stream",
     "text": [
      "The input is of type <class 'int'>\n",
      "1991 is a palindrome\n",
      "True \n",
      "\n",
      "The input is of type <class 'int'>\n",
      "3289823 is a palindrome\n",
      "True \n",
      "\n",
      "The input is of type <class 'int'>\n",
      "43 is not a palindrome\n",
      "False \n",
      "\n",
      "The input is of type <class 'int'>\n",
      "412 is not a palindrome\n",
      "False \n",
      "\n",
      "The input is of type <class 'str'>\n",
      "deified is a palindrome\n",
      "True \n",
      "\n",
      "The input is of type <class 'str'>\n",
      "racecar is a palindrome\n",
      "True \n",
      "\n",
      "The input is of type <class 'str'>\n",
      "wtf is not a palindrome\n",
      "False \n",
      "\n",
      "The input is of type <class 'str'>\n",
      "neural networks is not a palindrome\n",
      "False \n",
      "\n",
      "The input is of type <class 'list'>\n",
      "is_palindrome failed: the inputmust be a string or integer\n",
      "None \n",
      "\n",
      "The input is of type <class 'float'>\n",
      "is_palindrome failed: the inputmust be a string or integer\n",
      "None \n",
      "\n"
     ]
    }
   ],
   "source": [
    "int_palindrome = [1991, 3289823]\n",
    "int_not_palindrome = [43, 412]\n",
    "\n",
    "str_palindrome = ['deified', 'racecar']\n",
    "str_not_palindrome = ['wtf', 'neural networks']\n",
    "\n",
    "not_int_not_string = [[1, 9, 9, 1], 58.303]\n",
    "\n",
    "test_cases = int_palindrome + int_not_palindrome\n",
    "test_cases += str_palindrome + str_not_palindrome\n",
    "test_cases += not_int_not_string\n",
    "\n",
    "for x in test_cases:\n",
    "    print(is_palindrome(x), '\\n')"
   ]
  },
  {
   "cell_type": "markdown",
   "metadata": {
    "id": "FnKS2em-ynKL"
   },
   "source": [
    "(c) Use your function in a loop to find all palindromes in the Academic Advising text transcript from the [Michigan Corpus of Academic Spoken English](https://quod.lib.umich.edu/cgi/c/corpus/corpus?c=micase;cc=micase;view=transcript;id=ADV700JU047).\n",
    "\n",
    "(d) Write some code to construct a list of the unique palindromes in the text.\n",
    "\n",
    "First, let's extract the text from the URL and clean it up."
   ]
  },
  {
   "cell_type": "code",
   "execution_count": 3,
   "metadata": {
    "id": "oosiQ0KNvGlv"
   },
   "outputs": [],
   "source": [
    "import re\n",
    "\n",
    "from urllib.request import urlopen\n",
    "from bs4 import BeautifulSoup\n",
    "\n",
    "# open URL\n",
    "url = 'https://quod.lib.umich.edu/cgi/c/corpus/corpus?c=micase;cc=micase;view=transcript;id=ADV700JU047'\n",
    "html = urlopen(url).read()\n",
    "\n",
    "# create an html parser\n",
    "soup = BeautifulSoup(html, features = 'html.parser')\n",
    "\n",
    "# get text\n",
    "text = soup.get_text()\n",
    "\n",
    "# remove symbols\n",
    "for char in '()/<>:[].!?-\\'':\n",
    "    text = text.replace(char, ' ')\n",
    "\n",
    "# make text all lowercase\n",
    "text = text.lower()"
   ]
  },
  {
   "cell_type": "code",
   "execution_count": 4,
   "metadata": {
    "colab": {
     "base_uri": "https://localhost:8080/"
    },
    "id": "zJlZ-fdozC9O",
    "outputId": "1d62e6ec-89e9-4485-a7aa-384ebfe734ac"
   },
   "outputs": [
    {
     "name": "stdout",
     "output_type": "stream",
     "text": [
      "['xx', 'mhm', 'mm', 'stats', 'did', 'll', 'level', 'nitin', 'non', 'yay', 'ss', 'refer', '11', 'wow', 'sees', 'huh', 'ele']\n"
     ]
    }
   ],
   "source": [
    "# split text into words\n",
    "words = text.split()\n",
    "\n",
    "# create a list to store palindromes\n",
    "palindromes = []\n",
    "\n",
    "# loop over the words\n",
    "for word in words:\n",
    "    if word not in palindromes and len(word) > 1:\n",
    "        if is_palindrome(word, verbose = False):\n",
    "            palindromes.append(word)\n",
    "\n",
    "print(palindromes)"
   ]
  },
  {
   "cell_type": "markdown",
   "metadata": {
    "id": "_X3l-WGp5xGi"
   },
   "source": [
    "## Problem 2"
   ]
  },
  {
   "cell_type": "markdown",
   "metadata": {
    "id": "oKxaq4Mo52Se"
   },
   "source": [
    "(a) Write a function that uses gradient descent that attempts to minimize an input function of two variables, but instead of just one starting point, create a grid of starting points evenly spaced within a region $[-c, c]\\times [-c, c]$ for user-input $c$, and a number of grid points $b^2$ for user-input $b$.\n",
    "\n",
    "The function should run multiple instances of gradient descent methods, one starting at each of the gridpoints, and return the coordinates of the best minimum that was found."
   ]
  },
  {
   "cell_type": "markdown",
   "metadata": {
    "id": "lKYrAtJM53zX"
   },
   "source": [
    "Let's bring in the gradient descent code from class."
   ]
  },
  {
   "cell_type": "code",
   "execution_count": 5,
   "metadata": {
    "id": "YTwk7VvL5WfX"
   },
   "outputs": [],
   "source": [
    "import numpy as np\n",
    "\n",
    "# estimate the gradient\n",
    "def computeGradient(f, x, h):\n",
    "    n = len(x)\n",
    "    gradient = np.zeros(n)\n",
    "    \n",
    "    for counter in range(n):\n",
    "        xUp = x.copy()\n",
    "        xUp[counter] += h\n",
    "        gradient[counter] = (f(xUp) - f(x))/h\n",
    "            \n",
    "    return gradient\n",
    "\n",
    "# run gradient descent and output the coordinates of the estimated critical point\n",
    "def gradientDescent(f, x0, alpha, h, tolerance, maxIterations, verbose = True):\n",
    "    # set x equal to the initial guess\n",
    "    x = x0\n",
    "\n",
    "    # take up to maxIterations number of steps\n",
    "    for counter in range(maxIterations):\n",
    "        # update the gradient\n",
    "        gradient = computeGradient(f, x, h)\n",
    "        \n",
    "        # stop if the norm of the gradient is near 0 (success)\n",
    "        if np.linalg.norm(gradient) < tolerance:\n",
    "            if verbose: print('Gradient descent took', counter, 'iterations to converge')\n",
    "            if verbose: print('The norm of the gradient is', np.linalg.norm(gradient))\n",
    "            \n",
    "            # return the approximate critical point x\n",
    "            return x\n",
    "        \n",
    "        # print a message if we do not converge (failure)\n",
    "        elif counter == maxIterations-1:\n",
    "            if verbose:\n",
    "                print(\"Gradient descent failed\")\n",
    "                print('The gradient is', gradient)\n",
    "            \n",
    "            # return x, sometimes it is still pretty good\n",
    "            return x\n",
    "        \n",
    "        # take a step in the opposite direction as the gradient\n",
    "        x -= alpha*gradient"
   ]
  },
  {
   "cell_type": "markdown",
   "metadata": {
    "id": "mUQM50ED6Pnz"
   },
   "source": [
    "Now, we solve (a)..."
   ]
  },
  {
   "cell_type": "code",
   "execution_count": 6,
   "metadata": {
    "id": "Y7N0B6vy6Nhp"
   },
   "outputs": [],
   "source": [
    "def gridGradientDescent(c, b, f, alpha, h, tolerance, maxIterations):\n",
    "    # create grid intersection points\n",
    "    x_space = np.linspace(-1 * c, c, b)\n",
    "    y_space = np.linspace(-1 * c, c, b)\n",
    "\n",
    "    # initialize the best input and output (minimum)\n",
    "    best_output = np.Inf\n",
    "    best_input = 0\n",
    "\n",
    "    # initialize \n",
    "    converged_inputs = []\n",
    "    converged_outputs = []\n",
    "\n",
    "    # loop over x values of grid intersections\n",
    "    for x in x_space:\n",
    "        inputs = []\n",
    "        outputs = []\n",
    "\n",
    "        # loop over y values of grid intersections\n",
    "        for y in y_space:\n",
    "\n",
    "            # run gradient descent from grid intersection to get (x,y) positions\n",
    "            # gradient descent converged to\n",
    "            converged_input = gradientDescent(f, [x, y], alpha, h, tolerance, maxIterations, False)\n",
    "            inputs.append(converged_input)\n",
    "\n",
    "            # compute the output at the (x,y) gradient descent converged to\n",
    "            converged_output = f(converged_input)\n",
    "            outputs.append(converged_output)\n",
    "\n",
    "            # if the current minimum is better than previous ones, save it\n",
    "            if converged_output < best_output:\n",
    "                best_input = converged_input\n",
    "                best_output = converged_output\n",
    "                \n",
    "        converged_inputs.append(inputs)\n",
    "        converged_outputs.append(outputs)\n",
    "\n",
    "    # return the best input, best minimum, and all minima\n",
    "    return best_input, best_output, converged_outputs"
   ]
  },
  {
   "cell_type": "markdown",
   "metadata": {
    "id": "1fCOJE5q9YDW"
   },
   "source": [
    "(b) Create a Python function for the mathematical function\n",
    "\n",
    "$$f(x,y)=3(1-x)^2e^{-x^2-(y+1)^2}-10\\left(\\frac{x}{5}-x^3-y^5\\right)e^{-x^2-y^2}-\\frac{1}{3}e^{-(x+1)^2-y^2}$$"
   ]
  },
  {
   "cell_type": "code",
   "execution_count": 7,
   "metadata": {
    "id": "XmNCS15e8RBn"
   },
   "outputs": [],
   "source": [
    "def f(input):\n",
    "    x = input[0]\n",
    "    y = input[1]\n",
    "\n",
    "    term1 = 3 * (1 - x)**2 * np.exp(-x**2 - (y + 1)**2)\n",
    "    term2 = 10 * (x/5 - x**3 - y**5) * np.exp(-x**2 - y**2)\n",
    "    term3 = (1/3) * np.exp(-(x + 1)**2 - y**2)\n",
    "\n",
    "    return term1 - term2 - term3"
   ]
  },
  {
   "cell_type": "markdown",
   "metadata": {
    "id": "NssUDhKl9o3W"
   },
   "source": [
    "(c) Use your gradient descent function in $[-5,5]\\times[-5,5]$ for a range of $b$ values. For each, plot a heat map of the function value gradient descent converges to at each grid point.\n",
    "\n",
    "[*Hint.* Consider the `matplotlib` library.]"
   ]
  },
  {
   "cell_type": "code",
   "execution_count": 8,
   "metadata": {
    "colab": {
     "base_uri": "https://localhost:8080/",
     "height": 740
    },
    "id": "XyAipDdO8Pmm",
    "outputId": "019c6fe7-cdd3-458d-baa4-efdaa864bd08"
   },
   "outputs": [
    {
     "name": "stdout",
     "output_type": "stream",
     "text": [
      "b is 3\n",
      "The converged input is [0.29203318 0.31461682]\n",
      "The best minimum is -0.0646485150802468 \n",
      "\n",
      "b is 5\n",
      "The converged input is [ 0.22169132 -1.63150822]\n",
      "The best minimum is -6.550350615825662 \n",
      "\n",
      "b is 10\n",
      "The converged input is [ 0.22264357 -1.63117796]\n",
      "The best minimum is -6.55048913893635 \n",
      "\n",
      "b is 20\n",
      "The converged input is [ 0.22267123 -1.63116594]\n",
      "The best minimum is -6.550493234848103 \n",
      "\n"
     ]
    },
    {
     "data": {
      "image/png": "[encoded data removed]",
      "text/plain": [
       "<Figure size 2160x576 with 5 Axes>"
      ]
     },
     "metadata": {
      "needs_background": "light"
     },
     "output_type": "display_data"
    }
   ],
   "source": [
    "import matplotlib.pyplot as plt\n",
    "import seaborn as sns\n",
    "\n",
    "# range of b values to use\n",
    "b_list = [3, 5, 10, 20]\n",
    "\n",
    "# use [-5, 5] x [-5, 5]\n",
    "c = 5\n",
    "\n",
    "cbar = False\n",
    "\n",
    "# create subplot axes\n",
    "fig, axes = plt.subplots(1, len(b_list), figsize = (30, 8))\n",
    "\n",
    "# loop over b values\n",
    "for k, b in enumerate(b_list):\n",
    "    print('b is', b)\n",
    "\n",
    "    # compute grid gradient descent to find best input, minimum, and matrix of\n",
    "    # outputs when starting from each grid intersection\n",
    "    input, output, converged_outputs = gridGradientDescent(c, b, f, 0.01, 0.01, 0.01, 1000)\n",
    "\n",
    "    print('The converged input is', input)\n",
    "    print('The best minimum is', output, '\\n')\n",
    "\n",
    "    # plot a heatmap of converged outputs\n",
    "    if b == b_list[-1]: cbar = True\n",
    "    \n",
    "    sns.heatmap(converged_outputs, vmin = -7, vmax = 0, xticklabels = False, yticklabels = False, ax=axes[k], cbar = cbar)\n",
    "    axes[k].set_title('Heat map for b = ' + str(b))"
   ]
  },
  {
   "cell_type": "markdown",
   "metadata": {
    "id": "6zacIOUhMDBY"
   },
   "source": [
    "As $b$ grows, the mesh of starting points becomes finer, and we are more likely to find the global minimum."
   ]
  }
 ],
 "metadata": {
  "colab": {
   "collapsed_sections": [],
   "provenance": []
  },
  "kernelspec": {
   "display_name": "Python 3 (ipykernel)",
   "language": "python",
   "name": "python3"
  },
  "language_info": {
   "codemirror_mode": {
    "name": "ipython",
    "version": 3
   },
   "file_extension": ".py",
   "mimetype": "text/x-python",
   "name": "python",
   "nbconvert_exporter": "python",
   "pygments_lexer": "ipython3",
   "version": "3.10.1"
  }
 },
 "nbformat": 4,
 "nbformat_minor": 4
}
